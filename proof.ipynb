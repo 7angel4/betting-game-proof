{
 "cells": [
  {
   "cell_type": "code",
   "execution_count": 1,
   "id": "64d92b5e",
   "metadata": {},
   "outputs": [],
   "source": [
    "import numpy as np\n",
    "from sympy import symbols, And, Not, simplify, solve, reduce_inequalities\n",
    "%run constants.ipynb\n",
    "%run li_handler.ipynb"
   ]
  },
  {
   "cell_type": "code",
   "execution_count": 2,
   "id": "a6490ea4",
   "metadata": {},
   "outputs": [],
   "source": [
    "def no_loser(a,b,c):\n",
    "    return [simplify(i) for i in [a>0, b>0, c>0]]"
   ]
  },
  {
   "cell_type": "code",
   "execution_count": 3,
   "id": "637d28dd",
   "metadata": {},
   "outputs": [],
   "source": [
    "def parentStates(a,b,c, r=V):\n",
    "    return [s for s in \n",
    "            [(2*a,b-a,c), (2*a,b,c-a),\n",
    "            (a-b,2*b,c), (a,2*b,c-b),\n",
    "            (a-c,b,2*c), (a,b-c,2*c)] \n",
    "            if feasible(*no_loser(*s), r=r)]"
   ]
  },
  {
   "cell_type": "code",
   "execution_count": 4,
   "id": "e25cfe35",
   "metadata": {},
   "outputs": [],
   "source": [
    "@memoized\n",
    "def coef(n):\n",
    "    return 1/(6**n)"
   ]
  },
  {
   "cell_type": "code",
   "execution_count": 5,
   "id": "c8f135da",
   "metadata": {},
   "outputs": [],
   "source": [
    "def concat(ls):\n",
    "    ''' Flatten 2D list. '''\n",
    "    return [j for l in ls for j in l]"
   ]
  },
  {
   "cell_type": "code",
   "execution_count": 6,
   "id": "5679a638",
   "metadata": {},
   "outputs": [],
   "source": [
    "from itertools import product\n",
    "\n",
    "def h_mult(n,a,b,c):\n",
    "    return non_redundant(*no_loser(a,b,c), r=V)\n",
    "\n",
    "def mult_inds(inds, prereqs, r=V):\n",
    "    '''\n",
    "    prereqs * sum(inds), keeping only non-redundant indicators in `prereqs` given restriction `r`.\n",
    "    '''\n",
    "    return [i + [p for p in non_redundant(*prereqs, r=V+i)] for i in inds]\n",
    "\n",
    "@memoized\n",
    "def h(n,a,b,c):\n",
    "    ''' Returns the additive indicators of h_n(a,b,c), as a 2D list. '''\n",
    "    # constant coef = (1/6)^n\n",
    "    # so we only keep track of the indicators to be summed up\n",
    "    if n == 1:\n",
    "        return mult_inds([[simplify(a<=b)], [simplify(a<=c)]], h_mult(1,a,b,c))\n",
    "    # list of inequalities representing the region Rn\n",
    "    return mult_inds(concat([h(n-1, *s) for s in parentStates(a,b,c)]), \n",
    "                     h_mult(n,a,b,c))"
   ]
  },
  {
   "cell_type": "code",
   "execution_count": 8,
   "id": "adf57626",
   "metadata": {},
   "outputs": [
    {
     "data": {
      "text/plain": [
       "[[y >= 7*x],\n",
       " [4*x <= z, y > 3*x],\n",
       " [y >= 5*x],\n",
       " [z >= 6*x],\n",
       " [5*x <= 3*y, y < 3*x],\n",
       " [3*x <= y + z, y < 3*x],\n",
       " [y >= 2*x],\n",
       " [x <= -y + z],\n",
       " [3*x <= y + z, z < 2*x],\n",
       " [2*x <= 3*z, z < 2*x],\n",
       " [y >= 6*x],\n",
       " [z >= 5*x, y > 2*x],\n",
       " [4*x <= y],\n",
       " [z >= 7*x],\n",
       " [2*x <= 3*y, y < 2*x],\n",
       " [3*x <= y + z, y < 2*x],\n",
       " [x <= y, x < -y + z],\n",
       " [3*x <= -y + z],\n",
       " [3*x <= y + z, z < 3*x],\n",
       " [5*x <= 3*z, z < 3*x],\n",
       " [x <= y - z],\n",
       " [z >= 2*x, x > -y + z],\n",
       " [3*x <= 2*y],\n",
       " [2*x <= -y + z],\n",
       " [x <= y, x < -y + z],\n",
       " [3*x <= -y + z],\n",
       " [x <= 4*y, z > 3*y],\n",
       " [x <= -3*y + z],\n",
       " [x <= y + z, x > -y + z],\n",
       " [x <= -3*y + 3*z, x > -y + z],\n",
       " [x <= 3*y - z],\n",
       " [x <= -2*y + 2*z, z < 3*y]]"
      ]
     },
     "execution_count": 8,
     "metadata": {},
     "output_type": "execute_result"
    }
   ],
   "source": [
    "# h(3,x,y,z)"
   ]
  },
  {
   "cell_type": "code",
   "execution_count": 9,
   "id": "6358c988",
   "metadata": {},
   "outputs": [
    {
     "data": {
      "text/plain": [
       "[[x >= 2*y], [z >= 3*y], [y <= 3*x], [x >= y - z], [2*x >= y], [x <= -y + z]]"
      ]
     },
     "execution_count": 9,
     "metadata": {},
     "output_type": "execute_result"
    }
   ],
   "source": [
    "# h(2,y,x,z)"
   ]
  },
  {
   "cell_type": "code",
   "execution_count": null,
   "id": "16d0e1ee",
   "metadata": {},
   "outputs": [],
   "source": [
    "def f(n, r):\n",
    "    @memoized\n",
    "    def sum_dh(n):\n",
    "        if n == 1:\n",
    "            return DH(1,x,y,z).lb(r)\n",
    "        return DH(n,x,y,z).lb(r) + sum_dh(n-1)\n",
    "    return sum_dh(n)"
   ]
  },
  {
   "cell_type": "code",
   "execution_count": null,
   "id": "467281fd",
   "metadata": {},
   "outputs": [],
   "source": [
    "@memoized\n",
    "def all_inds(n,x,y,z):\n",
    "    if n < 1:\n",
    "        return H(n,x,y,z).indsall_inds(n-1,x,y,z)\n",
    "    return \n",
    "\n",
    "def run(n):\n",
    "    d = dh(n,x,y,z)\n",
    "    checked = []\n",
    "    for r in d.pos.inds:\n",
    "        for s in d.neg.inds:\n",
    "            fval = f(n, [r,s] + checked)\n",
    "            print([r,s] + checked, fval)\n",
    "            if fval <= thresh(n):\n",
    "                print(\"Failed!\")\n",
    "                return False\n",
    "        checked += [Not(r)]\n",
    "    return True\n",
    "\n",
    "# Optimizations\n",
    "# Only check when pos predicates false, and neg predicates true"
   ]
  },
  {
   "cell_type": "code",
   "execution_count": null,
   "id": "317619c8",
   "metadata": {},
   "outputs": [],
   "source": [
    "def loop(n):\n",
    "    while True:\n",
    "        print(f'n = {n}')\n",
    "        if run(n):\n",
    "            print(n)\n",
    "            break\n",
    "        else:\n",
    "            n += 1"
   ]
  },
  {
   "cell_type": "code",
   "execution_count": null,
   "id": "eb3b2498",
   "metadata": {},
   "outputs": [],
   "source": []
  },
  {
   "cell_type": "code",
   "execution_count": null,
   "id": "0f9a186b",
   "metadata": {},
   "outputs": [],
   "source": []
  },
  {
   "cell_type": "code",
   "execution_count": null,
   "id": "a8109b9c",
   "metadata": {},
   "outputs": [],
   "source": []
  },
  {
   "cell_type": "code",
   "execution_count": null,
   "id": "6ecfbb86",
   "metadata": {},
   "outputs": [],
   "source": []
  },
  {
   "cell_type": "code",
   "execution_count": null,
   "id": "e7d3806d",
   "metadata": {},
   "outputs": [],
   "source": []
  }
 ],
 "metadata": {
  "kernelspec": {
   "display_name": "Python 3 (ipykernel)",
   "language": "python",
   "name": "python3"
  },
  "language_info": {
   "codemirror_mode": {
    "name": "ipython",
    "version": 3
   },
   "file_extension": ".py",
   "mimetype": "text/x-python",
   "name": "python",
   "nbconvert_exporter": "python",
   "pygments_lexer": "ipython3",
   "version": "3.9.18"
  }
 },
 "nbformat": 4,
 "nbformat_minor": 5
}
