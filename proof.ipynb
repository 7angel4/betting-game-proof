{
 "cells": [
  {
   "cell_type": "code",
   "execution_count": 618,
   "id": "64d92b5e",
   "metadata": {},
   "outputs": [],
   "source": [
    "import numpy as np\n",
    "from sympy import symbols, And, Not, simplify, solve, reduce_inequalities\n",
    "%run constants.ipynb\n",
    "%run li_handler.ipynb"
   ]
  },
  {
   "cell_type": "code",
   "execution_count": 2,
   "id": "5249777d",
   "metadata": {},
   "outputs": [],
   "source": [
    "def no_loser(a,b,c):\n",
    "    return [simplify(i) for i in [a>0, b>0, c>0]]"
   ]
  },
  {
   "cell_type": "code",
   "execution_count": 3,
   "id": "637d28dd",
   "metadata": {},
   "outputs": [],
   "source": [
    "def parentStates(a,b,c, r=V):\n",
    "    return [s for s in \n",
    "            [(2*a,b-a,c), (2*a,b,c-a),\n",
    "            (a-b,2*b,c), (a,2*b,c-b),\n",
    "            (a-c,b,2*c), (a,b-c,2*c)] \n",
    "            if feasible(*no_loser(*s), r=r)]"
   ]
  },
  {
   "cell_type": "code",
   "execution_count": 4,
   "id": "7d351751",
   "metadata": {},
   "outputs": [],
   "source": [
    "@memoized\n",
    "def coef(n):\n",
    "    return 1/(6**n)"
   ]
  },
  {
   "cell_type": "code",
   "execution_count": 5,
   "id": "b8a1ec02",
   "metadata": {},
   "outputs": [],
   "source": [
    "def concat(ls):\n",
    "    ''' Flatten 2D list. '''\n",
    "    return [j for l in ls for j in l]"
   ]
  },
  {
   "cell_type": "code",
   "execution_count": 8,
   "id": "3ad06e04",
   "metadata": {},
   "outputs": [],
   "source": [
    "import csv\n",
    "from itertools import islice\n",
    "\n",
    "def read(filename, min_n=1, max_n=5):\n",
    "    hs = {}\n",
    "    with open(filename, 'r') as fp:\n",
    "        reader = islice(csv.reader(fp), min_n-1, max_n)\n",
    "        for row in reader:\n",
    "            n, c, rs = row\n",
    "            # parse entries\n",
    "            hs[int(n)] = (int(c), sympify(rs))\n",
    "    return hs"
   ]
  },
  {
   "cell_type": "code",
   "execution_count": 7,
   "id": "5679a638",
   "metadata": {},
   "outputs": [],
   "source": [
    "def h_mult(n,a,b,c):\n",
    "    return non_redundant(*no_loser(a,b,c), r=V)\n",
    "\n",
    "def mult_inds(inds, prereqs, r=V):\n",
    "    '''\n",
    "    prereqs * sum(inds), keeping only non-redundant indicators in `prereqs` given restriction `r`.\n",
    "    '''\n",
    "    return [i + [p for p in non_redundant(*prereqs, r=V+i)] for i in inds]\n",
    "\n",
    "@memoized\n",
    "def _h(n,a,b,c):\n",
    "    ''' Returns the additive indicators of h_n(a,b,c), as a 2D list. '''\n",
    "    # constant coef = (1/6)^n\n",
    "    # so we only keep track of the indicators to be summed up\n",
    "    if n == 1:\n",
    "        return mult_inds([[simplify(a<=b)], [simplify(a<=c)]], h_mult(1,a,b,c))\n",
    "    # list of inequalities representing the region Rn\n",
    "    return mult_inds(concat([_h(n-1, *s) for s in parentStates(a,b,c)]), \n",
    "                     h_mult(n,a,b,c))\n",
    "\n",
    "@memoized\n",
    "def h(n,a,b,c, regenerate):\n",
    "    if regenerate:\n",
    "        return reduce(_h(n,a,b,c), r=V)\n",
    "    else:\n",
    "        if (a,b,c) == (y,x,z):\n",
    "            return read(H_YXZ_CACHE, max_n=n)[n]\n",
    "        else:\n",
    "            return read(H_XYZ_CACHE, max_n=n)[n]"
   ]
  },
  {
   "cell_type": "markdown",
   "id": "ae073e9b",
   "metadata": {},
   "source": [
    "# Use xyz"
   ]
  },
  {
   "cell_type": "code",
   "execution_count": null,
   "id": "d071e402",
   "metadata": {},
   "outputs": [],
   "source": [
    "import gurobipy as gp\n",
    "from gurobipy import GRB\n",
    "from itertools import repeat"
   ]
  },
  {
   "cell_type": "code",
   "execution_count": 700,
   "id": "4fc9a01b",
   "metadata": {},
   "outputs": [],
   "source": [
    "n = 3\n",
    "H_XYZ = read(H_XYZ_CACHE, min_n=1, max_n=n)\n",
    "H_YXZ = read(H_YXZ_CACHE, min_n=1, max_n=n)\n",
    "all_pos_inds = [H_XYZ[i][1] for i in range(1,n+1)]\n",
    "all_neg_inds = [H_YXZ[i][1] for i in range(1,n+1)]\n",
    "n_pos = len(concat(concat(all_pos_inds)))\n",
    "n_neg = len(concat(concat(all_neg_inds)))\n",
    "pos_coefs = [coef(i) for i in range(1,n+1)]\n",
    "neg_coefs = [-c for c in pos_coefs]\n",
    "pos_cs = concat([repeat(j, k) for j,k in zip(pos_coefs, [len(concat(ps)) for ps in all_pos_inds])])\n",
    "neg_cs = concat([repeat(j, k) for j,k in zip(neg_coefs, [len(concat(ns)) for ns in all_neg_inds])])\n",
    "const = sum([coef(i)*(H_XYZ[i][0] - H_YXZ[i][0]) for i in range(1,n+1)])"
   ]
  },
  {
   "cell_type": "code",
   "execution_count": 687,
   "id": "8178d8ad",
   "metadata": {},
   "outputs": [],
   "source": [
    "model = gp.Model()\n",
    "# model.Params.LazyConstraints = 1\n",
    "model.Params.OutputFlag = 1\n",
    "model.Params.LogToConsole = 1\n",
    "# model.Params.MIPFocus = 1\n",
    "# model.Params.Heuristics = 1\n",
    "# model.Params.CliqueCuts = 1\n",
    "# model.Params.FeasibilityTol = 1e-9\n",
    "# model.Params.IntFeasTol = 1e-9\n",
    "# model.Params.MarkowitzTol = 1e-4\n",
    "# model.Params.NodeLimit = 10000\n",
    "pos_inds = model.addVars(n_pos, vtype=GRB.BINARY, name='pos_inds')\n",
    "neg_inds = model.addVars(n_neg, vtype=GRB.BINARY, name='neg_inds')\n",
    "gx = model.addVar(lb=0, vtype='I', name='x')\n",
    "gy = model.addVar(lb=1, vtype='I', name='y')\n",
    "gz = model.addVar(lb=2, vtype='I', name='z')"
   ]
  },
  {
   "cell_type": "code",
   "execution_count": 688,
   "id": "4b6c8a0d",
   "metadata": {},
   "outputs": [],
   "source": [
    "obj = gp.quicksum([pos_cs[i]*pos_inds[i] for i in range(n_pos)]) + \\\n",
    "        gp.quicksum([neg_cs[i]*neg_inds[i] for i in range(n_neg)]) + const"
   ]
  },
  {
   "cell_type": "code",
   "execution_count": 689,
   "id": "cfaab1b5",
   "metadata": {},
   "outputs": [
    {
     "data": {
      "text/plain": [
       "<gurobi.Constr *Awaiting Model Update*>"
      ]
     },
     "execution_count": 689,
     "metadata": {},
     "output_type": "execute_result"
    }
   ],
   "source": [
    "model.setObjective(obj, GRB.MINIMIZE)\n",
    "# model.addConstr(obj <= thresh(n))\n",
    "model.addConstr(gx <= gy - 1)\n",
    "model.addConstr(gy <= gz - 1)"
   ]
  },
  {
   "cell_type": "code",
   "execution_count": 690,
   "id": "79bc9f49",
   "metadata": {},
   "outputs": [
    {
     "data": {
      "text/plain": [
       "[[3*y <= z],\n",
       " [y <= 3*x],\n",
       " [y <= 2*x],\n",
       " [x <= -y + z],\n",
       " [7*y <= z],\n",
       " [2*y <= 3*x],\n",
       " [3*y - z <= x],\n",
       " [x <= -3*y + z],\n",
       " [3*y - z <= x, z < 3*y],\n",
       " [5*y <= 3*z, z < 3*y],\n",
       " [3*y <= 5*x],\n",
       " [2*y - z <= 2*x, y < 3*x],\n",
       " [y <= 2*x],\n",
       " [3*y - z <= 3*x],\n",
       " [y <= 7*x, 3*x < y],\n",
       " [3*x < y],\n",
       " [y <= 5*x, 2*x < z],\n",
       " [x <= -y + z],\n",
       " [y + z <= 3*x],\n",
       " [z < 2*x],\n",
       " [x <= -2*y + z, y < 2*x],\n",
       " [x <= -3*y + z],\n",
       " [y <= 6*x, 2*x < y],\n",
       " [2*x < y],\n",
       " [y <= 4*x, 3*x < z],\n",
       " [3*x <= -y + z],\n",
       " [-y + z < x],\n",
       " [3*x <= -y + 3*z, -y + z < x],\n",
       " [y + z <= 3*x],\n",
       " [2*x <= -y + 2*z, z < 3*x]]"
      ]
     },
     "execution_count": 690,
     "metadata": {},
     "output_type": "execute_result"
    }
   ],
   "source": [
    "all_pos_inds = concat([H_XYZ[i][1] for i in range(1,n+1)])\n",
    "all_neg_inds = concat([H_YXZ[i][1] for i in range(1,n+1)])\n",
    "all_neg_inds"
   ]
  },
  {
   "cell_type": "code",
   "execution_count": 691,
   "id": "f52b713d",
   "metadata": {},
   "outputs": [],
   "source": [
    "from sympy import symbols, Add\n",
    "from gurobipy import Model, LinExpr\n",
    "\n",
    "# Define SymPy variables\n",
    "x,y,z = symbols('x y z')\n",
    "\n",
    "# Mapping between SymPy and Gurobi variables\n",
    "sympy_to_gurobi = {x: gx, y: gy, z: gz}\n",
    "\n",
    "def to_gp_linexpr(sympy_expr, var_map=sympy_to_gurobi):\n",
    "    gurobi_expr = LinExpr()\n",
    "\n",
    "    if isinstance(sympy_expr, Add):\n",
    "        for term in sympy_expr.args:\n",
    "            gurobi_expr.add(sympy_to_gurobi_linexpr(term, var_map))\n",
    "    elif sympy_expr.is_Mul:\n",
    "        coeff = 1\n",
    "        var = None\n",
    "        for factor in sympy_expr.args:\n",
    "            if factor.is_number:\n",
    "                coeff *= float(factor)\n",
    "            elif factor in var_map:\n",
    "                var = var_map[factor]\n",
    "        if var is not None:\n",
    "            gurobi_expr.addTerms(coeff, var)\n",
    "        else:\n",
    "            gurobi_expr.addConstant(coeff)\n",
    "    elif sympy_expr in var_map:\n",
    "        gurobi_expr.addTerms(1.0, var_map[sympy_expr])\n",
    "    elif sympy_expr.is_number:\n",
    "        gurobi_expr.addConstant(float(sympy_expr))\n",
    "\n",
    "    return gurobi_expr"
   ]
  },
  {
   "cell_type": "code",
   "execution_count": 692,
   "id": "7c206598",
   "metadata": {},
   "outputs": [],
   "source": [
    "M = 20\n",
    "EPS = 1\n",
    "def add_constrs(variables, all_inds):\n",
    "    for i, ind in enumerate(all_inds):\n",
    "        rs = unify(ind)\n",
    "        for r in rs:\n",
    "            lhs = to_gp_linexpr(r.lhs)\n",
    "            if r.rel_op == '>':\n",
    "                model.addConstr(lhs >= EPS - M * (1 - variables[i]))\n",
    "                model.addConstr(lhs <= M * variables[i])\n",
    "            elif r.rel_op == '<=':\n",
    "                model.addConstr(lhs <= M * (1 - variables[i]))\n",
    "                # if ind = 0, at least one of the inequalities is violated\n",
    "                if len(rs) == 1:\n",
    "                    model.addConstr(lhs >= EPS - M * variables[i])\n",
    "            else:\n",
    "                raise ValueError"
   ]
  },
  {
   "cell_type": "code",
   "execution_count": 693,
   "id": "5ac9c536",
   "metadata": {},
   "outputs": [],
   "source": [
    "add_constrs(pos_inds, all_pos_inds)\n",
    "add_constrs(neg_inds, all_neg_inds)"
   ]
  },
  {
   "cell_type": "code",
   "execution_count": 694,
   "id": "6938543c",
   "metadata": {},
   "outputs": [
    {
     "name": "stdout",
     "output_type": "stream",
     "text": [
      "Gurobi Optimizer version 11.0.3 build v11.0.3rc0 (mac64[rosetta2] - Darwin 23.4.0 23E224)\n",
      "\n",
      "CPU model: Apple M1\n",
      "Thread count: 8 physical cores, 8 logical processors, using up to 8 threads\n",
      "\n",
      "Optimize a model with 155 rows, 69 columns and 520 nonzeros\n",
      "Model fingerprint: 0xdc71f4b1\n",
      "Variable types: 0 continuous, 69 integer (66 binary)\n",
      "Coefficient statistics:\n",
      "  Matrix range     [1e+00, 2e+01]\n",
      "  Objective range  [5e-03, 3e-02]\n",
      "  Bounds range     [1e+00, 2e+00]\n",
      "  RHS range        [1e+00, 2e+01]\n",
      "Found heuristic solution: objective 0.1805556\n",
      "Presolve removed 8 rows and 4 columns\n",
      "Presolve time: 0.01s\n",
      "Presolved: 147 rows, 65 columns, 488 nonzeros\n",
      "Variable types: 0 continuous, 65 integer (62 binary)\n",
      "\n",
      "Root relaxation: objective 1.403356e-01, 7 iterations, 0.00 seconds (0.00 work units)\n",
      "\n",
      "    Nodes    |    Current Node    |     Objective Bounds      |     Work\n",
      " Expl Unexpl |  Obj  Depth IntInf | Incumbent    BestBd   Gap | It/Node Time\n",
      "\n",
      "     0     0    0.14034    0    2    0.18056    0.14034  22.3%     -    0s\n",
      "H    0     0                       0.1481481    0.14034  5.27%     -    0s\n",
      "H    0     0                       0.1435185    0.14034  2.22%     -    0s\n",
      "     0     0    0.14034    0    2    0.14352    0.14034  2.22%     -    0s\n",
      "\n",
      "Explored 1 nodes (7 simplex iterations) in 0.14 seconds (0.00 work units)\n",
      "Thread count was 8 (of 8 available processors)\n",
      "\n",
      "Solution count 3: 0.143519 0.148148 0.180556 \n",
      "\n",
      "Optimal solution found (tolerance 1.00e-04)\n",
      "Best objective 1.435185185185e-01, best bound 1.435185185185e-01, gap 0.0000%\n"
     ]
    }
   ],
   "source": [
    "model.optimize()"
   ]
  },
  {
   "cell_type": "code",
   "execution_count": 695,
   "id": "74eeab0a",
   "metadata": {},
   "outputs": [
    {
     "name": "stdout",
     "output_type": "stream",
     "text": [
      "Optimal solution found:\n",
      "pos_inds[0]: 0.0, False\n",
      "pos_inds[1]: 1.0, True\n",
      "pos_inds[2]: 0.0, False\n",
      "pos_inds[3]: 1.0, True\n",
      "pos_inds[4]: 1.0, True\n",
      "pos_inds[5]: 0.0, False\n",
      "pos_inds[6]: 0.0, False\n",
      "pos_inds[7]: 0.0, False\n",
      "pos_inds[8]: 0.0, False\n",
      "pos_inds[9]: 1.0, True\n",
      "pos_inds[10]: 1.0, True\n",
      "pos_inds[11]: 0.0, False\n",
      "pos_inds[12]: 1.0, True\n",
      "pos_inds[13]: 0.0, False\n",
      "pos_inds[14]: 0.0, False\n",
      "pos_inds[15]: 0.0, False\n",
      "pos_inds[16]: 0.0, False\n",
      "pos_inds[17]: 0.0, False\n",
      "pos_inds[18]: 0.0, False\n",
      "pos_inds[19]: 1.0, True\n",
      "pos_inds[20]: 1.0, True\n",
      "pos_inds[21]: 1.0, True\n",
      "pos_inds[22]: 1.0, True\n",
      "pos_inds[23]: 0.0, False\n",
      "pos_inds[24]: 0.0, False\n",
      "pos_inds[25]: 0.0, False\n",
      "pos_inds[26]: 1.0, True\n",
      "pos_inds[27]: 1.0, True\n",
      "pos_inds[28]: 1.0, True\n",
      "pos_inds[29]: 1.0, True\n",
      "pos_inds[30]: 0.0, False\n",
      "pos_inds[31]: 0.0, False\n",
      "pos_inds[32]: 0.0, False\n",
      "pos_inds[33]: 0.0, False\n",
      "pos_inds[34]: 0.0, False\n",
      "pos_inds[35]: 0.0, False\n",
      "neg_inds[0]: 1.0, True\n",
      "neg_inds[1]: 1.0, True\n",
      "neg_inds[2]: 1.0, True\n",
      "neg_inds[3]: 1.0, True\n",
      "neg_inds[4]: 0.0, False\n",
      "neg_inds[5]: 0.0, False\n",
      "neg_inds[6]: 1.0, True\n",
      "neg_inds[7]: 0.0, False\n",
      "neg_inds[8]: 0.0, False\n",
      "neg_inds[9]: 0.0, False\n",
      "neg_inds[10]: 1.0, True\n",
      "neg_inds[11]: 1.0, True\n",
      "neg_inds[12]: 1.0, True\n",
      "neg_inds[13]: 1.0, True\n",
      "neg_inds[14]: 0.0, False\n",
      "neg_inds[15]: 0.0, False\n",
      "neg_inds[16]: 1.0, True\n",
      "neg_inds[17]: 1.0, True\n",
      "neg_inds[18]: 0.0, False\n",
      "neg_inds[19]: 0.0, False\n",
      "neg_inds[20]: 1.0, True\n",
      "neg_inds[21]: 0.0, False\n",
      "neg_inds[22]: 0.0, False\n",
      "neg_inds[23]: 0.0, False\n",
      "neg_inds[24]: 1.0, True\n",
      "neg_inds[25]: 1.0, True\n",
      "neg_inds[26]: 0.0, False\n",
      "neg_inds[27]: 0.0, False\n",
      "neg_inds[28]: 0.0, False\n",
      "neg_inds[29]: 0.0, False\n",
      "x: 3.0, True\n",
      "y: 5.0, True\n",
      "z: 15.0, True\n",
      "Objective value: 0.14351851851851843\n"
     ]
    }
   ],
   "source": [
    "if model.status == GRB.OPTIMAL:\n",
    "    print(\"Optimal solution found:\")\n",
    "    for v in model.getVars():\n",
    "        print(f\"{v.varName}: {v.x}, {not (not v.x)}\")\n",
    "    print(f\"Objective value: {model.objVal}\")\n",
    "else:\n",
    "    print(\"No feasible solution found.\")"
   ]
  },
  {
   "cell_type": "code",
   "execution_count": 696,
   "id": "52834a0f",
   "metadata": {},
   "outputs": [],
   "source": [
    "# 3: 1,2,14\n",
    "# 4: 0.5, 1.5, 4.5\n",
    "def eval_f(n,a,b,c):\n",
    "    tot = 0.\n",
    "    vals = {x:a, y:b, z:c}\n",
    "    for i in range(1,n+1):\n",
    "        pos_c, pos_rs = H_XYZ[i]\n",
    "        neg_c, neg_rs = H_YXZ[i]\n",
    "        print(sum([sub(r, vals) for r in neg_rs]))\n",
    "        tot += coef(i) * (pos_c - neg_c + sum([sub(r, vals) for r in pos_rs]) - sum([sub(r, vals) for r in neg_rs]))\n",
    "    return tot - thresh(n)"
   ]
  },
  {
   "cell_type": "code",
   "execution_count": 697,
   "id": "b5cd9ea2",
   "metadata": {},
   "outputs": [
    {
     "name": "stdout",
     "output_type": "stream",
     "text": [
      "0\n",
      "4\n",
      "10\n"
     ]
    },
    {
     "data": {
      "text/plain": [
       "0.04351851851851851"
      ]
     },
     "execution_count": 697,
     "metadata": {},
     "output_type": "execute_result"
    }
   ],
   "source": [
    "eval_f(3,3,5,15)"
   ]
  },
  {
   "cell_type": "code",
   "execution_count": 682,
   "id": "26b08be9",
   "metadata": {},
   "outputs": [
    {
     "data": {
      "text/plain": [
       "(1, [[3*x <= y], [2*x <= z], [2*x <= y], [3*x <= z], [x <= -y + z]])"
      ]
     },
     "execution_count": 682,
     "metadata": {},
     "output_type": "execute_result"
    }
   ],
   "source": [
    "H_XYZ[2]"
   ]
  },
  {
   "cell_type": "code",
   "execution_count": null,
   "id": "8dd29f5d",
   "metadata": {},
   "outputs": [],
   "source": []
  }
 ],
 "metadata": {
  "kernelspec": {
   "display_name": "Python 3 (ipykernel)",
   "language": "python",
   "name": "python3"
  },
  "language_info": {
   "codemirror_mode": {
    "name": "ipython",
    "version": 3
   },
   "file_extension": ".py",
   "mimetype": "text/x-python",
   "name": "python",
   "nbconvert_exporter": "python",
   "pygments_lexer": "ipython3",
   "version": "3.9.18"
  }
 },
 "nbformat": 4,
 "nbformat_minor": 5
}
