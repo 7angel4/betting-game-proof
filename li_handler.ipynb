{
 "cells": [
  {
   "cell_type": "code",
   "execution_count": 7,
   "id": "6eac873e",
   "metadata": {},
   "outputs": [],
   "source": [
    "%run constants.ipynb\n",
    "# The assumptions framework in sympy does not work so well with linear inequalities\n",
    "# We use our own LP framework to detect constraints that violate V\n",
    "from sympy import symbols, And, Not, simplify"
   ]
  },
  {
   "cell_type": "code",
   "execution_count": 67,
   "id": "0216b3b3",
   "metadata": {},
   "outputs": [],
   "source": [
    "EPS = 1e-10\n",
    "def nonstricten(*ineqs):\n",
    "    nonstrict = []\n",
    "    for i in ineqs:\n",
    "        if isinstance(i, Gt):\n",
    "            # a>b => a >= b+EPS\n",
    "            nonstrict.append(Ge(i.lhs, i.rhs + EPS))\n",
    "        elif isinstance(i, Lt):\n",
    "            # a<b => a <= b-EPS\n",
    "            nonstrict.append(Le(i.lhs, i.rhs - EPS))\n",
    "        else:\n",
    "            nonstrict.append(i)  # already non-strict\n",
    "    return nonstrict"
   ]
  },
  {
   "cell_type": "code",
   "execution_count": 68,
   "id": "6365416d",
   "metadata": {},
   "outputs": [],
   "source": [
    "from sympy.solvers.simplex import lpmax, InfeasibleLPError\n",
    "from sympy.core import *\n",
    "\n",
    "def solve_lp(*constraints, Ax=0):\n",
    "    ''' Returns max LP solution for Ax <= b, under the given `constraints`. '''\n",
    "    return lpmax(Ax, nonstricten(*constraints))  # flatten\n",
    "\n",
    "def feasible(*ineqs, r=V):\n",
    "    ''' Returns true if the And of the linear inequalities `ineqs` are feasible under constraints `r`, \n",
    "        false otherwise. \n",
    "    '''\n",
    "    try:\n",
    "        result = solve_lp(*r, *ineqs, Ax=0)\n",
    "    except InfeasibleLPError:\n",
    "        return False\n",
    "    return result\n",
    "\n",
    "def redundant(ineq, r=V):\n",
    "    ''' Returns true if the linear inequality `ineq` is redundant under constraints `r`, \n",
    "        false otherwise. \n",
    "    '''\n",
    "    # if (Assumptions => Ineq) = (not A or I) is valid, then (A and not I) is unsatisfiable\n",
    "    return feasible(Not(ineq), r=r) == False\n",
    "\n",
    "def non_redundant(*ineqs, r=V):\n",
    "    ''' Returns the non-redundant inequalities from `ineqs` under constraints `r`.\n",
    "    '''\n",
    "    return [i for i in ineqs if not redundant(i, r=r)]\n",
    "\n",
    "def equiv(rs, ss):\n",
    "    ''' Returns true if e1 = e2, false otherwise.\n",
    "    '''\n",
    "    rs = set([simplify(r) for r in rs])\n",
    "    ss = set([simplify(s) for s in ss])\n",
    "    return all([r.equals(s) for r,s in zip(rs, ss)])\n",
    "\n",
    "def opposite(rs, ss):\n",
    "    return len(rs) == 1 and len(ss) == 1 and simplify(Not(rs[0])).equals(simplify(ss[0]))"
   ]
  },
  {
   "cell_type": "code",
   "execution_count": 6,
   "id": "5e3d69e6",
   "metadata": {},
   "outputs": [],
   "source": [
    "def reduce(inds, r=V):\n",
    "    ''' \n",
    "    Reduces the 2D list of `inds` under restriction `r`.\n",
    "    i.e. Inferrable indicators from `r` are converted to 0s or 1s.\n",
    "    Returns a 2-tuple of constant value (evaluated indicators), remaining indicators.\n",
    "    '''\n",
    "    reduced = []\n",
    "    const = 0\n",
    "    for i in inds:\n",
    "        if not feasible(*i, r=r):\n",
    "            # not feasible\n",
    "            continue\n",
    "        else:\n",
    "            rem = non_redundant(*i, r=r)\n",
    "            if not rem:\n",
    "                const += 1\n",
    "            else:\n",
    "                reduced.append(rem)\n",
    "                \n",
    "    return const, reduced"
   ]
  },
  {
   "cell_type": "code",
   "execution_count": 66,
   "id": "089088a5",
   "metadata": {},
   "outputs": [],
   "source": [
    "def sub(ind, vals):\n",
    "    return 1 if And(*ind).subs(vals) else 0"
   ]
  },
  {
   "cell_type": "code",
   "execution_count": null,
   "id": "b704df31",
   "metadata": {},
   "outputs": [],
   "source": []
  }
 ],
 "metadata": {
  "kernelspec": {
   "display_name": "Python 3 (ipykernel)",
   "language": "python",
   "name": "python3"
  },
  "language_info": {
   "codemirror_mode": {
    "name": "ipython",
    "version": 3
   },
   "file_extension": ".py",
   "mimetype": "text/x-python",
   "name": "python",
   "nbconvert_exporter": "python",
   "pygments_lexer": "ipython3",
   "version": "3.9.18"
  }
 },
 "nbformat": 4,
 "nbformat_minor": 5
}
