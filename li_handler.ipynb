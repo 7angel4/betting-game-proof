{
 "cells": [
  {
   "cell_type": "code",
   "execution_count": 1,
   "id": "8adf6c03",
   "metadata": {},
   "outputs": [],
   "source": [
    "%run constants.ipynb\n",
    "# The assumptions framework in sympy does not work so well with linear inequalities\n",
    "# We use our own LP framework to detect constraints that violate V\n",
    "from sympy import symbols, And, Not, simplify"
   ]
  },
  {
   "cell_type": "code",
   "execution_count": 2,
   "id": "abac016e",
   "metadata": {},
   "outputs": [],
   "source": [
    "EPS = 1e-65\n",
    "def nonstricten(*ineqs):\n",
    "    nonstrict = []\n",
    "    for i in ineqs:\n",
    "        if isinstance(i, Gt):\n",
    "            # a>b => a >= b+EPS\n",
    "            nonstrict.append(Ge(i.lhs, i.rhs + EPS))\n",
    "        elif isinstance(i, Lt):\n",
    "            # a<b => a <= b-EPS\n",
    "            nonstrict.append(Le(i.lhs, i.rhs - EPS))\n",
    "        else:\n",
    "            nonstrict.append(i)  # already non-strict\n",
    "    return nonstrict"
   ]
  },
  {
   "cell_type": "code",
   "execution_count": 3,
   "id": "39df202d",
   "metadata": {},
   "outputs": [],
   "source": [
    "from sympy.solvers.simplex import lpmax, InfeasibleLPError\n",
    "from sympy.core import *\n",
    "\n",
    "def solve_lp(*constraints, Ax=0):\n",
    "    ''' Returns max LP solution for Ax <= b, under the given `constraints`. '''\n",
    "    return lpmax(Ax, nonstricten(*constraints))  # flatten\n",
    "\n",
    "def feasible(*ineqs, r=V):\n",
    "    ''' Returns true if the linear inequalities `ineqs` are feasible under constraints `r`, \n",
    "        false otherwise. \n",
    "    '''\n",
    "    try:\n",
    "        result = solve_lp(*r,*ineqs, Ax=0)\n",
    "    except InfeasibleLPError:\n",
    "        return False\n",
    "    return result\n",
    "\n",
    "def redundant(ineq, r=V):\n",
    "    ''' Returns true if the linear inequality `ineq` is redundant under constraints `r`, \n",
    "        false otherwise. \n",
    "    '''\n",
    "    # if (Assumptions => Ineq) = (not A or I) is valid, then (A and not I) is unsatisfiable\n",
    "    return feasible(Not(ineq), r=r) == False\n",
    "\n",
    "def non_redundant(*ineqs, r=V):\n",
    "    ''' Returns the non-redundant inequalities from `ineqs` under constraints `r`.\n",
    "    '''\n",
    "    return [i for i in ineqs if not redundant(i, r=r)]\n",
    "\n",
    "def equiv(e1, e2):\n",
    "    ''' Returns true if e1 = e2, false otherwise.\n",
    "    '''\n",
    "    return simplify(e1).equals(simplify(e2))"
   ]
  },
  {
   "cell_type": "code",
   "execution_count": 5,
   "id": "1c5ab5b1",
   "metadata": {},
   "outputs": [],
   "source": [
    "def reduce(inds, r=V):\n",
    "    ''' \n",
    "    Reduces the 2D list of `inds` under restriction `r`.\n",
    "    i.e. Inferrable indicators from `r` are converted to 0s or 1s.\n",
    "    Returns a 2-tuple of constant value (evaluated indicators), remaining indicators.\n",
    "    '''\n",
    "    reduced = []\n",
    "    const = 0\n",
    "    for i in inds:\n",
    "        if not feasible(*i, r=r):\n",
    "            # not feasible\n",
    "            continue\n",
    "        else:\n",
    "            # unsure\n",
    "            rem = non_redundant(*i, r=r)\n",
    "            if not rem:\n",
    "                const += 1\n",
    "            reduced.append(rem)\n",
    "                \n",
    "    return const, reduced"
   ]
  },
  {
   "cell_type": "code",
   "execution_count": null,
   "id": "e0f251e9",
   "metadata": {},
   "outputs": [],
   "source": []
  }
 ],
 "metadata": {
  "kernelspec": {
   "display_name": "Python 3 (ipykernel)",
   "language": "python",
   "name": "python3"
  },
  "language_info": {
   "codemirror_mode": {
    "name": "ipython",
    "version": 3
   },
   "file_extension": ".py",
   "mimetype": "text/x-python",
   "name": "python",
   "nbconvert_exporter": "python",
   "pygments_lexer": "ipython3",
   "version": "3.9.18"
  }
 },
 "nbformat": 4,
 "nbformat_minor": 5
}
