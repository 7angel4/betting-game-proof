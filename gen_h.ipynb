{
 "cells": [
  {
   "cell_type": "markdown",
   "id": "d22f0d25",
   "metadata": {},
   "source": [
    "Logic for generating expressions for h_n(x,y,z), which consists of a set of indicator constraints and a real coefficient."
   ]
  },
  {
   "cell_type": "code",
   "execution_count": 40,
   "id": "64d92b5e",
   "metadata": {},
   "outputs": [],
   "source": [
    "from sympy import symbols, And, Not, simplify, solve\n",
    "%run constants.ipynb\n",
    "%run li_handler.ipynb"
   ]
  },
  {
   "cell_type": "code",
   "execution_count": 41,
   "id": "d7fe20ec",
   "metadata": {},
   "outputs": [],
   "source": [
    "def no_loser(a,b,c):\n",
    "    '''\n",
    "    Returns a list of predicates indicating no player has lost yet \n",
    "    in a given state.\n",
    "    '''\n",
    "    return [simplify(i) for i in [a>0, b>0, c>0]]"
   ]
  },
  {
   "cell_type": "code",
   "execution_count": 42,
   "id": "637d28dd",
   "metadata": {},
   "outputs": [],
   "source": [
    "def parentStates(a,b,c, r=V):\n",
    "    '''\n",
    "    Returns all feasible 'parent' states of the given state \n",
    "    (i.e. possible stacks in the previous round), \n",
    "    under restriction `r`.\n",
    "    '''\n",
    "    return [s for s in \n",
    "            [(2*a,b-a,c), (2*a,b,c-a),\n",
    "            (a-b,2*b,c), (a,2*b,c-b),\n",
    "            (a-c,b,2*c), (a,b-c,2*c)] \n",
    "            if feasible(*no_loser(*s), r=r)]"
   ]
  },
  {
   "cell_type": "code",
   "execution_count": 43,
   "id": "9eaea7d9",
   "metadata": {},
   "outputs": [],
   "source": [
    "@memoized\n",
    "def coef(n):\n",
    "    '''\n",
    "    Returns the real coefficient of h_n.\n",
    "    '''\n",
    "    return Fraction(1, 6**n)"
   ]
  },
  {
   "cell_type": "code",
   "execution_count": 44,
   "id": "f296d544",
   "metadata": {},
   "outputs": [],
   "source": [
    "def concat(ls):\n",
    "    ''' \n",
    "    Flattens a 2D list. \n",
    "    '''\n",
    "    return [j for l in ls for j in l]"
   ]
  },
  {
   "cell_type": "code",
   "execution_count": 45,
   "id": "80dc94fd",
   "metadata": {},
   "outputs": [],
   "source": [
    "import csv\n",
    "from itertools import islice\n",
    "\n",
    "def read(filename, min_n=1, max_n=5):\n",
    "    '''\n",
    "    Reads a csv with entries(n, real coefficient, indicator constraints) \n",
    "    for n in [`min_n`, `max_n`].\n",
    "    Returns the parsed entries as a dictionary of n : (coefficient, indicators).\n",
    "    '''\n",
    "    hs = {}\n",
    "    with open(filename, 'r') as fp:\n",
    "        reader = islice(csv.reader(fp), min_n-1, max_n)\n",
    "        for row in reader:\n",
    "            n, c, rs = row\n",
    "            # parse entries\n",
    "            hs[int(n)] = (int(c), sympify(rs))\n",
    "    return hs"
   ]
  },
  {
   "cell_type": "code",
   "execution_count": 46,
   "id": "5679a638",
   "metadata": {},
   "outputs": [],
   "source": [
    "def h_mult(n,a,b,c):\n",
    "    '''\n",
    "    Returns the non-redundant multiplicative constraints of h_n(a,b,c).\n",
    "    '''\n",
    "    return non_redundant(*no_loser(a,b,c), r=V)\n",
    "\n",
    "def mult_inds(inds, prereqs, r=V):\n",
    "    '''\n",
    "    Indicator multiplication.\n",
    "    Returns [prereqs * sum(inds)], keeping only non-redundant indicators in `prereqs` given restriction `r`.\n",
    "    '''\n",
    "    return [i + [p for p in non_redundant(*prereqs, r=V+i)] for i in inds]\n",
    "\n",
    "@memoized\n",
    "def _h(n,a,b,c):\n",
    "    '''\n",
    "    Returns the additive indicators of h_n(a,b,c), as a 2D list.\n",
    "    '''\n",
    "    # constant coef = (1/6)^n\n",
    "    # so we only keep track of the indicators to be summed up\n",
    "    if n == 1:\n",
    "        return mult_inds([[simplify(a<=b)], [simplify(a<=c)]], h_mult(1,a,b,c))\n",
    "    # list of inequalities representing the region Rn\n",
    "#     print('n =',n)\n",
    "#     for s in parentStates(a,b,c):\n",
    "#         print(s, _h(n-1, *s))\n",
    "#     print()\n",
    "    return mult_inds(concat([_h(n-1, *s) for s in parentStates(a,b,c)]), \n",
    "                     h_mult(n,a,b,c))\n",
    "\n",
    "@memoized\n",
    "def h(n,a,b,c, regenerate):\n",
    "    '''\n",
    "    Returns h_n(a,b,c).\n",
    "    If `regenerate` is True, re-calculate h_n, as opposed to reading from cache.\n",
    "    '''\n",
    "    if regenerate:\n",
    "        return reduce(_h(n,a,b,c), r=V)\n",
    "    else:\n",
    "        if (a,b,c) == flip_state(STATE):\n",
    "            return read(H_YXZ_CACHE, min_n=n-1, max_n=n)[n]\n",
    "        else:\n",
    "            return read(H_XYZ_CACHE, min_n=n-1, max_n=n)[n]"
   ]
  },
  {
   "cell_type": "markdown",
   "id": "c8812dc6",
   "metadata": {},
   "source": [
    "# Evaluate with actual x,y,z"
   ]
  },
  {
   "cell_type": "code",
   "execution_count": 24,
   "id": "ba67697a",
   "metadata": {},
   "outputs": [],
   "source": [
    "MAX_N = 5\n",
    "H_XYZ = read(H_XYZ_CACHE, max_n=MAX_N)\n",
    "# H_YXZ = read(H_YXZ_CACHE, max_n=MAX_N)\n",
    "H_XXZ = read(H_XXZ_CACHE, max_n=MAX_N)\n",
    "H_XXZ2 = read(H_XXZ_CACHE+'_xyz', max_n=MAX_N)"
   ]
  },
  {
   "cell_type": "code",
   "execution_count": 27,
   "id": "7bdfe48c",
   "metadata": {},
   "outputs": [],
   "source": [
    "def eval_h(n,a,b,c):\n",
    "    '''\n",
    "    Uses the general h(n,a,b,c) function to evaluate h_n(a,b,c).\n",
    "    '''\n",
    "    const, rs = H_XYZ[n]\n",
    "    vals = {x:a, y:b, z:c}\n",
    "    return coef(n) * (const + sum([sub(r, vals) for r in rs]))"
   ]
  },
  {
   "cell_type": "code",
   "execution_count": 18,
   "id": "f3d8cbb5",
   "metadata": {},
   "outputs": [],
   "source": [
    "# def eval_f(n,a,b,c):\n",
    "#     '''\n",
    "#     Uses the general h(n,a,b,c) function to evaluate f_n(a,b,c) - alpha_n.\n",
    "#     '''\n",
    "#     tot = 0\n",
    "#     vals = {x:a, y:b, z:c}\n",
    "#     for i in range(1,n+1):\n",
    "#         pos_c, pos_rs = H_XYZ[i]\n",
    "#         neg_c, neg_rs = H_YXZ[i]\n",
    "#         tot += coef(i) * (pos_c - neg_c + sum([sub(r, vals) for r in pos_rs]) - sum([sub(r, vals) for r in neg_rs]))\n",
    "#     return tot - thresh(n)"
   ]
  },
  {
   "cell_type": "code",
   "execution_count": 19,
   "id": "76be3888",
   "metadata": {},
   "outputs": [],
   "source": [
    "# def eval_dh(n,a,b,c):\n",
    "#     '''\n",
    "#     Uses the general h(n,a,b,c) function to evaluate h_n(a,b,c) - h_n(b,a,c)\n",
    "#     '''\n",
    "#     vals = {x:a, y:b, z:c}\n",
    "#     pos_c, pos_rs = H_XYZ[n]\n",
    "#     neg_c, neg_rs = H_YXZ[n]\n",
    "#     return coef(n) * (pos_c - neg_c + sum([sub(r, vals) for r in pos_rs]) - sum([sub(r, vals) for r in neg_rs]))"
   ]
  },
  {
   "cell_type": "code",
   "execution_count": 20,
   "id": "433d5f71",
   "metadata": {},
   "outputs": [],
   "source": [
    "# bound = eval_f(3,4,5,6) + eval_dh(4,7,8,23) + thresh(4)\n",
    "# print(bound)\n",
    "# print(float(bound))\n",
    "# print(bound + thresh(4))  # lower bound on f_4(x,y,z) - alpha_4"
   ]
  },
  {
   "cell_type": "code",
   "execution_count": 47,
   "id": "485b06c0",
   "metadata": {},
   "outputs": [],
   "source": [
    "def eval_d_dash(n,a,b,c):\n",
    "    '''\n",
    "    Evaluates delta'(a,b,c).\n",
    "    '''\n",
    "    tot = 0\n",
    "    vals = {x:a, y:b, z:c}\n",
    "    for i in range(1,n+1):\n",
    "        pos_c, pos_rs = H_XYZ[i]\n",
    "        neg_c, neg_rs = H_XXZ2[i]\n",
    "        tot += coef(i) * (pos_c - neg_c + sum([sub(r, vals) for r in pos_rs]) - sum([sub(r, vals) for r in neg_rs]))\n",
    "    return tot - thresh(n)"
   ]
  },
  {
   "cell_type": "code",
   "execution_count": null,
   "id": "54c867c8",
   "metadata": {},
   "outputs": [],
   "source": []
  }
 ],
 "metadata": {
  "kernelspec": {
   "display_name": "Python 3 (ipykernel)",
   "language": "python",
   "name": "python3"
  },
  "language_info": {
   "codemirror_mode": {
    "name": "ipython",
    "version": 3
   },
   "file_extension": ".py",
   "mimetype": "text/x-python",
   "name": "python",
   "nbconvert_exporter": "python",
   "pygments_lexer": "ipython3",
   "version": "3.9.18"
  }
 },
 "nbformat": 4,
 "nbformat_minor": 5
}
