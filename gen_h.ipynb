{
 "cells": [
  {
   "cell_type": "code",
   "execution_count": 239,
   "id": "64d92b5e",
   "metadata": {},
   "outputs": [],
   "source": [
    "import numpy as np\n",
    "from sympy import symbols, And, Not, simplify, solve, reduce_inequalities\n",
    "%run constants.ipynb\n",
    "%run li_handler.ipynb"
   ]
  },
  {
   "cell_type": "code",
   "execution_count": 2,
   "id": "33a1abc3",
   "metadata": {},
   "outputs": [],
   "source": [
    "def no_loser(a,b,c):\n",
    "    return [simplify(i) for i in [a>0, b>0, c>0]]"
   ]
  },
  {
   "cell_type": "code",
   "execution_count": 3,
   "id": "637d28dd",
   "metadata": {},
   "outputs": [],
   "source": [
    "def parentStates(a,b,c, r=V):\n",
    "    return [s for s in \n",
    "            [(2*a,b-a,c), (2*a,b,c-a),\n",
    "            (a-b,2*b,c), (a,2*b,c-b),\n",
    "            (a-c,b,2*c), (a,b-c,2*c)] \n",
    "            if feasible(*no_loser(*s), r=r)]"
   ]
  },
  {
   "cell_type": "code",
   "execution_count": 4,
   "id": "b8730780",
   "metadata": {},
   "outputs": [],
   "source": [
    "@memoized\n",
    "def coef(n):\n",
    "    return Fraction(1, 6**n)"
   ]
  },
  {
   "cell_type": "code",
   "execution_count": 5,
   "id": "5667f95e",
   "metadata": {},
   "outputs": [],
   "source": [
    "def concat(ls):\n",
    "    ''' Flatten 2D list. '''\n",
    "    return [j for l in ls for j in l]"
   ]
  },
  {
   "cell_type": "code",
   "execution_count": 7,
   "id": "5679a638",
   "metadata": {},
   "outputs": [],
   "source": [
    "def h_mult(n,a,b,c):\n",
    "    return non_redundant(*no_loser(a,b,c), r=V)\n",
    "\n",
    "def mult_inds(inds, prereqs, r=V):\n",
    "    '''\n",
    "    prereqs * sum(inds), keeping only non-redundant indicators in `prereqs` given restriction `r`.\n",
    "    '''\n",
    "    return [i + [p for p in non_redundant(*prereqs, r=V+i)] for i in inds]\n",
    "\n",
    "@memoized\n",
    "def _h(n,a,b,c):\n",
    "    ''' Returns the additive indicators of h_n(a,b,c), as a 2D list. '''\n",
    "    # constant coef = (1/6)^n\n",
    "    # so we only keep track of the indicators to be summed up\n",
    "    if n == 1:\n",
    "        return mult_inds([[simplify(a<=b)], [simplify(a<=c)]], h_mult(1,a,b,c))\n",
    "    # list of inequalities representing the region Rn\n",
    "    return mult_inds(concat([_h(n-1, *s) for s in parentStates(a,b,c)]), \n",
    "                     h_mult(n,a,b,c))\n",
    "\n",
    "@memoized\n",
    "def h(n,a,b,c, regenerate):\n",
    "    if regenerate:\n",
    "        return reduce(_h(n,a,b,c), r=V)\n",
    "    else:\n",
    "        if (a,b,c) == (y,x,z):\n",
    "            return read(H_YXZ_CACHE, max_n=n)[n]\n",
    "        else:\n",
    "            return read(H_XYZ_CACHE, max_n=n)[n]"
   ]
  },
  {
   "cell_type": "markdown",
   "id": "36062662",
   "metadata": {},
   "source": [
    "# Evaluate with actual x, y, z values"
   ]
  },
  {
   "cell_type": "code",
   "execution_count": 244,
   "id": "d622e94e",
   "metadata": {},
   "outputs": [],
   "source": [
    "import csv\n",
    "from itertools import islice\n",
    "\n",
    "def read(filename, min_n=1, max_n=5):\n",
    "    hs = {}\n",
    "    with open(filename, 'r') as fp:\n",
    "        reader = islice(csv.reader(fp), min_n-1, max_n)\n",
    "        for row in reader:\n",
    "            n, c, rs = row\n",
    "            # parse entries\n",
    "            hs[int(n)] = (int(c), sympify(rs))\n",
    "    return hs"
   ]
  },
  {
   "cell_type": "code",
   "execution_count": 245,
   "id": "c1a19c4d",
   "metadata": {},
   "outputs": [],
   "source": [
    "N_LIM = 5\n",
    "H_XYZ = read(H_XYZ_CACHE, min_n=1, max_n=N_LIM)\n",
    "H_YXZ = read(H_YXZ_CACHE, min_n=1, max_n=N_LIM)"
   ]
  },
  {
   "cell_type": "code",
   "execution_count": 246,
   "id": "aa95ae34",
   "metadata": {},
   "outputs": [],
   "source": [
    "def eval_f(n,a,b,c):\n",
    "    tot = 0.\n",
    "    vals = {x:a, y:b, z:c}\n",
    "    for i in range(1,n+1):\n",
    "        pos_c, pos_rs = H_XYZ[i]\n",
    "        neg_c, neg_rs = H_YXZ[i]\n",
    "        tot += coef(i) * (pos_c - neg_c + sum([sub(r, vals) for r in pos_rs]) - sum([sub(r, vals) for r in neg_rs]))\n",
    "    return tot - thresh(n)"
   ]
  },
  {
   "cell_type": "code",
   "execution_count": 247,
   "id": "146721f1",
   "metadata": {},
   "outputs": [],
   "source": [
    "def eval_dh(n,a,b,c):\n",
    "    vals = {x:a, y:b, z:c}\n",
    "    pos_c, pos_rs = H_XYZ[n]\n",
    "    neg_c, neg_rs = H_YXZ[n]\n",
    "    return coef(n) * (pos_c - neg_c + sum([sub(r, vals) for r in pos_rs]) - sum([sub(r, vals) for r in neg_rs]))"
   ]
  },
  {
   "cell_type": "code",
   "execution_count": null,
   "id": "cfcb97b4",
   "metadata": {},
   "outputs": [],
   "source": []
  }
 ],
 "metadata": {
  "kernelspec": {
   "display_name": "Python 3 (ipykernel)",
   "language": "python",
   "name": "python3"
  },
  "language_info": {
   "codemirror_mode": {
    "name": "ipython",
    "version": 3
   },
   "file_extension": ".py",
   "mimetype": "text/x-python",
   "name": "python",
   "nbconvert_exporter": "python",
   "pygments_lexer": "ipython3",
   "version": "3.9.18"
  }
 },
 "nbformat": 4,
 "nbformat_minor": 5
}
