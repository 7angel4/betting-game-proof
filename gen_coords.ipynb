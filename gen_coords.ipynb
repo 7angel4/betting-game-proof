{
 "cells": [
  {
   "cell_type": "code",
   "execution_count": 87,
   "id": "b7d6a388",
   "metadata": {},
   "outputs": [],
   "source": [
    "%run constants.ipynb\n",
    "%run gen_h.ipynb"
   ]
  },
  {
   "cell_type": "code",
   "execution_count": 88,
   "id": "fd504563",
   "metadata": {},
   "outputs": [],
   "source": [
    "import numpy as np\n",
    "XYZ_SUM = 2000"
   ]
  },
  {
   "cell_type": "code",
   "execution_count": 78,
   "id": "bebadd35",
   "metadata": {},
   "outputs": [],
   "source": [
    "@memoized\n",
    "def write_valid_coordinates(n):    \n",
    "    with open(f'n={n}_coords_f', 'w') as fp:\n",
    "        # Iterate over combinations of x, y, z that sum to XYZ_SUM\n",
    "        for a in range(1, XYZ_SUM // 3):  # x must be at least 1 and at most XYZ_SUM/3\n",
    "            for b in range(a+1, (XYZ_SUM-a) // 2):  # y must be greater than x and y+z should fit within the sum\n",
    "                c = XYZ_SUM - a - b\n",
    "                if c<b:\n",
    "                    break  # early abortion - y will only get bigger\n",
    "    #             print(eval_f(n,a,b,c))\n",
    "                fval = eval_f(n,a,b,c)\n",
    "                if fval > 0:\n",
    "                    fp.write(','.join(map(str, (a,b,fval,c))) + '\\n')"
   ]
  },
  {
   "cell_type": "code",
   "execution_count": 92,
   "id": "9e85a0cb",
   "metadata": {},
   "outputs": [],
   "source": [
    "# c<a<b\n",
    "@memoized\n",
    "def write_valid_coordinates(n):    \n",
    "    with open(f'n={n}_coords_f', 'w') as fp:\n",
    "        # Iterate over combinations of x, y, z that sum to XYZ_SUM\n",
    "        for c in range(1, XYZ_SUM // 3):  # x\n",
    "            for a in range(c+1, (XYZ_SUM-c) // 2):  # y\n",
    "                b = XYZ_SUM - a - c  # z\n",
    "                if b<a:\n",
    "                    break  # early abortion - y will only get bigger\n",
    "    #             print(eval_f(n,a,b,c))\n",
    "                fval = eval_f(n,a,b,c)\n",
    "                if fval > 0:\n",
    "                    fp.write(','.join(map(str, (a,b,fval,c))) + '\\n')"
   ]
  },
  {
   "cell_type": "code",
   "execution_count": 93,
   "id": "2eb2c7a5",
   "metadata": {},
   "outputs": [],
   "source": [
    "# Comment out the lines below to produce the files in coordinates/:\n",
    "# write_valid_coordinates(2)\n",
    "# write_valid_coordinates(3)\n",
    "# write_valid_coordinates(4)"
   ]
  },
  {
   "cell_type": "code",
   "execution_count": 94,
   "id": "67f5fff1",
   "metadata": {},
   "outputs": [],
   "source": [
    "write_valid_coordinates(3)"
   ]
  },
  {
   "cell_type": "code",
   "execution_count": 95,
   "id": "8899021c",
   "metadata": {},
   "outputs": [],
   "source": [
    "write_valid_coordinates(4)"
   ]
  },
  {
   "cell_type": "code",
   "execution_count": 74,
   "id": "c5ae856c",
   "metadata": {},
   "outputs": [],
   "source": [
    "n=4\n",
    "with open(f'n={n}_coords_f', 'a') as fp:\n",
    "    # Iterate over combinations of x, y, z that sum to XYZ_SUM\n",
    "    for a in range(34, XYZ_SUM // 3):  # x must be at least 1 and at most XYZ_SUM/3\n",
    "        for b in range(a+1, (XYZ_SUM-a) // 2): \n",
    "            c = XYZ_SUM - a - b\n",
    "            if c<b:\n",
    "                break  # early abortion - y will only get bigger\n",
    "#             print(eval_f(n,a,b,c))\n",
    "            fval = eval_f(n,a,b,c)\n",
    "            if fval > 0:\n",
    "                fp.write(','.join(map(str, (a,b,fval,c))) + '\\n')"
   ]
  }
 ],
 "metadata": {
  "kernelspec": {
   "display_name": "Python 3 (ipykernel)",
   "language": "python",
   "name": "python3"
  },
  "language_info": {
   "codemirror_mode": {
    "name": "ipython",
    "version": 3
   },
   "file_extension": ".py",
   "mimetype": "text/x-python",
   "name": "python",
   "nbconvert_exporter": "python",
   "pygments_lexer": "ipython3",
   "version": "3.9.18"
  }
 },
 "nbformat": 4,
 "nbformat_minor": 5
}
