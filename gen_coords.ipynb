{
 "cells": [
  {
   "cell_type": "markdown",
   "id": "eef307f6",
   "metadata": {},
   "source": [
    "Generates coordinates for the plot (to be run in background)."
   ]
  },
  {
   "cell_type": "code",
   "execution_count": 115,
   "id": "a91d4000",
   "metadata": {},
   "outputs": [],
   "source": [
    "%run constants.ipynb\n",
    "%run gen_h.ipynb\n",
    "import numpy as np"
   ]
  },
  {
   "cell_type": "code",
   "execution_count": 116,
   "id": "cb5ee114",
   "metadata": {},
   "outputs": [],
   "source": [
    "@memoized\n",
    "def write_valid_coordinates(n):    \n",
    "    '''\n",
    "    Writes (x,y,z) coordinates for which f_n(x,y,z) > alpha_n to a file.\n",
    "    '''\n",
    "    with open(COORDS_FILE(n), 'w') as fp:\n",
    "        # Iterate over combinations of x, y, z that sum to XYZ_SUM\n",
    "        for a in range(1, XYZ_SUM // 3):  # x\n",
    "            for b in range(a+1, (XYZ_SUM-a) // 2):  # y\n",
    "                c = XYZ_SUM - a - b\n",
    "                if c<b:\n",
    "                    break  # early abortion - y will only get bigger\n",
    "                _a, _b, _c = ORDER(a,b,c)\n",
    "                fval = eval_f(n,_a,_b,_c)\n",
    "                if fval > 0:\n",
    "                    fp.write(','.join(map(str, (_a,_b,fval,_c))) + '\\n')"
   ]
  },
  {
   "cell_type": "code",
   "execution_count": 111,
   "id": "448ac12b",
   "metadata": {},
   "outputs": [],
   "source": [
    "# Comment out the lines below to produce the files in coordinates/:\n",
    "# write_valid_coordinates(2)\n",
    "# write_valid_coordinates(3)\n",
    "# write_valid_coordinates(4)"
   ]
  },
  {
   "cell_type": "code",
   "execution_count": null,
   "id": "8f9a312e",
   "metadata": {},
   "outputs": [],
   "source": []
  }
 ],
 "metadata": {
  "kernelspec": {
   "display_name": "Python 3 (ipykernel)",
   "language": "python",
   "name": "python3"
  },
  "language_info": {
   "codemirror_mode": {
    "name": "ipython",
    "version": 3
   },
   "file_extension": ".py",
   "mimetype": "text/x-python",
   "name": "python",
   "nbconvert_exporter": "python",
   "pygments_lexer": "ipython3",
   "version": "3.9.18"
  }
 },
 "nbformat": 4,
 "nbformat_minor": 5
}
