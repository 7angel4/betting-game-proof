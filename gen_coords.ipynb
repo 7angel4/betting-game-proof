{
 "cells": [
  {
   "cell_type": "code",
   "execution_count": 61,
   "id": "d63b697b",
   "metadata": {},
   "outputs": [],
   "source": [
    "%run constants.ipynb\n",
    "%run gen_h.ipynb"
   ]
  },
  {
   "cell_type": "code",
   "execution_count": 67,
   "id": "3e00468d",
   "metadata": {},
   "outputs": [],
   "source": [
    "import matplotlib.pyplot as plt\n",
    "import numpy as np\n",
    "XYZ_SUM = 2000"
   ]
  },
  {
   "cell_type": "code",
   "execution_count": 68,
   "id": "b432adbc",
   "metadata": {},
   "outputs": [],
   "source": [
    "@memoized\n",
    "def write_valid_coordinates(n):    \n",
    "    with open(f'n={n}_coords_f', 'w') as fp:\n",
    "        # Iterate over combinations of x, y, z that sum to XYZ_SUM\n",
    "        for a in range(1, XYZ_SUM // 3):  # x must be at least 1 and at most XYZ_SUM/3\n",
    "            for b in range(a+1, (XYZ_SUM-a) // 2):  # y must be greater than x and y+z should fit within the sum\n",
    "                c = XYZ_SUM - a - b\n",
    "                if c<b:\n",
    "                    break  # early abortion - y will only get bigger\n",
    "    #             print(eval_f(n,a,b,c))\n",
    "                fval = eval_f(n,a,b,c)\n",
    "                if fval > 0:\n",
    "                    fp.write(','.join(map(str, (a,b,fval,c))) + '\\n')"
   ]
  },
  {
   "cell_type": "code",
   "execution_count": 75,
   "id": "155e7285",
   "metadata": {},
   "outputs": [],
   "source": [
    "# Comment out the lines below to produce the files in coordinates/:\n",
    "# write_valid_coordinates(2)\n",
    "# write_valid_coordinates(3)\n",
    "# write_valid_coordinates(4)"
   ]
  },
  {
   "cell_type": "code",
   "execution_count": 74,
   "id": "7f6e4f18",
   "metadata": {},
   "outputs": [],
   "source": [
    "n=4\n",
    "with open(f'n={n}_coords_f', 'a') as fp:\n",
    "    # Iterate over combinations of x, y, z that sum to XYZ_SUM\n",
    "    for a in range(34, XYZ_SUM // 3):  # x must be at least 1 and at most XYZ_SUM/3\n",
    "        for b in range(a+1, (XYZ_SUM-a) // 2): \n",
    "            c = XYZ_SUM - a - b\n",
    "            if c<b:\n",
    "                break  # early abortion - y will only get bigger\n",
    "#             print(eval_f(n,a,b,c))\n",
    "            fval = eval_f(n,a,b,c)\n",
    "            if fval > 0:\n",
    "                fp.write(','.join(map(str, (a,b,fval,c))) + '\\n')"
   ]
  }
 ],
 "metadata": {
  "kernelspec": {
   "display_name": "Python 3 (ipykernel)",
   "language": "python",
   "name": "python3"
  },
  "language_info": {
   "codemirror_mode": {
    "name": "ipython",
    "version": 3
   },
   "file_extension": ".py",
   "mimetype": "text/x-python",
   "name": "python",
   "nbconvert_exporter": "python",
   "pygments_lexer": "ipython3",
   "version": "3.9.18"
  }
 },
 "nbformat": 4,
 "nbformat_minor": 5
}
