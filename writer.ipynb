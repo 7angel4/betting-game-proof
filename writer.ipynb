{
 "cells": [
  {
   "cell_type": "code",
   "execution_count": 56,
   "id": "5d5b8332",
   "metadata": {},
   "outputs": [],
   "source": [
    "%run constants.ipynb\n",
    "%run gen_h.ipynb\n",
    "import csv"
   ]
  },
  {
   "cell_type": "code",
   "execution_count": 54,
   "id": "22ffecc3",
   "metadata": {},
   "outputs": [],
   "source": [
    "def to_lt(ineqs):\n",
    "    ''' Converts the list of linear inequalities `ineqs` to \n",
    "    (strict or non-strict) less-than inequalities.\n",
    "    '''\n",
    "    new = []\n",
    "    for i in ineqs:\n",
    "        if isinstance(i, Gt):\n",
    "            new.append(Lt(i.rhs, i.lhs))\n",
    "        elif isinstance(i, Ge):\n",
    "            new.append(Le(i.rhs, i.lhs))\n",
    "        else:\n",
    "            new.append(i)\n",
    "    return new"
   ]
  },
  {
   "cell_type": "code",
   "execution_count": 55,
   "id": "97f1523e",
   "metadata": {},
   "outputs": [],
   "source": [
    "def write(n,a,b,c, filename):\n",
    "    with open(filename, 'a') as fp:\n",
    "        writer = csv.writer(fp)\n",
    "        c, rs = h(n,a,b,c)\n",
    "        writer.writerow([n, c, [to_lt(r) for r in rs]])"
   ]
  },
  {
   "cell_type": "code",
   "execution_count": 48,
   "id": "83188619",
   "metadata": {},
   "outputs": [],
   "source": [
    "for n in range(1,7):\n",
    "    write(n,y,x,z, H_YXZ_CACHE)"
   ]
  },
  {
   "cell_type": "code",
   "execution_count": null,
   "id": "1a414d08",
   "metadata": {},
   "outputs": [],
   "source": [
    "for n in range(1,7):  \n",
    "    write(n,x,y,z, H_XYZ_CACHE)"
   ]
  }
 ],
 "metadata": {
  "kernelspec": {
   "display_name": "Python 3 (ipykernel)",
   "language": "python",
   "name": "python3"
  },
  "language_info": {
   "codemirror_mode": {
    "name": "ipython",
    "version": 3
   },
   "file_extension": ".py",
   "mimetype": "text/x-python",
   "name": "python",
   "nbconvert_exporter": "python",
   "pygments_lexer": "ipython3",
   "version": "3.9.18"
  }
 },
 "nbformat": 4,
 "nbformat_minor": 5
}
