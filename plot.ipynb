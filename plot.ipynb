{
 "cells": [
  {
   "cell_type": "code",
   "execution_count": 245,
   "id": "4087edc8",
   "metadata": {},
   "outputs": [],
   "source": [
    "%run constants.ipynb\n",
    "import numpy as np\n",
    "import matplotlib.pyplot as plt"
   ]
  },
  {
   "cell_type": "code",
   "execution_count": 246,
   "id": "4400ac39",
   "metadata": {},
   "outputs": [],
   "source": [
    "def read(n):\n",
    "    with open(f'n={n}_coords_f') as fp:\n",
    "        lines = fp.readlines()\n",
    "        lines = [tuple(line.strip().split(',')) for line in lines]\n",
    "        lines = [(int(x), int(y), float(fval), int(z)) for x,y,fval,z in lines]\n",
    "    return zip(*lines)  # unzip into parallel lists"
   ]
  },
  {
   "cell_type": "code",
   "execution_count": 247,
   "id": "3dbc44b0",
   "metadata": {},
   "outputs": [],
   "source": [
    "XYZ_SUM=2000"
   ]
  },
  {
   "cell_type": "code",
   "execution_count": 250,
   "id": "0a65d2ea",
   "metadata": {},
   "outputs": [],
   "source": [
    "xs, ys, fvals, _ = tuple(read(2))"
   ]
  },
  {
   "cell_type": "code",
   "execution_count": 251,
   "id": "5314bdce",
   "metadata": {},
   "outputs": [
    {
     "data": {
      "text/plain": [
       "Counter({0.10555555555555557: 44334,\n",
       "         0.07777777777777778: 17095,\n",
       "         0.04999999999999999: 60355,\n",
       "         0.0222222222222222: 41120})"
      ]
     },
     "execution_count": 251,
     "metadata": {},
     "output_type": "execute_result"
    }
   ],
   "source": [
    "from collections import Counter\n",
    "Counter(fvals)"
   ]
  },
  {
   "cell_type": "code",
   "execution_count": 287,
   "id": "3c8729fe",
   "metadata": {},
   "outputs": [],
   "source": [
    "from matplotlib.colors import Normalize, LogNorm, ListedColormap, BoundaryNorm\n",
    "\n",
    "# if y&z version, then x(old) -> y, y(old) -> z\n",
    "def subplot_f(n, ax=None):\n",
    "    xs, ys, fvals, _ = tuple(read(n))\n",
    "\n",
    "    # color map\n",
    "    fval_counts = Counter(fvals)\n",
    "    base_cmap = plt.get_cmap('GnBu')\n",
    "    cmap = ListedColormap(base_cmap(np.linspace(0,1, len(fval_counts))))\n",
    "    norm = BoundaryNorm(sorted(list(fval_counts.keys())), cmap.N)\n",
    "    scatter = ax.scatter(xs, ys, \n",
    "                         c=fvals, cmap=cmap, norm=norm,\n",
    "                         s=30)\n",
    "    # x<y boundary\n",
    "#     xlim = (1, XYZ_SUM//3)\n",
    "#     ylim = (1, XYZ_SUM//2)\n",
    "#     boundary_label = 'x=y'\n",
    "#     xlabel = 'x'\n",
    "#     ylabel = 'y'\n",
    "    xlim = (1, XYZ_SUM//2)\n",
    "    ylim = (1, XYZ_SUM)\n",
    "    y_vals = np.linspace(*ylim)\n",
    "    bnd1 = y_vals\n",
    "    bnd2 = XYZ_SUM - 2*y_vals\n",
    "    \n",
    "    # z = y\n",
    "    bound1, = ax.plot(y_vals, bnd1, linestyle='--', color='red', label='y=z')\n",
    "    # z = 2000 - 2y\n",
    "    bound2, = ax.plot(y_vals, bnd2, linestyle='--', color='red', label='z=2000-2y')\n",
    "    \n",
    "    ax.annotate('y=z', fontsize=12, color='red', \n",
    "               xy=(0.2, 0.17), xycoords='axes fraction')\n",
    "    ax.annotate('z=2000-2y', fontsize=12, color='red', \n",
    "               xy=(0.64, 0.1), xycoords='axes fraction')\n",
    "    \n",
    "    ax.set_xlabel('y')\n",
    "    ax.set_ylabel('z')\n",
    "    ax.set_title(f'n={n}')\n",
    "    ax.set_xlim(xlim)\n",
    "    ax.set_ylim(ylim)\n",
    "    \n",
    "    ax.grid(visible=True)\n",
    "    ax.set_aspect(0.6)\n",
    "    \n",
    "    return scatter"
   ]
  },
  {
   "cell_type": "code",
   "execution_count": null,
   "id": "5b65214b",
   "metadata": {},
   "outputs": [],
   "source": [
    "fig, axs = plt.subplots(3,1, figsize=(8,18))\n",
    "ns = [2,3,4]\n",
    "# cbar_label = (lambda n: f'f_{n}(x,y,z)-(1/2)^{n}(4/5)')\n",
    "# title = '{x,y,z: 0<x<y<z, x+y+z=2000, f_n(x,y,z) > (1/2)^n(4/5)}'\n",
    "# figname = 'f_n(x,y,z)-thresh(n).png'\n",
    "cbar_label = (lambda n: f'f_{n}(y,z,x)-(1/2)^{n}(4/5)')\n",
    "title = '{x,y,z: 0<x<y<z, x+y+z=2000, f_n(y,z,x) > (1/2)^n(4/5)}'\n",
    "figname = 'f_n(y,z,x)-thresh(n).png'\n",
    "\n",
    "for i in range(3):\n",
    "    n = ns[i]\n",
    "    scatter = subplot_f(n, ax=axs[i])\n",
    "    # color bar based on f_n(x,y,z) - thresh(n) values\n",
    "    cbar = fig.colorbar(scatter, ax=axs[i], \n",
    "                       fraction=0.03, pad=0.04)\n",
    "    cbar.ax.tick_params(labelsize=8)\n",
    "    cbar.set_label(cbar_label(n), labelpad=14)\n",
    "    \n",
    "plt.tight_layout(rect=[0, 0, 1, 0.96])\n",
    "\n",
    "# fig.legend(scatters, labels, loc='upper center', ncol=3, bbox_to_anchor=(0.5, 1.05))\n",
    "\n",
    "plt.suptitle(title,\n",
    "            x=0.5, y=0.98, fontsize=16)\n",
    "fig.savefig(figname, \n",
    "            dpi=300, bbox_inches='tight')\n",
    "plt.show()"
   ]
  },
  {
   "cell_type": "code",
   "execution_count": null,
   "id": "41b1b0b5",
   "metadata": {},
   "outputs": [],
   "source": [
    "fig, axs = plt.subplots(3,1, figsize=(8,18))\n",
    "ns = [2,3,4]\n",
    "\n",
    "for i in range(3):\n",
    "    n = ns[i]\n",
    "    scatter = subplot_f(n, ax=axs[i])\n",
    "    # color bar based on f_n(x,y,z) - thresh(n) values\n",
    "    cbar = fig.colorbar(scatter, ax=axs[i], \n",
    "                       fraction=0.03, pad=0.04)\n",
    "    cbar.ax.tick_params(labelsize=8)\n",
    "    cbar.set_label(f'f_{n}(x,y,z)-(1/2)^{n}(4/5)', labelpad=14)\n",
    "    \n",
    "plt.tight_layout(rect=[0, 0, 1, 0.96])\n",
    "\n",
    "# fig.legend(scatters, labels, loc='upper center', ncol=3, bbox_to_anchor=(0.5, 1.05))\n",
    "\n",
    "plt.suptitle('{x,y,z: 0<x<y<z, x+y+z=2000, f_n(x,y,z) > (1/2)^n(4/5)}',\n",
    "            x=0.5, y=0.98, fontsize=16)\n",
    "fig.savefig('f_n(x,y,z)-thresh(n).png', \n",
    "            dpi=300, bbox_inches='tight')\n",
    "plt.show()"
   ]
  },
  {
   "cell_type": "code",
   "execution_count": null,
   "id": "465ad336",
   "metadata": {},
   "outputs": [],
   "source": []
  }
 ],
 "metadata": {
  "kernelspec": {
   "display_name": "Python 3 (ipykernel)",
   "language": "python",
   "name": "python3"
  },
  "language_info": {
   "codemirror_mode": {
    "name": "ipython",
    "version": 3
   },
   "file_extension": ".py",
   "mimetype": "text/x-python",
   "name": "python",
   "nbconvert_exporter": "python",
   "pygments_lexer": "ipython3",
   "version": "3.9.18"
  }
 },
 "nbformat": 4,
 "nbformat_minor": 5
}
