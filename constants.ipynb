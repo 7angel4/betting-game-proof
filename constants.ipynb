{
 "cells": [
  {
   "cell_type": "markdown",
   "id": "1ebd743d",
   "metadata": {},
   "source": [
    "Global module containing constants and invariants"
   ]
  },
  {
   "cell_type": "code",
   "execution_count": 13,
   "id": "2d3bcd2e",
   "metadata": {},
   "outputs": [],
   "source": [
    "from fractions import Fraction\n",
    "import sympy as sp\n",
    "import numpy as np\n",
    "from enum import Enum\n",
    "from dataclasses import dataclass"
   ]
  },
  {
   "cell_type": "code",
   "execution_count": 14,
   "id": "3a32ed68",
   "metadata": {},
   "outputs": [],
   "source": [
    "x, y, z = sp.symbols('x y z')\n",
    "OUTCOME_PROB = Fraction(1,6)"
   ]
  },
  {
   "cell_type": "code",
   "execution_count": 15,
   "id": "aa5ffa67",
   "metadata": {},
   "outputs": [],
   "source": [
    "# XY studies f(x,y,z) - f(y,x,z)\n",
    "# YZ studies f(y,z,x) - f(z,y,x)\n",
    "Version = Enum('Version', ['XY', 'YZ', 'UUZ_XYZ', 'UUZ_XZY', 'UUZ_ZXY', 'UUZ', 'YYZ'])\n",
    "\n",
    "# version specific info\n",
    "\n",
    "@dataclass\n",
    "class VersionSpecific:\n",
    "    restriction: list\n",
    "    state: str\n",
    "    data_dir: str"
   ]
  },
  {
   "cell_type": "code",
   "execution_count": 16,
   "id": "4f04f0a0",
   "metadata": {},
   "outputs": [],
   "source": [
    "# For Version.UUZ\n",
    "SCALE = 1000\n",
    "Z_LB = 1/3\n",
    "UUZ_V = [x>0, x<y, x+y+z >= SCALE, x+y+z <= SCALE, z >= SCALE * Z_LB]"
   ]
  },
  {
   "cell_type": "code",
   "execution_count": 17,
   "id": "03774848",
   "metadata": {},
   "outputs": [],
   "source": [
    "# version specific things\n",
    "def version_info(ver):\n",
    "    '''\n",
    "    Retrieves info specific to the version.\n",
    "    '''\n",
    "    if ver == Version.XY:\n",
    "        return VersionSpecific(\n",
    "            restriction=[x>0, x<y, y<z],\n",
    "            state=(x,y,z),\n",
    "            data_dir='xy/'\n",
    "        )\n",
    "    elif ver == Version.YZ:\n",
    "        return VersionSpecific(\n",
    "            restriction=[z>0, z<x, x<y],\n",
    "            state=(y,z,x),\n",
    "            data_dir='yz/'\n",
    "        )\n",
    "    elif ver == Version.UUZ_XYZ:\n",
    "        return VersionSpecific(\n",
    "            restriction=UUZ_V + [y<=z],\n",
    "            state=(x,y,z),\n",
    "            data_dir='uuz_xyz/'\n",
    "        )\n",
    "    elif ver == Version.UUZ_XZY:\n",
    "        return VersionSpecific(\n",
    "            restriction=UUZ_V + [x<=z, z<=y],\n",
    "            state=(x,y,z),\n",
    "            data_dir='uuz_xzy/'\n",
    "        )\n",
    "    elif ver == Version.UUZ_ZXY:\n",
    "        return VersionSpecific(\n",
    "            restriction=UUZ_V + [z<=x],\n",
    "            state=(x,y,z),\n",
    "            data_dir='uuz_zxy/'\n",
    "        )\n",
    "    elif ver == Version.UUZ:\n",
    "        return VersionSpecific(\n",
    "            restriction=UUZ_V,\n",
    "            state=(x,y,z),\n",
    "            data_dir='uuz/'\n",
    "        )\n",
    "    elif ver == Version.YYZ:\n",
    "        return VersionSpecific(\n",
    "            restriction=[x>0, z>0, x<y],\n",
    "            state=(x,y,z),\n",
    "            data_dir='yyz/'\n",
    "        )\n",
    "    else:\n",
    "        print(\"Unknown version\")\n",
    "        exit(1)\n",
    "            \n",
    "def flip_state(s):\n",
    "    ''' (x,y,z) -> (y,x,z) '''\n",
    "    return (s[1], s[0], s[2])\n",
    "\n",
    "def state_to_str(s):\n",
    "    ''' Converts the state to a parenthised string. '''\n",
    "    return f\"({','.join(str(i) for i in s)})\"\n",
    "\n",
    "def cache_name(s):\n",
    "    ''' Returns the cache name based on the given state. '''\n",
    "    return 'h_n' + state_to_str(s)\n",
    "\n",
    "def order(s,a,b,c):\n",
    "    ''' Maps state in x,y,z to variables a,b,c, preserving the order. \n",
    "        E.g. (x,y,z) -> (a,b,c); (y,z,x) -> (b,c,a)\n",
    "    '''\n",
    "    var_map = {x:a, y:b, z:c}\n",
    "    return tuple(var_map[i] for i in s)"
   ]
  },
  {
   "cell_type": "code",
   "execution_count": 18,
   "id": "156dbe3b",
   "metadata": {},
   "outputs": [],
   "source": [
    "# change this to control the version\n",
    "VERSION = Version.YYZ\n",
    "\n",
    "V = version_info(VERSION).restriction\n",
    "DATA_DIR = version_info(VERSION).data_dir\n",
    "STATE = version_info(VERSION).state\n",
    "STATE_STR = state_to_str(STATE)\n",
    "ORDER = (lambda a,b,c: order(STATE,a,b,c))\n",
    "\n",
    "# output files\n",
    "H_XYZ_CACHE = DATA_DIR + cache_name(STATE)\n",
    "H_YXZ_CACHE = DATA_DIR + cache_name(flip_state(STATE))\n",
    "H_XXZ_CACHE = DATA_DIR + cache_name((x,x,z))\n",
    "COORDS_FILE = (lambda n: DATA_DIR + f'n={n}_coords_f')\n",
    "\n",
    "F_MODEL_NAME = (lambda n: f'f{n}{STATE_STR}-alpha{n}')\n",
    "DH_MODEL_NAME = (lambda n: f'h{n}{STATE_STR}-h{n}{state_to_str(flip_state(STATE))}')\n",
    "F_MIP_OUTPUT = (lambda n: DATA_DIR + F_MODEL_NAME + '.lp')\n",
    "DH_MIP_OUTPUT = (lambda n: DATA_DIR + DH_MODEL_NAME + '.lp')\n",
    "\n",
    "# plot f_n(·) > alpha_n\n",
    "XYZ_SUM = 2000\n",
    "CBAR_LABEL = (lambda n: f'f_{n}{STATE_STR}-(1/2)^{n}(4/5)')\n",
    "FIG_TITLE = DATA_DIR + '{' + f'(x,y,z): 0<x<y<z, x+y+z={XYZ_SUM}, f_n{STATE_STR} > (1/2)^n(4/5)' + '}'\n",
    "FIG_NAME = DATA_DIR + f'f_n{STATE_STR}-alpha_n.png'"
   ]
  },
  {
   "cell_type": "code",
   "execution_count": 19,
   "id": "b8573b01",
   "metadata": {},
   "outputs": [],
   "source": [
    "import collections\n",
    "import functools\n",
    "\n",
    "class memoized(object):\n",
    "    '''Decorator. Caches a function's return value each time it is called.\n",
    "    If called later with the same arguments, the cached value is returned\n",
    "    (not reevaluated).\n",
    "    '''\n",
    "    def __init__(self, func):\n",
    "        self.func = func\n",
    "        self.cache = {}\n",
    "    \n",
    "    def __call__(self, *args):\n",
    "        if not isinstance(args, collections.Hashable):\n",
    "            # uncacheable. a list, for instance.\n",
    "            # better to not cache than blow up.\n",
    "            return self.func(*args)\n",
    "        if args in self.cache:\n",
    "            return self.cache[args]\n",
    "        else:\n",
    "            value = self.func(*args)\n",
    "            self.cache[args] = value\n",
    "            return value\n",
    "    \n",
    "    def __repr__(self):\n",
    "        '''Return the function's docstring.'''\n",
    "        return self.func.__doc__\n",
    "    \n",
    "    def __get__(self, obj, objtype):\n",
    "        '''Support instance methods.'''\n",
    "        return functools.partial(self.__call__, obj)"
   ]
  },
  {
   "cell_type": "code",
   "execution_count": 20,
   "id": "2843c9da",
   "metadata": {},
   "outputs": [],
   "source": [
    "# @memoized\n",
    "# def thresh(n):\n",
    "#     '''\n",
    "#     alpha_n = (1/2)^n (4/5)\n",
    "#     '''\n",
    "#     return Fraction(4, (2**n) * 5)"
   ]
  },
  {
   "cell_type": "code",
   "execution_count": 21,
   "id": "7ecdb4b9",
   "metadata": {},
   "outputs": [],
   "source": [
    "# Floating pt version of `thresh(n)`\n",
    "# Faster with this version for intensive data handling\n",
    "@memoized\n",
    "def thresh(n):\n",
    "    return 4/(2**n * 5)"
   ]
  },
  {
   "cell_type": "code",
   "execution_count": null,
   "id": "e4df8849",
   "metadata": {},
   "outputs": [],
   "source": []
  },
  {
   "cell_type": "code",
   "execution_count": null,
   "id": "56794b59",
   "metadata": {},
   "outputs": [],
   "source": []
  }
 ],
 "metadata": {
  "kernelspec": {
   "display_name": "Python 3 (ipykernel)",
   "language": "python",
   "name": "python3"
  },
  "language_info": {
   "codemirror_mode": {
    "name": "ipython",
    "version": 3
   },
   "file_extension": ".py",
   "mimetype": "text/x-python",
   "name": "python",
   "nbconvert_exporter": "python",
   "pygments_lexer": "ipython3",
   "version": "3.9.18"
  }
 },
 "nbformat": 4,
 "nbformat_minor": 5
}
