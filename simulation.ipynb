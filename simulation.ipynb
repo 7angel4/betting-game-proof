{
 "cells": [
  {
   "cell_type": "code",
   "execution_count": 165,
   "id": "38ce23db",
   "metadata": {},
   "outputs": [],
   "source": [
    "%run 'proof.ipynb'"
   ]
  },
  {
   "cell_type": "code",
   "execution_count": 57,
   "id": "f982a577",
   "metadata": {},
   "outputs": [],
   "source": [
    "import numpy as np\n",
    "import random\n",
    "import pandas as pd"
   ]
  },
  {
   "cell_type": "code",
   "execution_count": 58,
   "id": "c7ef0177",
   "metadata": {},
   "outputs": [],
   "source": [
    "NUM_PLAYERS = 3\n",
    "PLAYERS = [i for i in range(1, NUM_PLAYERS+1)]\n",
    "random.seed(7)  # for reproducible output"
   ]
  },
  {
   "cell_type": "markdown",
   "id": "999b21a0",
   "metadata": {},
   "source": [
    "# Simulating for one initial state"
   ]
  },
  {
   "cell_type": "code",
   "execution_count": 59,
   "id": "93d05b52",
   "metadata": {},
   "outputs": [],
   "source": [
    "def randSelectPlayer(candidates, exclude=None):\n",
    "    \"\"\"\n",
    "    Randomly selects and returns one entry from the list of candidates.\n",
    "    If `exclude` is specified, that entry is excluded from the list of candidates.\n",
    "    \"\"\"\n",
    "    choices = list(candidates)\n",
    "    if exclude:\n",
    "        choices.remove(exclude)\n",
    "    return random.choice(choices)"
   ]
  },
  {
   "cell_type": "code",
   "execution_count": 65,
   "id": "6ebabff6",
   "metadata": {},
   "outputs": [],
   "source": [
    "def give(playerWealth):\n",
    "    \"\"\"\n",
    "    Simulates the give action:\n",
    "    The minimum of the giver's and receiver's wealth is transferred from the giver to the receiver.\n",
    "    Returns the updated `playerWealth` list.\n",
    "    \"\"\"\n",
    "    # randomly select a giver and receiver\n",
    "    giver = randSelectPlayer(PLAYERS) \n",
    "    receiver = randSelectPlayer(PLAYERS, exclude=giver)\n",
    "    \n",
    "    v = playerWealth[giver-1]\n",
    "    w = playerWealth[receiver-1]\n",
    "    amt = min(v, w)\n",
    "    playerWealth[receiver-1] += amt\n",
    "    playerWealth[giver-1] -= amt\n",
    "    \n",
    "    return playerWealth, amt, giver, receiver"
   ]
  },
  {
   "cell_type": "code",
   "execution_count": 91,
   "id": "4f5ede4d",
   "metadata": {},
   "outputs": [],
   "source": [
    "def loser(playerWealth):\n",
    "    \"\"\"\n",
    "    Returns the loser (None if no one has lost yet).\n",
    "    \"\"\"\n",
    "    for i in range(NUM_PLAYERS):\n",
    "        if playerWealth[i] == 0:\n",
    "            return i+1\n",
    "    return None\n",
    "\n",
    "def reportGameProgress(n, giver, receiver, transferAmt, playerWealth):\n",
    "    \"\"\"\n",
    "    Outputs the game progress.\n",
    "    - n: an integer representing the number of rounds played so far.\n",
    "    - giver: the player that is chosen to give.\n",
    "    - receiver: the player that is chosen to receive.\n",
    "    - transferAmt: an integer representing the amount of money transferred from the giver to the receiver.\n",
    "    - playerWealth: a dictionary of player:wealth key-value pairs, representing each player's current wealth.\n",
    "    \"\"\"\n",
    "    print(f\"Round {n}:\")\n",
    "    print(f\"P{giver} gave P{receiver} ${transferAmt}\")\n",
    "    print(f\"Current stacks: {playerWealth}\\n\")"
   ]
  },
  {
   "cell_type": "code",
   "execution_count": 116,
   "id": "37df9a3e",
   "metadata": {},
   "outputs": [],
   "source": [
    "def playGame(x,y,z, printProgress=False):\n",
    "    \"\"\"\n",
    "    Plays one game.\n",
    "    - x, y, z: integers representing the initial wealth of Player 1, 2, 3, respectively.\n",
    "    - printProgress: if True, prints the game progress.\n",
    "    Returns the first loser and number of rounds until the game ends.\n",
    "    \"\"\"\n",
    "    # initialise\n",
    "    stacks = [x,y,z]\n",
    "    n = 0\n",
    "    while True:\n",
    "        stacks, transferAmt, g, r = give(stacks)\n",
    "        n += 1\n",
    "        if printProgress:\n",
    "            reportGameProgress(n, g, r, transferAmt, stacks)\n",
    "            \n",
    "        l = loser(stacks)\n",
    "        if l:\n",
    "            return n, l\n",
    "    # should not reach this point\n",
    "    return n, -1"
   ]
  },
  {
   "cell_type": "code",
   "execution_count": 163,
   "id": "d4ee4514",
   "metadata": {},
   "outputs": [],
   "source": [
    "from collections import defaultdict\n",
    "\n",
    "def h_est(data, x,y,z):\n",
    "    \"\"\"\n",
    "    Returns an estimate of h(n,x,y,z) = Pr(player 1 is eliminated in exactly n rounds), \n",
    "    using the game data\n",
    "    \"\"\"\n",
    "    data.sort()\n",
    "    numGames = len(data)\n",
    "    hxyz, hyxz = defaultdict(int), defaultdict(int)\n",
    "    for n, l in data:\n",
    "        hxyz[n] += (l == 1)\n",
    "        hyxz[n] += (l == 2)\n",
    "    \n",
    "    return {k : v/numGames for k,v in hxyz.items()}, {k : v/numGames for k,v in hyxz.items()}"
   ]
  },
  {
   "cell_type": "code",
   "execution_count": 192,
   "id": "e59a76c7",
   "metadata": {},
   "outputs": [],
   "source": [
    "def f_est(data, x,y,z):\n",
    "    hxyz, hyxz = h_est(data, x,y,z)\n",
    "    fxyz = {}\n",
    "    maxn = max(max(hxyz), max(hyxz))\n",
    "    \n",
    "    def dh(n):\n",
    "        return hxyz.get(n, 0) - hyxz.get(n, 0)\n",
    "    \n",
    "    @memoized\n",
    "    def sumdh(n): \n",
    "        return sum([dh(i) for i in range(1,n+1)])\n",
    "    \n",
    "    for m in range(2, maxn+1):\n",
    "        fxyz[m] = sumdh(m) - thresh(m)\n",
    "        \n",
    "    return fxyz"
   ]
  },
  {
   "cell_type": "code",
   "execution_count": 193,
   "id": "baa1eb49",
   "metadata": {},
   "outputs": [],
   "source": [
    "from random import randint\n",
    "def rand_init(V=(lambda x,y,z: x<y and y<z), maxVal=100, maxAttempts=100):\n",
    "    for i in range(maxAttempts):\n",
    "        rand = [randint(1, maxVal) for _ in range(NUM_PLAYERS)]\n",
    "        if V(*rand):\n",
    "            return rand\n",
    "    return None"
   ]
  },
  {
   "cell_type": "code",
   "execution_count": 196,
   "id": "22ff5653",
   "metadata": {},
   "outputs": [],
   "source": [
    "def sim_xyz(n=100000, stat=f_est):\n",
    "    xyz = rand_init()\n",
    "    return stat([playGame(*xyz, printProgress=False) for _ in range(n)], *xyz)"
   ]
  },
  {
   "cell_type": "code",
   "execution_count": 198,
   "id": "9bdf0c8a",
   "metadata": {},
   "outputs": [
    {
     "data": {
      "text/plain": [
       "({1: 0.33391,\n",
       "  2: 0.02791,\n",
       "  3: 0.05085,\n",
       "  4: 0.02323,\n",
       "  5: 0.01257,\n",
       "  6: 0.0058,\n",
       "  7: 0.00269,\n",
       "  8: 0.00134,\n",
       "  9: 0.00065,\n",
       "  10: 0.00035,\n",
       "  11: 0.0002,\n",
       "  12: 8e-05,\n",
       "  13: 1e-05,\n",
       "  14: 1e-05,\n",
       "  15: 1e-05,\n",
       "  16: 0.0,\n",
       "  19: 0.0},\n",
       " {1: 0.16502,\n",
       "  2: 0.08296,\n",
       "  3: 0.04077,\n",
       "  4: 0.02494,\n",
       "  5: 0.0108,\n",
       "  6: 0.00594,\n",
       "  7: 0.00324,\n",
       "  8: 0.00152,\n",
       "  9: 0.00062,\n",
       "  10: 0.00023,\n",
       "  11: 0.00011,\n",
       "  12: 3e-05,\n",
       "  13: 0.0,\n",
       "  14: 0.0,\n",
       "  15: 0.0,\n",
       "  16: 1e-05,\n",
       "  19: 0.0})"
      ]
     },
     "execution_count": 198,
     "metadata": {},
     "output_type": "execute_result"
    }
   ],
   "source": [
    "sim_xyz(stat=h_est)"
   ]
  },
  {
   "cell_type": "code",
   "execution_count": 197,
   "id": "6c9af7f4",
   "metadata": {},
   "outputs": [
    {
     "data": {
      "text/plain": [
       "{2: -0.0894,\n",
       " 3: -0.01702999999999999,\n",
       " 4: 0.028800000000000006,\n",
       " 5: 0.049810000000000014,\n",
       " 6: 0.062350000000000017,\n",
       " 7: 0.06828000000000001,\n",
       " 8: 0.07122500000000001,\n",
       " 9: 0.07263750000000002,\n",
       " 10: 0.07346875000000001,\n",
       " 11: 0.07395937500000001,\n",
       " 12: 0.07415468750000001,\n",
       " 13: 0.07429234375000002,\n",
       " 14: 0.07435117187500001,\n",
       " 15: 0.0743555859375,\n",
       " 16: 0.07437779296875,\n",
       " 17: 0.074383896484375,\n",
       " 18: 0.0743869482421875,\n",
       " 19: 0.07439847412109374,\n",
       " 20: 0.07439923706054687}"
      ]
     },
     "execution_count": 197,
     "metadata": {},
     "output_type": "execute_result"
    }
   ],
   "source": [
    "sim_xyz()"
   ]
  },
  {
   "cell_type": "markdown",
   "id": "4e454404",
   "metadata": {},
   "source": [
    "# Simulating the game multiple times and estimating probabilities"
   ]
  },
  {
   "cell_type": "code",
   "execution_count": 200,
   "id": "2662db70",
   "metadata": {},
   "outputs": [],
   "source": [
    "from statistics import mean\n",
    "\n",
    "def sim(n=100000):\n",
    "    \"\"\"\n",
    "    Simulates the betting game `n` times, with different random initial stacks.\n",
    "    Returns the average f(n,x,y,z)\n",
    "    \"\"\"   \n",
    "    return mean([sim_xyz(stat=f_est) for _ in range(n)])"
   ]
  },
  {
   "cell_type": "code",
   "execution_count": null,
   "id": "3a501bf7",
   "metadata": {},
   "outputs": [],
   "source": [
    "sim()"
   ]
  },
  {
   "cell_type": "code",
   "execution_count": null,
   "id": "fd24c430",
   "metadata": {},
   "outputs": [],
   "source": []
  }
 ],
 "metadata": {
  "kernelspec": {
   "display_name": "Python 3 (ipykernel)",
   "language": "python",
   "name": "python3"
  },
  "language_info": {
   "codemirror_mode": {
    "name": "ipython",
    "version": 3
   },
   "file_extension": ".py",
   "mimetype": "text/x-python",
   "name": "python",
   "nbconvert_exporter": "python",
   "pygments_lexer": "ipython3",
   "version": "3.9.18"
  }
 },
 "nbformat": 4,
 "nbformat_minor": 5
}
