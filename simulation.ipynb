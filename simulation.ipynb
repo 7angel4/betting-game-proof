{
 "cells": [
  {
   "cell_type": "code",
   "execution_count": 219,
   "id": "985416d9",
   "metadata": {},
   "outputs": [],
   "source": [
    "%run 'proof.ipynb'"
   ]
  },
  {
   "cell_type": "code",
   "execution_count": 220,
   "id": "f982a577",
   "metadata": {},
   "outputs": [],
   "source": [
    "import numpy as np\n",
    "import random\n",
    "import pandas as pd"
   ]
  },
  {
   "cell_type": "code",
   "execution_count": 221,
   "id": "c7ef0177",
   "metadata": {},
   "outputs": [],
   "source": [
    "NUM_PLAYERS = 3\n",
    "PLAYERS = [i for i in range(1, NUM_PLAYERS+1)]\n",
    "random.seed(7)  # for reproducible output"
   ]
  },
  {
   "cell_type": "markdown",
   "id": "999b21a0",
   "metadata": {},
   "source": [
    "# Simulating for one initial state"
   ]
  },
  {
   "cell_type": "code",
   "execution_count": 265,
   "id": "6ebabff6",
   "metadata": {},
   "outputs": [],
   "source": [
    "def give(playerWealth):\n",
    "    \"\"\"\n",
    "    Simulates the give action:\n",
    "    The minimum of the giver's and receiver's wealth is transferred from the giver to the receiver.\n",
    "    Returns the updated `playerWealth` list.\n",
    "    \"\"\"\n",
    "    # randomly select a giver and receiver\n",
    "    players = [i for i in range(NUM_PLAYERS)]\n",
    "    giver = random.choice(players)\n",
    "    players.remove(giver)\n",
    "    receiver = random.choice(players)\n",
    "    \n",
    "    amt = min(playerWealth[giver], playerWealth[receiver])\n",
    "    playerWealth[receiver] += amt\n",
    "    playerWealth[giver] -= amt\n",
    "    \n",
    "    return playerWealth, amt, giver, receiver"
   ]
  },
  {
   "cell_type": "code",
   "execution_count": 268,
   "id": "4f5ede4d",
   "metadata": {},
   "outputs": [],
   "source": [
    "def loser(playerWealth):\n",
    "    \"\"\"\n",
    "    Returns the loser (None if no one has lost yet).\n",
    "    \"\"\"\n",
    "    for i in range(NUM_PLAYERS):\n",
    "        if playerWealth[i] == 0:\n",
    "            return i\n",
    "    return None\n",
    "\n",
    "def reportGameProgress(n, giver, receiver, transferAmt, playerWealth):\n",
    "    \"\"\"\n",
    "    Outputs the game progress.\n",
    "    - n: an integer representing the number of rounds played so far.\n",
    "    - giver: the player that is chosen to give.\n",
    "    - receiver: the player that is chosen to receive.\n",
    "    - transferAmt: an integer representing the amount of money transferred from the giver to the receiver.\n",
    "    - playerWealth: a dictionary of player:wealth key-value pairs, representing each player's current wealth.\n",
    "    \"\"\"\n",
    "    print(f\"Round {n}:\")\n",
    "    print(f\"P{giver+1} gave P{receiver+1} ${transferAmt}\")\n",
    "    print(f\"Current stacks: {playerWealth}\\n\")"
   ]
  },
  {
   "cell_type": "code",
   "execution_count": 269,
   "id": "37df9a3e",
   "metadata": {},
   "outputs": [],
   "source": [
    "def playGame(x,y,z, printProgress=False):\n",
    "    \"\"\"\n",
    "    Plays one game.\n",
    "    - x, y, z: integers representing the initial wealth of Player 1, 2, 3, respectively.\n",
    "    - printProgress: if True, prints the game progress.\n",
    "    Returns the first loser and number of rounds until the game ends.\n",
    "    \"\"\"\n",
    "    # initialise\n",
    "    stacks = [x,y,z]\n",
    "    n = 0\n",
    "    while True:\n",
    "        stacks, transferAmt, g, r = give(stacks)\n",
    "        n += 1\n",
    "        if printProgress:\n",
    "            reportGameProgress(n, g, r, transferAmt, stacks)\n",
    "            \n",
    "        l = loser(stacks)\n",
    "        if l != None:\n",
    "            return n, l\n",
    "    # should not reach this point\n",
    "    return n, -1"
   ]
  },
  {
   "cell_type": "code",
   "execution_count": 271,
   "id": "d4ee4514",
   "metadata": {},
   "outputs": [],
   "source": [
    "from collections import defaultdict\n",
    "\n",
    "def h_est(data, x,y,z):\n",
    "    \"\"\"\n",
    "    Returns an estimate of h(n,x,y,z) = Pr(player 1 is eliminated in exactly n rounds), \n",
    "    using the game data\n",
    "    \"\"\"\n",
    "    data.sort()\n",
    "    numGames = len(data)\n",
    "    hxyz, hyxz = defaultdict(int), defaultdict(int)\n",
    "    for n, l in data:\n",
    "        hxyz[n] += (l == 0)\n",
    "        hyxz[n] += (l == 1)\n",
    "    \n",
    "    return {k : v/numGames for k,v in hxyz.items()}, {k : v/numGames for k,v in hyxz.items()}"
   ]
  },
  {
   "cell_type": "code",
   "execution_count": 272,
   "id": "834267b6",
   "metadata": {},
   "outputs": [],
   "source": [
    "def f_est(data, x,y,z):\n",
    "    hxyz, hyxz = h_est(data, x,y,z)\n",
    "    fxyz = {}\n",
    "    maxn = max(max(hxyz), max(hyxz))\n",
    "    \n",
    "    def dh(n):\n",
    "        return hxyz.get(n, 0) - hyxz.get(n, 0)\n",
    "    \n",
    "    @memoized\n",
    "    def sumdh(n): \n",
    "        return sum([dh(i) for i in range(1,n+1)])\n",
    "    \n",
    "    for m in range(2, maxn+1):\n",
    "        fxyz[m] = sumdh(m) - thresh(m)\n",
    "        \n",
    "    return fxyz"
   ]
  },
  {
   "cell_type": "code",
   "execution_count": 273,
   "id": "cf5dab74",
   "metadata": {},
   "outputs": [],
   "source": [
    "from random import randint\n",
    "def rand_init(V=(lambda x,y,z: x<y and y<z), maxVal=100, maxAttempts=100):\n",
    "    for i in range(maxAttempts):\n",
    "        rand = [randint(1, maxVal) for _ in range(NUM_PLAYERS)]\n",
    "        if V(*rand):\n",
    "            return rand\n",
    "    return None"
   ]
  },
  {
   "cell_type": "code",
   "execution_count": 274,
   "id": "6b5ff573",
   "metadata": {},
   "outputs": [
    {
     "data": {
      "text/plain": [
       "[4, 19, 40]"
      ]
     },
     "execution_count": 274,
     "metadata": {},
     "output_type": "execute_result"
    }
   ],
   "source": [
    "rand_init()"
   ]
  },
  {
   "cell_type": "code",
   "execution_count": 281,
   "id": "86e9a98d",
   "metadata": {},
   "outputs": [],
   "source": [
    "def sim_xyz(n=100, stat=f_est):\n",
    "    xyz = rand_init()\n",
    "    return stat([playGame(*xyz, printProgress=False) for _ in range(n)], *xyz)"
   ]
  },
  {
   "cell_type": "code",
   "execution_count": 283,
   "id": "629dd4b4",
   "metadata": {},
   "outputs": [
    {
     "data": {
      "text/plain": [
       "{2: 0.10999999999999999,\n",
       " 3: 0.27,\n",
       " 4: 0.37,\n",
       " 5: 0.415,\n",
       " 6: 0.4275,\n",
       " 7: 0.44375000000000003,\n",
       " 8: 0.436875,\n",
       " 9: 0.4384375,\n",
       " 10: 0.43921875,\n",
       " 11: 0.439609375,\n",
       " 12: 0.4298046875}"
      ]
     },
     "execution_count": 283,
     "metadata": {},
     "output_type": "execute_result"
    }
   ],
   "source": [
    "sim_xyz(stat=f_est)"
   ]
  },
  {
   "cell_type": "markdown",
   "id": "4e454404",
   "metadata": {},
   "source": [
    "# Simulating the game multiple times and estimating probabilities"
   ]
  },
  {
   "cell_type": "code",
   "execution_count": 296,
   "id": "2662db70",
   "metadata": {},
   "outputs": [],
   "source": [
    "from statistics import fmean, stdev\n",
    "\n",
    "def sim(n=10000):\n",
    "    \"\"\"\n",
    "    Simulates the betting game `n` times, with different random initial stacks.\n",
    "    Returns the average f(n,x,y,z)\n",
    "    \"\"\"\n",
    "    data = [sim_xyz(stat=f_est) for _ in range(n)]\n",
    "    max_n = max([max(d) for d in data])\n",
    "    f_avg = {}\n",
    "    f_std = {}\n",
    "    f_neg = {}\n",
    "    for i in range(2, max_n+1):\n",
    "        fs = [d.get(i, 0) for d in data]\n",
    "        f_avg[i] = fmean(fs)\n",
    "        f_std[i] = stdev(fs)\n",
    "        f_neg[i] = len([f for f in fs if f < 0]) / n  # proportion of non-positives\n",
    "    return f_avg, f_std, f_neg"
   ]
  },
  {
   "cell_type": "code",
   "execution_count": 291,
   "id": "64456fbf",
   "metadata": {},
   "outputs": [
    {
     "data": {
      "text/plain": [
       "({2: -0.00951160000000001,\n",
       "  3: 0.10252049999999999,\n",
       "  4: 0.15761050000000001,\n",
       "  5: 0.184125,\n",
       "  6: 0.188024175,\n",
       "  7: 0.157999475,\n",
       "  8: 0.10751530000000001,\n",
       "  9: 0.063218496875,\n",
       "  10: 0.03380515,\n",
       "  11: 0.017376575000000002,\n",
       "  12: 0.008671311328125,\n",
       "  13: 0.00422036875,\n",
       "  14: 0.002080701953125,\n",
       "  15: 0.001050271826171875,\n",
       "  16: 0.0005279693603515625,\n",
       "  17: 0.0002567925537109375,\n",
       "  18: 0.0001247981689453125,\n",
       "  19: 6.039951171875e-05,\n",
       "  20: 2.6099862670898436e-05,\n",
       "  21: 9.19997329711914e-06,\n",
       "  22: 7.5999923706054695e-06},\n",
       " {2: 0.10472611489514642,\n",
       "  3: 0.12122576886380373,\n",
       "  4: 0.12830398243573382,\n",
       "  5: 0.1313123063700354,\n",
       "  6: 0.13580130374193894,\n",
       "  7: 0.14436197503072867,\n",
       "  8: 0.14073260086973266,\n",
       "  9: 0.12004525533681752,\n",
       "  10: 0.09327096802676471,\n",
       "  11: 0.06889528806968356,\n",
       "  12: 0.0493033142762096,\n",
       "  13: 0.0346148809094887,\n",
       "  14: 0.024615676322796116,\n",
       "  15: 0.017684987157066328,\n",
       "  16: 0.012719354383116636,\n",
       "  17: 0.00900842574379819,\n",
       "  18: 0.006319973348400852,\n",
       "  19: 0.004388662686646024,\n",
       "  20: 0.0029151953545986306,\n",
       "  21: 0.002039105176531549,\n",
       "  22: 0.001988461435566782})"
      ]
     },
     "execution_count": 291,
     "metadata": {},
     "output_type": "execute_result"
    }
   ],
   "source": [
    "sim(n=100000)"
   ]
  },
  {
   "cell_type": "code",
   "execution_count": 295,
   "id": "61f84d9d",
   "metadata": {},
   "outputs": [
    {
     "data": {
      "text/plain": [
       "({2: -0.00925810000000001,\n",
       "  3: 0.102845,\n",
       "  4: 0.1578258,\n",
       "  5: 0.18432695,\n",
       "  6: 0.188127225,\n",
       "  7: 0.1579060375,\n",
       "  8: 0.1073463125,\n",
       "  9: 0.06347436249999999,\n",
       "  10: 0.034432990625,\n",
       "  11: 0.01776090546875,\n",
       "  12: 0.009191541796875,\n",
       "  13: 0.0044148130859375,\n",
       "  14: 0.00225487412109375,\n",
       "  15: 0.0010860691406250002,\n",
       "  16: 0.0005562671630859375,\n",
       "  17: 0.00029289188232421877,\n",
       "  18: 0.00014359786376953124,\n",
       "  19: 9.429932861328127e-05,\n",
       "  20: 4.099983978271484e-05,\n",
       "  21: 1.709997329711914e-05,\n",
       "  22: 1.1799992370605468e-05,\n",
       "  23: 5.899998092651367e-06,\n",
       "  24: 3.699999523162842e-06},\n",
       " {2: 0.104434178549776,\n",
       "  3: 0.12095108212266092,\n",
       "  4: 0.12792460475375728,\n",
       "  5: 0.13086699551606834,\n",
       "  6: 0.1354198925076085,\n",
       "  7: 0.14438880693443407,\n",
       "  8: 0.14080498917488546,\n",
       "  9: 0.12088476910403707,\n",
       "  10: 0.09427754363577374,\n",
       "  11: 0.06984898906646132,\n",
       "  12: 0.05094671115980283,\n",
       "  13: 0.03545643136330046,\n",
       "  14: 0.025522143880711418,\n",
       "  15: 0.017565947328062652,\n",
       "  16: 0.0126813088384868,\n",
       "  17: 0.009230519540105616,\n",
       "  18: 0.006149380565878954,\n",
       "  19: 0.004982375748331994,\n",
       "  20: 0.003218751319351253,\n",
       "  21: 0.0022677623270789416,\n",
       "  22: 0.001899971672884181,\n",
       "  23: 0.0013729467995942672,\n",
       "  24: 0.0011700425834731511},\n",
       " {2: 0.55427,\n",
       "  3: 0.21665,\n",
       "  4: 0.11217,\n",
       "  5: 0.07668,\n",
       "  6: 0.10886,\n",
       "  7: 0.26722,\n",
       "  8: 0.50925,\n",
       "  9: 0.7123,\n",
       "  10: 0.84354,\n",
       "  11: 0.91937,\n",
       "  12: 0.95806,\n",
       "  13: 0.97993,\n",
       "  14: 0.98984,\n",
       "  15: 0.99499,\n",
       "  16: 0.99749,\n",
       "  17: 0.99873,\n",
       "  18: 0.99933,\n",
       "  19: 0.99957,\n",
       "  20: 0.99981,\n",
       "  21: 0.99993,\n",
       "  22: 0.99996,\n",
       "  23: 0.99998,\n",
       "  24: 0.99999})"
      ]
     },
     "execution_count": 295,
     "metadata": {},
     "output_type": "execute_result"
    }
   ],
   "source": [
    "sim(n=100000)  # <= 0"
   ]
  },
  {
   "cell_type": "code",
   "execution_count": 297,
   "id": "fea09ae4",
   "metadata": {},
   "outputs": [
    {
     "data": {
      "text/plain": [
       "({2: -0.00902670000000001,\n",
       "  3: 0.1031348,\n",
       "  4: 0.1581853,\n",
       "  5: 0.18466939999999998,\n",
       "  6: 0.188148775,\n",
       "  7: 0.1570627125,\n",
       "  8: 0.10683098125,\n",
       "  9: 0.06283335625,\n",
       "  10: 0.0341936375,\n",
       "  11: 0.017770865625,\n",
       "  12: 0.009051499609375001,\n",
       "  13: 0.004506890625,\n",
       "  14: 0.00218027802734375,\n",
       "  15: 0.00106477255859375,\n",
       "  16: 0.000480270703125,\n",
       "  17: 0.0002361930419921875,\n",
       "  18: 0.00012469838256835936,\n",
       "  19: 6.969954223632813e-05,\n",
       "  20: 3.2399900817871095e-05,\n",
       "  21: 1.8899969482421876e-05,\n",
       "  22: 4.799996185302735e-06,\n",
       "  23: 1.1999990463256836e-06},\n",
       " {2: 0.10487326480627325,\n",
       "  3: 0.1214586042686376,\n",
       "  4: 0.12856800986731348,\n",
       "  5: 0.1315489614361609,\n",
       "  6: 0.13610761838096055,\n",
       "  7: 0.14471360918830056,\n",
       "  8: 0.14050200945859287,\n",
       "  9: 0.12018086110676576,\n",
       "  10: 0.09400544413334254,\n",
       "  11: 0.07011563324973388,\n",
       "  12: 0.05098870434287367,\n",
       "  13: 0.036278818067184096,\n",
       "  14: 0.025179550920504393,\n",
       "  15: 0.01772897088394027,\n",
       "  16: 0.011768347346807949,\n",
       "  17: 0.008268616165280284,\n",
       "  18: 0.006274638070897127,\n",
       "  19: 0.004516207837148695,\n",
       "  20: 0.0032172976732141654,\n",
       "  21: 0.0025402151283973034,\n",
       "  22: 0.0011806731422681514,\n",
       "  23: 0.00037947301764190694},\n",
       " {2: 0.53275,\n",
       "  3: 0.2095,\n",
       "  4: 0.11001,\n",
       "  5: 0.07479,\n",
       "  6: 0.06104,\n",
       "  7: 0.0427,\n",
       "  8: 0.02924,\n",
       "  9: 0.01773,\n",
       "  10: 0.0097,\n",
       "  11: 0.00518,\n",
       "  12: 0.00272,\n",
       "  13: 0.00146,\n",
       "  14: 0.00081,\n",
       "  15: 0.00044,\n",
       "  16: 0.0002,\n",
       "  17: 6e-05,\n",
       "  18: 2e-05,\n",
       "  19: 1e-05,\n",
       "  20: 1e-05,\n",
       "  21: 1e-05,\n",
       "  22: 0.0,\n",
       "  23: 0.0})"
      ]
     },
     "execution_count": 297,
     "metadata": {},
     "output_type": "execute_result"
    }
   ],
   "source": [
    "sim(n=100000)"
   ]
  },
  {
   "cell_type": "code",
   "execution_count": null,
   "id": "a8155a8e",
   "metadata": {},
   "outputs": [],
   "source": []
  }
 ],
 "metadata": {
  "kernelspec": {
   "display_name": "Python 3 (ipykernel)",
   "language": "python",
   "name": "python3"
  },
  "language_info": {
   "codemirror_mode": {
    "name": "ipython",
    "version": 3
   },
   "file_extension": ".py",
   "mimetype": "text/x-python",
   "name": "python",
   "nbconvert_exporter": "python",
   "pygments_lexer": "ipython3",
   "version": "3.9.18"
  }
 },
 "nbformat": 4,
 "nbformat_minor": 5
}
