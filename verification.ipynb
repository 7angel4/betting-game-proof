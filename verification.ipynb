{
 "cells": [
  {
   "cell_type": "markdown",
   "id": "19293d70",
   "metadata": {},
   "source": [
    "Verify the results of `gen_h` and `mip` using real values to calculate f_n and h_n."
   ]
  },
  {
   "cell_type": "code",
   "execution_count": 1,
   "id": "f8caf67d",
   "metadata": {},
   "outputs": [],
   "source": [
    "%run constants.ipynb\n",
    "%run gen_h.ipynb"
   ]
  },
  {
   "cell_type": "code",
   "execution_count": 2,
   "id": "58f96c7c",
   "metadata": {},
   "outputs": [],
   "source": [
    "def no_loser_R(a,b,c):\n",
    "    '''\n",
    "    Returns true (1) if there are no losers in the current state,\n",
    "    false (0) otherwise.\n",
    "    '''\n",
    "    return all(no_loser(a,b,c))"
   ]
  },
  {
   "cell_type": "code",
   "execution_count": 3,
   "id": "54669941",
   "metadata": {},
   "outputs": [],
   "source": [
    "@memoized\n",
    "def h_R(n,a,b,c):\n",
    "    '''\n",
    "    h_n(a,b,c) for real a, b, c.\n",
    "    '''\n",
    "    if n == 1:\n",
    "        return OUTCOME_PROB * no_loser_R(a,b,c) * ((a<=b) + (a<=c))\n",
    "    return OUTCOME_PROB * no_loser_R(a,b,c) * \\\n",
    "            sum([h_R(n-1, *p) for p in parentStates(a,b,c)])"
   ]
  },
  {
   "cell_type": "code",
   "execution_count": 4,
   "id": "3cf0373a",
   "metadata": {},
   "outputs": [],
   "source": [
    "def dh_R(n,a,b,c):\n",
    "    '''s\n",
    "    h_n(a,b,c) - h_n(b,a,c) for a, b, c.\n",
    "    '''\n",
    "    sym_map = {x:a, y:b, z:c}\n",
    "    pos_s = (sym_map[i] for i in STATE)\n",
    "    neg_s = (sym_map[i] for i in NEG_STATE)\n",
    "    return h_R(n, *pos_s) - h_R(n, *neg_s)"
   ]
  },
  {
   "cell_type": "code",
   "execution_count": 5,
   "id": "db9ea048",
   "metadata": {},
   "outputs": [],
   "source": [
    "def delta_R(n,a,b,c):\n",
    "    '''\n",
    "    f_n(a,b,c) - alpha_n for a, b, c.\n",
    "    '''\n",
    "    return sum([dh_R(i,a,b,c) for i in range(1,n+1)]) - thresh(n)"
   ]
  },
  {
   "cell_type": "code",
   "execution_count": 6,
   "id": "97c8de05",
   "metadata": {},
   "outputs": [
    {
     "name": "stderr",
     "output_type": "stream",
     "text": [
      "/var/folders/tk/2zq7clf94gx3rdh5slf6rhc00000gn/T/ipykernel_86926/3349906455.py:14: DeprecationWarning: Using or importing the ABCs from 'collections' instead of from 'collections.abc' is deprecated since Python 3.3, and in 3.10 it will stop working\n",
      "  if not isinstance(args, collections.Hashable):\n"
     ]
    },
    {
     "data": {
      "text/plain": [
       "-0.05"
      ]
     },
     "execution_count": 6,
     "metadata": {},
     "output_type": "execute_result"
    }
   ],
   "source": [
    "delta_R(4,26,27,4)"
   ]
  },
  {
   "cell_type": "code",
   "execution_count": 11,
   "id": "9c6695ff",
   "metadata": {},
   "outputs": [
    {
     "data": {
      "text/plain": [
       "Fraction(-967, 38880)"
      ]
     },
     "execution_count": 11,
     "metadata": {},
     "output_type": "execute_result"
    }
   ],
   "source": [
    "delta_R(5,50,51,6)"
   ]
  },
  {
   "cell_type": "code",
   "execution_count": 10,
   "id": "8a1e9407",
   "metadata": {},
   "outputs": [],
   "source": [
    "# old definition for h_n(x,y,z) - h_n((x+y)/2, (x+y)/2, z)\n",
    "# def delta_dash(n,a,b,c):\n",
    "#     return sum([h_R(i,a,b,c) for i in range(1,n+1)]) \\\n",
    "#             - sum([h_R(i, (a+b)/2, (a+b)/2, c) for i in range(1,n+1)]) - thresh(n)"
   ]
  }
 ],
 "metadata": {
  "kernelspec": {
   "display_name": "Python 3 (ipykernel)",
   "language": "python",
   "name": "python3"
  },
  "language_info": {
   "codemirror_mode": {
    "name": "ipython",
    "version": 3
   },
   "file_extension": ".py",
   "mimetype": "text/x-python",
   "name": "python",
   "nbconvert_exporter": "python",
   "pygments_lexer": "ipython3",
   "version": "3.9.18"
  }
 },
 "nbformat": 4,
 "nbformat_minor": 5
}
