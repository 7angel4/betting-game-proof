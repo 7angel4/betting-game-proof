{
 "cells": [
  {
   "cell_type": "code",
   "execution_count": 26,
   "id": "7a4b11cd",
   "metadata": {},
   "outputs": [],
   "source": [
    "%run constants.ipynb\n",
    "%run gen_h.ipynb"
   ]
  },
  {
   "cell_type": "code",
   "execution_count": 2,
   "id": "f6d84f04",
   "metadata": {},
   "outputs": [],
   "source": [
    "def no_loser_R(a,b,c):\n",
    "    return all(no_loser(a,b,c))"
   ]
  },
  {
   "cell_type": "code",
   "execution_count": 29,
   "id": "1bbcaa45",
   "metadata": {},
   "outputs": [
    {
     "data": {
      "text/plain": [
       "0.10555555555555557"
      ]
     },
     "execution_count": 29,
     "metadata": {},
     "output_type": "execute_result"
    }
   ],
   "source": [
    "float(f_R(2,2,1997,1))"
   ]
  },
  {
   "cell_type": "code",
   "execution_count": 3,
   "id": "5f145603",
   "metadata": {},
   "outputs": [],
   "source": [
    "@memoized\n",
    "def h_R(n,a,b,c):\n",
    "    if n == 1:\n",
    "        return OUTCOME_PROB * no_loser_R(a,b,c) * ((a<=b) + (a<=c))\n",
    "    return OUTCOME_PROB * no_loser_R(a,b,c) * \\\n",
    "            sum([h_R(n-1, *p) for p in parentStates(a,b,c)])"
   ]
  },
  {
   "cell_type": "code",
   "execution_count": 4,
   "id": "df5ce86a",
   "metadata": {},
   "outputs": [],
   "source": [
    "def dh_R(n,a,b,c):\n",
    "    return h_R(n,a,b,c) - h_R(n,b,a,c)"
   ]
  },
  {
   "cell_type": "code",
   "execution_count": 34,
   "id": "011ff421",
   "metadata": {},
   "outputs": [],
   "source": [
    "@memoized\n",
    "def thresh(n):\n",
    "    return Fraction(4, (2**n) * 5)"
   ]
  },
  {
   "cell_type": "code",
   "execution_count": 35,
   "id": "f4129279",
   "metadata": {},
   "outputs": [],
   "source": [
    "def f_R(n,a,b,c):\n",
    "    '''\n",
    "    Returns f_n(a,b,c) - alpha_n\n",
    "    '''\n",
    "    return sum([dh_R(i,a,b,c) for i in range(1,n+1)]) - thresh(n)"
   ]
  },
  {
   "cell_type": "code",
   "execution_count": 36,
   "id": "1c32d8c2",
   "metadata": {},
   "outputs": [
    {
     "data": {
      "text/plain": [
       "-0.021604938271604937"
      ]
     },
     "execution_count": 36,
     "metadata": {},
     "output_type": "execute_result"
    }
   ],
   "source": [
    "float(dh_R(4,23,29,4))"
   ]
  },
  {
   "cell_type": "code",
   "execution_count": 37,
   "id": "a9431ed0",
   "metadata": {},
   "outputs": [
    {
     "data": {
      "text/plain": [
       "Fraction(-23, 1080)"
      ]
     },
     "execution_count": 37,
     "metadata": {},
     "output_type": "execute_result"
    }
   ],
   "source": [
    "f_R(3,8,9,3)"
   ]
  },
  {
   "cell_type": "code",
   "execution_count": 39,
   "id": "8343a4fc",
   "metadata": {},
   "outputs": [
    {
     "data": {
      "text/plain": [
       "Fraction(-13, 1080)"
      ]
     },
     "execution_count": 39,
     "metadata": {},
     "output_type": "execute_result"
    }
   ],
   "source": [
    "f_R(3,7,8,3)"
   ]
  },
  {
   "cell_type": "code",
   "execution_count": 45,
   "id": "1ce66411",
   "metadata": {},
   "outputs": [
    {
     "data": {
      "text/plain": [
       "Fraction(37, 648)"
      ]
     },
     "execution_count": 45,
     "metadata": {},
     "output_type": "execute_result"
    }
   ],
   "source": [
    "f_R(3,8,9,3) + dh_R(4,23,29,4) + thresh(3)"
   ]
  },
  {
   "cell_type": "code",
   "execution_count": 40,
   "id": "795deb3a",
   "metadata": {},
   "outputs": [
    {
     "data": {
      "text/plain": [
       "Fraction(-7, 324)"
      ]
     },
     "execution_count": 40,
     "metadata": {},
     "output_type": "execute_result"
    }
   ],
   "source": [
    "dh_R(4,23,29,4)"
   ]
  },
  {
   "cell_type": "code",
   "execution_count": 23,
   "id": "8228df7e",
   "metadata": {},
   "outputs": [
    {
     "data": {
      "text/plain": [
       "Fraction(-23, 1080)"
      ]
     },
     "execution_count": 23,
     "metadata": {},
     "output_type": "execute_result"
    }
   ],
   "source": [
    "f_R(3,8,9,3)"
   ]
  },
  {
   "cell_type": "code",
   "execution_count": 19,
   "id": "c27b38ea",
   "metadata": {},
   "outputs": [
    {
     "data": {
      "text/plain": [
       "-0.021296296296296296"
      ]
     },
     "execution_count": 19,
     "metadata": {},
     "output_type": "execute_result"
    }
   ],
   "source": [
    "-23/1080"
   ]
  },
  {
   "cell_type": "code",
   "execution_count": 17,
   "id": "fa14bb32",
   "metadata": {},
   "outputs": [
    {
     "data": {
      "text/plain": [
       "0.001851851851851852"
      ]
     },
     "execution_count": 17,
     "metadata": {},
     "output_type": "execute_result"
    }
   ],
   "source": [
    "1/540"
   ]
  },
  {
   "cell_type": "code",
   "execution_count": 13,
   "id": "d9b5dc66",
   "metadata": {},
   "outputs": [
    {
     "data": {
      "text/plain": [
       "Fraction(-1, 36)"
      ]
     },
     "execution_count": 13,
     "metadata": {},
     "output_type": "execute_result"
    }
   ],
   "source": [
    "dh_R(3,4,5,6)"
   ]
  },
  {
   "cell_type": "code",
   "execution_count": null,
   "id": "c7fb9451",
   "metadata": {},
   "outputs": [],
   "source": []
  }
 ],
 "metadata": {
  "kernelspec": {
   "display_name": "Python 3 (ipykernel)",
   "language": "python",
   "name": "python3"
  },
  "language_info": {
   "codemirror_mode": {
    "name": "ipython",
    "version": 3
   },
   "file_extension": ".py",
   "mimetype": "text/x-python",
   "name": "python",
   "nbconvert_exporter": "python",
   "pygments_lexer": "ipython3",
   "version": "3.9.18"
  }
 },
 "nbformat": 4,
 "nbformat_minor": 5
}
