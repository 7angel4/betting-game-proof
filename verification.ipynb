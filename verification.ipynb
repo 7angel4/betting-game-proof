{
 "cells": [
  {
   "cell_type": "markdown",
   "id": "19293d70",
   "metadata": {},
   "source": [
    "Verify the results of `gen_h` and `mip` using real values to calculate f_n and h_n."
   ]
  },
  {
   "cell_type": "code",
   "execution_count": 53,
   "id": "f8caf67d",
   "metadata": {},
   "outputs": [],
   "source": [
    "%run constants.ipynb\n",
    "%run gen_h.ipynb"
   ]
  },
  {
   "cell_type": "code",
   "execution_count": 54,
   "id": "58f96c7c",
   "metadata": {},
   "outputs": [],
   "source": [
    "def no_loser_R(a,b,c):\n",
    "    '''\n",
    "    Returns true (1) if there are no losers in the current state,\n",
    "    false (0) otherwise.\n",
    "    '''\n",
    "    return all(no_loser(a,b,c))"
   ]
  },
  {
   "cell_type": "code",
   "execution_count": 55,
   "id": "54669941",
   "metadata": {},
   "outputs": [],
   "source": [
    "@memoized\n",
    "def h_R(n,a,b,c):\n",
    "    '''\n",
    "    h_n(a,b,c) for integer a, b, c.\n",
    "    '''\n",
    "    if n == 1:\n",
    "        return OUTCOME_PROB * no_loser_R(a,b,c) * ((a<=b) + (a<=c))\n",
    "    return OUTCOME_PROB * no_loser_R(a,b,c) * \\\n",
    "            sum([h_R(n-1, *p) for p in parentStates(a,b,c)])"
   ]
  },
  {
   "cell_type": "code",
   "execution_count": 56,
   "id": "3cf0373a",
   "metadata": {},
   "outputs": [],
   "source": [
    "def dh_R(n,a,b,c):\n",
    "    '''\n",
    "    h_n(a,b,c) - h_n(b,a,c) for integer a, b, c.\n",
    "    '''\n",
    "    return h_R(n,a,b,c) - h_R(n,b,a,c)"
   ]
  },
  {
   "cell_type": "code",
   "execution_count": 57,
   "id": "db9ea048",
   "metadata": {},
   "outputs": [],
   "source": [
    "def f_R(n,a,b,c):\n",
    "    '''\n",
    "    f_n(a,b,c) - alpha_n for integer a, b, c.\n",
    "    '''\n",
    "    return sum([dh_R(i,a,b,c) for i in range(1,n+1)]) - thresh(n)"
   ]
  },
  {
   "cell_type": "code",
   "execution_count": 58,
   "id": "8a1e9407",
   "metadata": {},
   "outputs": [],
   "source": [
    "def delta_dash(n,a,b,c):\n",
    "    return sum([h_R(i,a,b,c) for i in range(1,n+1)]) \\\n",
    "            - sum([h_R(i, (SCALE-c)/2, (SCALE-c)/2, c) for i in range(1,n+1)]) - thresh(n)"
   ]
  },
  {
   "cell_type": "code",
   "execution_count": null,
   "id": "b7d3f92a",
   "metadata": {},
   "outputs": [],
   "source": []
  },
  {
   "cell_type": "code",
   "execution_count": null,
   "id": "1867e8fe",
   "metadata": {},
   "outputs": [],
   "source": []
  }
 ],
 "metadata": {
  "kernelspec": {
   "display_name": "Python 3 (ipykernel)",
   "language": "python",
   "name": "python3"
  },
  "language_info": {
   "codemirror_mode": {
    "name": "ipython",
    "version": 3
   },
   "file_extension": ".py",
   "mimetype": "text/x-python",
   "name": "python",
   "nbconvert_exporter": "python",
   "pygments_lexer": "ipython3",
   "version": "3.9.18"
  }
 },
 "nbformat": 4,
 "nbformat_minor": 5
}
