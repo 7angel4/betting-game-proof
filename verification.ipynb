{
 "cells": [
  {
   "cell_type": "code",
   "execution_count": 26,
   "id": "888cd39f",
   "metadata": {},
   "outputs": [],
   "source": [
    "%run constants.ipynb\n",
    "%run gen_h.ipynb"
   ]
  },
  {
   "cell_type": "code",
   "execution_count": 2,
   "id": "ab29d352",
   "metadata": {},
   "outputs": [],
   "source": [
    "def no_loser_R(a,b,c):\n",
    "    return all(no_loser(a,b,c))"
   ]
  },
  {
   "cell_type": "code",
   "execution_count": 29,
   "id": "d80b92bd",
   "metadata": {},
   "outputs": [
    {
     "data": {
      "text/plain": [
       "0.10555555555555557"
      ]
     },
     "execution_count": 29,
     "metadata": {},
     "output_type": "execute_result"
    }
   ],
   "source": [
    "float(f_R(2,2,1997,1))"
   ]
  },
  {
   "cell_type": "code",
   "execution_count": 3,
   "id": "85d34005",
   "metadata": {},
   "outputs": [],
   "source": [
    "@memoized\n",
    "def h_R(n,a,b,c):\n",
    "    if n == 1:\n",
    "        return OUTCOME_PROB * no_loser_R(a,b,c) * ((a<=b) + (a<=c))\n",
    "    return OUTCOME_PROB * no_loser_R(a,b,c) * \\\n",
    "            sum([h_R(n-1, *p) for p in parentStates(a,b,c)])"
   ]
  },
  {
   "cell_type": "code",
   "execution_count": 4,
   "id": "b65141c8",
   "metadata": {},
   "outputs": [],
   "source": [
    "def dh_R(n,a,b,c):\n",
    "    return h_R(n,a,b,c) - h_R(n,b,a,c)"
   ]
  },
  {
   "cell_type": "code",
   "execution_count": 5,
   "id": "fae7fc73",
   "metadata": {},
   "outputs": [],
   "source": [
    "@memoized\n",
    "def thresh(n):\n",
    "    return Fraction(4, (2**n) * 5)"
   ]
  },
  {
   "cell_type": "code",
   "execution_count": 14,
   "id": "a9d043d1",
   "metadata": {},
   "outputs": [],
   "source": [
    "def f_R(n,a,b,c):\n",
    "    '''\n",
    "    Returns f_n(a,b,c) - alpha_n\n",
    "    '''\n",
    "    return sum([dh_R(i,a,b,c) for i in range(1,n+1)]) - thresh(n)"
   ]
  },
  {
   "cell_type": "code",
   "execution_count": 20,
   "id": "682dc486",
   "metadata": {},
   "outputs": [
    {
     "data": {
      "text/plain": [
       "-0.021604938271604937"
      ]
     },
     "execution_count": 20,
     "metadata": {},
     "output_type": "execute_result"
    }
   ],
   "source": [
    "float(dh_R(4,23,29,4))"
   ]
  },
  {
   "cell_type": "code",
   "execution_count": 22,
   "id": "fcb0e4dc",
   "metadata": {},
   "outputs": [
    {
     "data": {
      "text/plain": [
       "Fraction(23, 3240)"
      ]
     },
     "execution_count": 22,
     "metadata": {},
     "output_type": "execute_result"
    }
   ],
   "source": [
    "f_R(3,8,9,3) + dh_R(4,23,29,4) + thresh(4)"
   ]
  },
  {
   "cell_type": "code",
   "execution_count": 23,
   "id": "879b2440",
   "metadata": {},
   "outputs": [
    {
     "data": {
      "text/plain": [
       "Fraction(-23, 1080)"
      ]
     },
     "execution_count": 23,
     "metadata": {},
     "output_type": "execute_result"
    }
   ],
   "source": [
    "f_R(3,8,9,3)"
   ]
  },
  {
   "cell_type": "code",
   "execution_count": 19,
   "id": "6747f683",
   "metadata": {},
   "outputs": [
    {
     "data": {
      "text/plain": [
       "-0.021296296296296296"
      ]
     },
     "execution_count": 19,
     "metadata": {},
     "output_type": "execute_result"
    }
   ],
   "source": [
    "-23/1080"
   ]
  },
  {
   "cell_type": "code",
   "execution_count": 17,
   "id": "a550aafa",
   "metadata": {},
   "outputs": [
    {
     "data": {
      "text/plain": [
       "0.001851851851851852"
      ]
     },
     "execution_count": 17,
     "metadata": {},
     "output_type": "execute_result"
    }
   ],
   "source": [
    "1/540"
   ]
  },
  {
   "cell_type": "code",
   "execution_count": 13,
   "id": "f4d19da9",
   "metadata": {},
   "outputs": [
    {
     "data": {
      "text/plain": [
       "Fraction(-1, 36)"
      ]
     },
     "execution_count": 13,
     "metadata": {},
     "output_type": "execute_result"
    }
   ],
   "source": [
    "dh_R(3,4,5,6)"
   ]
  },
  {
   "cell_type": "code",
   "execution_count": null,
   "id": "e94bfdf8",
   "metadata": {},
   "outputs": [],
   "source": []
  }
 ],
 "metadata": {
  "kernelspec": {
   "display_name": "Python 3 (ipykernel)",
   "language": "python",
   "name": "python3"
  },
  "language_info": {
   "codemirror_mode": {
    "name": "ipython",
    "version": 3
   },
   "file_extension": ".py",
   "mimetype": "text/x-python",
   "name": "python",
   "nbconvert_exporter": "python",
   "pygments_lexer": "ipython3",
   "version": "3.9.18"
  }
 },
 "nbformat": 4,
 "nbformat_minor": 5
}
