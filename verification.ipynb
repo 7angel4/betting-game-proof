{
 "cells": [
  {
   "cell_type": "code",
   "execution_count": 2,
   "id": "d4dd5354",
   "metadata": {},
   "outputs": [],
   "source": [
    "%run constants.ipynb\n",
    "%run gen_h.ipynb"
   ]
  },
  {
   "cell_type": "code",
   "execution_count": 11,
   "id": "2f11d5d9",
   "metadata": {},
   "outputs": [],
   "source": [
    "def no_loser_R(a,b,c):\n",
    "    return all(no_loser(a,b,c))"
   ]
  },
  {
   "cell_type": "code",
   "execution_count": 13,
   "id": "b882a3ba",
   "metadata": {},
   "outputs": [],
   "source": [
    "@memoized\n",
    "def h_R(n,a,b,c):\n",
    "    if n == 1:\n",
    "        return OUTCOME_PROB * no_loser_R(a,b,c) * ((a<=b) + (a<=c))\n",
    "    return OUTCOME_PROB * no_loser_R(a,b,c) * \\\n",
    "            sum([h_R(n-1, *p) for p in parentStates(a,b,c)])"
   ]
  },
  {
   "cell_type": "code",
   "execution_count": 17,
   "id": "5b7ededc",
   "metadata": {},
   "outputs": [],
   "source": [
    "def dh_R(n,a,b,c):\n",
    "    return h_R(n,a,b,c) - h_R(n,b,a,c)"
   ]
  },
  {
   "cell_type": "code",
   "execution_count": 21,
   "id": "792238d4",
   "metadata": {},
   "outputs": [],
   "source": [
    "@memoized\n",
    "def thresh(n):\n",
    "    return Fraction(4, (2**n) * 5)"
   ]
  },
  {
   "cell_type": "code",
   "execution_count": 25,
   "id": "cbfb9ccd",
   "metadata": {},
   "outputs": [],
   "source": [
    "def f_R(n,a,b,c):\n",
    "    '''\n",
    "    Returns f_n(a,b,c) - alpha_n\n",
    "    '''\n",
    "    return sum([dh_R(i,a,b,c) for i in range(1,n+1)]) - thresh(n)"
   ]
  },
  {
   "cell_type": "code",
   "execution_count": 31,
   "id": "9a37dc86",
   "metadata": {},
   "outputs": [
    {
     "data": {
      "text/plain": [
       "Fraction(43, 648)"
      ]
     },
     "execution_count": 31,
     "metadata": {},
     "output_type": "execute_result"
    }
   ],
   "source": [
    "f_R(3,4,5,6) + dh_R(4,7,8,23) + thresh(3)"
   ]
  },
  {
   "cell_type": "code",
   "execution_count": 34,
   "id": "75779949",
   "metadata": {},
   "outputs": [
    {
     "data": {
      "text/plain": [
       "0.016358024691358025"
      ]
     },
     "execution_count": 34,
     "metadata": {},
     "output_type": "execute_result"
    }
   ],
   "source": [
    "53/3240"
   ]
  },
  {
   "cell_type": "code",
   "execution_count": null,
   "id": "8561cb25",
   "metadata": {},
   "outputs": [],
   "source": []
  }
 ],
 "metadata": {
  "kernelspec": {
   "display_name": "Python 3 (ipykernel)",
   "language": "python",
   "name": "python3"
  },
  "language_info": {
   "codemirror_mode": {
    "name": "ipython",
    "version": 3
   },
   "file_extension": ".py",
   "mimetype": "text/x-python",
   "name": "python",
   "nbconvert_exporter": "python",
   "pygments_lexer": "ipython3",
   "version": "3.9.18"
  }
 },
 "nbformat": 4,
 "nbformat_minor": 5
}
