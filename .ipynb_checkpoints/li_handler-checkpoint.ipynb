{
 "cells": [
  {
   "cell_type": "markdown",
   "id": "79593b9c",
   "metadata": {},
   "source": [
    "Helper module to handle linear inequalities."
   ]
  },
  {
   "cell_type": "code",
   "execution_count": 2,
   "id": "6eac873e",
   "metadata": {},
   "outputs": [],
   "source": [
    "%run constants.ipynb\n",
    "from sympy import And, Not, simplify, Add"
   ]
  },
  {
   "cell_type": "code",
   "execution_count": 4,
   "id": "0216b3b3",
   "metadata": {},
   "outputs": [],
   "source": [
    "EPS = 1e-10\n",
    "def nonstricten(*ineqs):\n",
    "    nonstrict = []\n",
    "    for i in ineqs:\n",
    "        if isinstance(i, Gt):\n",
    "            # a>b => a >= b+EPS\n",
    "            nonstrict.append(Ge(i.lhs, i.rhs + EPS))\n",
    "        elif isinstance(i, Lt):\n",
    "            # a<b => a <= b-EPS\n",
    "            nonstrict.append(Le(i.lhs, i.rhs - EPS))\n",
    "        else:\n",
    "            nonstrict.append(i)  # already non-strict\n",
    "    return nonstrict"
   ]
  },
  {
   "cell_type": "code",
   "execution_count": 5,
   "id": "6365416d",
   "metadata": {},
   "outputs": [],
   "source": [
    "from sympy.solvers.simplex import lpmax, InfeasibleLPError\n",
    "from sympy.core import *\n",
    "\n",
    "def solve_lp(*constraints, Ax=0):\n",
    "    ''' Returns max LP solution for Ax <= b, under the given `constraints`. '''\n",
    "    return lpmax(Ax, nonstricten(*constraints))\n",
    "\n",
    "def feasible(*ineqs, r=V):\n",
    "    ''' Returns true if the And of the linear inequalities `ineqs` are feasible under constraints `r`, \n",
    "        false otherwise. \n",
    "    '''\n",
    "    try:\n",
    "        result = solve_lp(*r, *ineqs, Ax=0)\n",
    "    except InfeasibleLPError:\n",
    "        return False\n",
    "    return result\n",
    "\n",
    "def redundant(ineq, r=V):\n",
    "    ''' Returns true if the linear inequality `ineq` is redundant under constraints `r`, \n",
    "        false otherwise. \n",
    "    '''\n",
    "    # if (Assumptions => Ineq) = (not A or I) is valid, then (A and not I) is unsatisfiable\n",
    "    return feasible(Not(ineq), r=r) == False\n",
    "\n",
    "def non_redundant(*ineqs, r=V):\n",
    "    ''' Returns the non-redundant inequalities from `ineqs` under constraints `r`.\n",
    "    '''\n",
    "    return [i for i in ineqs if not redundant(i, r=r)]\n",
    "\n",
    "def equiv(rs, ss):\n",
    "    ''' Returns true if e1 = e2, false otherwise.\n",
    "    '''\n",
    "    rs = set([simplify(r) for r in rs])\n",
    "    ss = set([simplify(s) for s in ss])\n",
    "    return all([r.equals(s) for r,s in zip(rs, ss)])\n",
    "\n",
    "def opposite(rs, ss):\n",
    "    return len(rs) == 1 and len(ss) == 1 and simplify(Not(rs[0])).equals(simplify(ss[0]))"
   ]
  },
  {
   "cell_type": "code",
   "execution_count": 6,
   "id": "5e3d69e6",
   "metadata": {},
   "outputs": [],
   "source": [
    "def reduce(inds, r=V):\n",
    "    ''' \n",
    "    Reduces the 2D list of `inds` under restriction `r`.\n",
    "    i.e. Inferrable indicators from `r` are converted to 0s or 1s.\n",
    "    Returns a 2-tuple of constant value (evaluated indicators), remaining indicators.\n",
    "    '''\n",
    "    reduced = []\n",
    "    const = 0\n",
    "    for i in inds:\n",
    "        if not feasible(*i, r=r):\n",
    "            # not feasible\n",
    "            continue\n",
    "        else:\n",
    "            rem = non_redundant(*i, r=r)\n",
    "            if not rem:\n",
    "                const += 1\n",
    "            else:\n",
    "                reduced.append(rem)\n",
    "                \n",
    "    return const, reduced"
   ]
  },
  {
   "cell_type": "code",
   "execution_count": 8,
   "id": "089088a5",
   "metadata": {},
   "outputs": [],
   "source": [
    "def sub(ind, vals):\n",
    "    '''\n",
    "    Evaluates the (compound) indicator constraint `ind`, \n",
    "    using substitution of values from `vals` (a variable : value dictionary).\n",
    "    '''\n",
    "    return 1 if And(*ind).subs(vals) else 0"
   ]
  },
  {
   "cell_type": "code",
   "execution_count": null,
   "id": "623fdc7e",
   "metadata": {},
   "outputs": [],
   "source": []
  }
 ],
 "metadata": {
  "kernelspec": {
   "display_name": "Python 3 (ipykernel)",
   "language": "python",
   "name": "python3"
  },
  "language_info": {
   "codemirror_mode": {
    "name": "ipython",
    "version": 3
   },
   "file_extension": ".py",
   "mimetype": "text/x-python",
   "name": "python",
   "nbconvert_exporter": "python",
   "pygments_lexer": "ipython3",
   "version": "3.9.18"
  }
 },
 "nbformat": 4,
 "nbformat_minor": 5
}
