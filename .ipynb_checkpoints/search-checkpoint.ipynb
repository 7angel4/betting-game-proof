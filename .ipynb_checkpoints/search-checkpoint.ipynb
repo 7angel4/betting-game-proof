{
 "cells": [
  {
   "cell_type": "code",
   "execution_count": 241,
   "id": "64d92b5e",
   "metadata": {},
   "outputs": [],
   "source": [
    "import numpy as np\n",
    "from fractions import Fraction\n",
    "from sympy import symbols, And, Not, simplify, solve, reduce_inequalities\n",
    "from sympy.core.assumptions import assumptions\n",
    "from sympy import linprog"
   ]
  },
  {
   "cell_type": "code",
   "execution_count": 117,
   "id": "97c946b5",
   "metadata": {},
   "outputs": [],
   "source": [
    "OUTCOME_PROB = Fraction(1,6)"
   ]
  },
  {
   "cell_type": "code",
   "execution_count": 162,
   "id": "621728f6",
   "metadata": {},
   "outputs": [],
   "source": [
    "x, y, z = symbols('x y z')\n",
    "#assumptions(x)"
   ]
  },
  {
   "cell_type": "code",
   "execution_count": 259,
   "id": "4cd8bbbf",
   "metadata": {},
   "outputs": [],
   "source": [
    "def no_loser(a,b,c):\n",
    "    return [a>0, b>0, c>0]\n",
    "\n",
    "V = [x>0, x<y, y<z]"
   ]
  },
  {
   "cell_type": "code",
   "execution_count": 260,
   "id": "5c590d18",
   "metadata": {},
   "outputs": [],
   "source": [
    "# The assumptions framework in sympy does not work so well with linear inequalities\n",
    "# We use our own LP framework to detect:\n",
    "# 1. constraints that violate V\n",
    "# 2. inferences (e.g. 0<x<y and 3*x < y => 2*x < y)\n",
    "from sympy.solvers.simplex import lpmax\n",
    "from sympy.core import *\n",
    "\n",
    "EPS = 1e-65\n",
    "def to_nonstrict_ineq(ineq):\n",
    "    if isinstance(ineq, Gt):\n",
    "        # a>b => a >= b+EPS\n",
    "        return Ge(ineq.lhs, ineq.rhs + EPS)\n",
    "    elif isinstance(ineq, Lt):\n",
    "        # a<b => a <= b-EPS\n",
    "        return Le(ineq.lhs, ineq.rhs - EPS)\n",
    "    else:\n",
    "        return ineq  # already non-strict"
   ]
  },
  {
   "cell_type": "code",
   "execution_count": 267,
   "id": "3b935eca",
   "metadata": {},
   "outputs": [],
   "source": [
    "from sympy.solvers.simplex import InfeasibleLPError\n",
    "\n",
    "def solve_lp(e, ineqs, f=lpmax):\n",
    "    # convert all constraints to non-strict inequalities\n",
    "    return f(e, [to_nonstrict_ineq(c) for c in ineqs])\n",
    "\n",
    "def feasible_mult(ineqs, assumptions):\n",
    "    try:\n",
    "        result = solve_lp(0, assumptions + ineqs)\n",
    "    except InfeasibleLPError:\n",
    "        return False\n",
    "    return result\n",
    "\n",
    "def feasible(ineq, assumptions):\n",
    "    return feasible_mult([ineq], assumptions)\n",
    "\n",
    "def redundant(ineq, assumptions):\n",
    "    # if Assumptions => Ineq (<=> not A or I) is valid, then (A and not I) should be unsatisfiable\n",
    "    return feasible(Not(ineq), assumptions) == False"
   ]
  },
  {
   "cell_type": "code",
   "execution_count": 268,
   "id": "637d28dd",
   "metadata": {},
   "outputs": [],
   "source": [
    "def getParentStates(a,b,c):\n",
    "    return [(2*a,b-a,c), (2*a,b,c-a),\n",
    "            (a-b,2*b,c), (a,2*b,c-b),\n",
    "            (a-c,b,2*c), (a,b-c,2*c)]"
   ]
  },
  {
   "cell_type": "code",
   "execution_count": 269,
   "id": "db35867d",
   "metadata": {},
   "outputs": [
    {
     "data": {
      "text/plain": [
       "[(2*y, 2*x - y, -x + z),\n",
       " (2*y, 2*x, -x - y + z),\n",
       " (-2*x + y, 4*x, -x + z),\n",
       " (y, 4*x, -3*x + z),\n",
       " (x + y - z, 2*x, -2*x + 2*z),\n",
       " (y, 3*x - z, -2*x + 2*z)]"
      ]
     },
     "execution_count": 269,
     "metadata": {},
     "output_type": "execute_result"
    }
   ],
   "source": [
    "getParentStates(y, 2*x, z-x)"
   ]
  },
  {
   "cell_type": "code",
   "execution_count": 299,
   "id": "430e0259",
   "metadata": {},
   "outputs": [],
   "source": [
    "import collections\n",
    "import functools\n",
    "\n",
    "class memoized(object):\n",
    "    '''Decorator. Caches a function's return value each time it is called.\n",
    "    If called later with the same arguments, the cached value is returned\n",
    "    (not reevaluated).\n",
    "    '''\n",
    "    def __init__(self, func):\n",
    "        self.func = func\n",
    "        self.cache = {}\n",
    "    \n",
    "    def __call__(self, *args):\n",
    "        if not isinstance(args, collections.Hashable):\n",
    "            # uncacheable. a list, for instance.\n",
    "            # better to not cache than blow up.\n",
    "            return self.func(*args)\n",
    "        if args in self.cache:\n",
    "            return self.cache[args]\n",
    "        else:\n",
    "            value = self.func(*args)\n",
    "            self.cache[args] = value\n",
    "            return value\n",
    "    \n",
    "    def __repr__(self):\n",
    "        '''Return the function's docstring.'''\n",
    "        return self.func.__doc__\n",
    "    \n",
    "    def __get__(self, obj, objtype):\n",
    "        '''Support instance methods.'''\n",
    "        return functools.partial(self.__call__, obj)"
   ]
  },
  {
   "cell_type": "code",
   "execution_count": 300,
   "id": "5dbfc9a4",
   "metadata": {},
   "outputs": [],
   "source": [
    "def reduce(ineqs, assumptions):\n",
    "    # converts the inferred inequalities under `assumptions` to 0s or 1s\n",
    "    reduced = []\n",
    "    const = 0\n",
    "    for ineq in ineqs:\n",
    "        if not feasible(ineq, assumptions):\n",
    "            # not feasible\n",
    "            continue\n",
    "        elif redundant(ineq, assumptions):\n",
    "            # definitely true under assumptions\n",
    "            const += 1\n",
    "        else:\n",
    "            reduced.append(ineq)\n",
    "    return const, reduced"
   ]
  },
  {
   "cell_type": "code",
   "execution_count": 310,
   "id": "5679a638",
   "metadata": {},
   "outputs": [],
   "source": [
    "@memoized\n",
    "def _h(n,a,b,c):\n",
    "    # constant coef = (1/6)^n\n",
    "    # so we only keep track of the indicators to be summed up\n",
    "    if not feasible_mult(no_loser(a,b,c), V):\n",
    "        return []\n",
    "    if n == 1:\n",
    "        return [simplify(a<=b), simplify(a<=c)]\n",
    "    # list of inequalities representing the region Rn\n",
    "    return list(set(sum([_h(n-1, *s) for s in getParentStates(a,b,c)], [])))\n",
    "\n",
    "@memoized\n",
    "def h(n,a,b,c):\n",
    "    return reduce(_h(n,a,b,c), V) if _h(n,a,b,c) else (0, [])\n",
    "\n",
    "class H():\n",
    "    def __init__(self,n,a,b,c):\n",
    "        self.coef = pow(OUTCOME_PROB, n)\n",
    "        self.const, self.inds = h(n,a,b,c)\n",
    "    \n",
    "    def null(self):\n",
    "        return not self.const == 0 and not self.inds\n",
    "        \n",
    "    def lb(self, r):\n",
    "        c, inds = reduce(self.inds, r)\n",
    "        # assume all the unsure indicators are 0\n",
    "        return self.coef * (self.const + c)\n",
    "    \n",
    "    def ub(self, r):\n",
    "        c, inds = reduce(self.inds, r)\n",
    "        # assume all the unsure indicators are 1\n",
    "        # but does not handle relationships between those inds\n",
    "        return self.coef * (self.const + c + len(inds))\n",
    "        \n",
    "        \n",
    "class dh():\n",
    "    def __init__(self,n,a,b,c):\n",
    "        self.pos = H(n,a,b,c)\n",
    "        self.neg = H(n,b,a,c)\n",
    "    \n",
    "    def lb(self, r):\n",
    "        # detect relationship between positive and negative indicators\n",
    "        # want lower bound - maximize neg inds & minimize pos inds\n",
    "        # SIMPLIFICATION: assume all uncertain pos inds are false & neg inds are true\n",
    "        return self.pos.lb(r) - self.neg.ub(r)\n",
    "\n",
    "def f(n, r):\n",
    "    @memoized\n",
    "    def sum_dh(n):\n",
    "        if n == 1:\n",
    "            return dh(1,x,y,z).lb(r)\n",
    "        return dh(n,x,y,z).lb(r) + sum_dh(n-1)\n",
    "    return sum_dh(n)"
   ]
  },
  {
   "cell_type": "code",
   "execution_count": 311,
   "id": "e2b5fa26",
   "metadata": {},
   "outputs": [
    {
     "data": {
      "text/plain": [
       "True"
      ]
     },
     "execution_count": 311,
     "metadata": {},
     "output_type": "execute_result"
    }
   ],
   "source": [
    "H(4,x-y,y,z).ub(V) == 0"
   ]
  },
  {
   "cell_type": "code",
   "execution_count": 320,
   "id": "fa2aee3a",
   "metadata": {},
   "outputs": [
    {
     "data": {
      "text/plain": [
       "Fraction(1, 36)"
      ]
     },
     "execution_count": 320,
     "metadata": {},
     "output_type": "execute_result"
    }
   ],
   "source": [
    "dh(2,x,y,z).lb([2*x<y, 3*x<z, 3*y>z] + V)"
   ]
  },
  {
   "cell_type": "code",
   "execution_count": 316,
   "id": "69cc7f98",
   "metadata": {},
   "outputs": [
    {
     "data": {
      "text/plain": [
       "Fraction(7, 36)"
      ]
     },
     "execution_count": 316,
     "metadata": {},
     "output_type": "execute_result"
    }
   ],
   "source": [
    "f(2, [3*x<=y] + V + no_loser())"
   ]
  },
  {
   "cell_type": "code",
   "execution_count": 292,
   "id": "d0b7c944",
   "metadata": {},
   "outputs": [],
   "source": [
    "def thresh(n):\n",
    "    return pow(Fraction(1,2), n) * Fraction(4,5)"
   ]
  },
  {
   "cell_type": "code",
   "execution_count": 325,
   "id": "4fe2f8db",
   "metadata": {},
   "outputs": [],
   "source": [
    "def run(n):\n",
    "    d = dh(n,x,y,z)\n",
    "    checked = []\n",
    "    for r in d.pos.inds:\n",
    "        for s in d.neg.inds:\n",
    "            fval = f(n, V + [r,s] + checked)\n",
    "            print([r,s], fval)\n",
    "            if fval <= thresh(n):\n",
    "                print(\"Failed!\")\n",
    "                return False\n",
    "        checked += [Not(r)]\n",
    "    return True"
   ]
  },
  {
   "cell_type": "code",
   "execution_count": null,
   "id": "ffd9c094",
   "metadata": {},
   "outputs": [
    {
     "name": "stdout",
     "output_type": "stream",
     "text": [
      "n = 2\n",
      "[2*x <= y, 2*x >= y] 1/9\n",
      "Failed!\n",
      "n = 3\n",
      "[z >= 2*x, 5*x >= 3*y] 5/216\n",
      "Failed!\n",
      "n = 4\n",
      "[3*x <= -2*y + 2*z, 5*x >= 3*y + z] 13/72\n",
      "[3*x <= -2*y + 2*z, 3*x <= -y + 2*z] 31/1296\n",
      "Failed!\n",
      "n = 5\n",
      "[3*x <= -2*y + 2*z, 3*x <= -y + 2*z] -17/2592\n",
      "Failed!\n",
      "n = 6\n",
      "[3*x <= -39*y + 13*z, 3*x >= 16*y - 10*z] 899/46656\n",
      "[3*x <= -39*y + 13*z, 10*x >= 9*y] 463/23328\n",
      "[3*x <= -39*y + 13*z, 17*x >= 7*y] 113/5832\n",
      "[3*x <= -39*y + 13*z, 49*x >= y + 7*z] 1535/46656\n",
      "[3*x <= -39*y + 13*z, 30*x >= y + 10*z] 8543/46656\n",
      "[3*x <= -39*y + 13*z, 7*x >= 3*y - z] 899/46656\n",
      "[3*x <= -39*y + 13*z, 2*x >= 17*y - 7*z] 899/46656\n",
      "[3*x <= -39*y + 13*z, 30*x <= -y + 18*z] 899/46656\n",
      "[3*x <= -39*y + 13*z, 20*x >= 12*y - z] 905/46656\n",
      "[3*x <= -39*y + 13*z, 9*y <= 4*z] 899/46656\n",
      "[3*x <= -39*y + 13*z, 21*y <= 19*z] 899/46656\n",
      "[3*x <= -39*y + 13*z, 15*x >= 7*y + 5*z] 8543/46656\n",
      "[3*x <= -39*y + 13*z, 13*x >= 11*y - 3*z] 449/23328\n",
      "[3*x <= -39*y + 13*z, x >= 15*y - z] 2231/23328\n",
      "[3*x <= -39*y + 13*z, 33*x >= 15*y - z] 301/15552\n",
      "[3*x <= -39*y + 13*z, 2*x <= -19*y + 5*z] 2137/46656\n",
      "[3*x <= -39*y + 13*z, x >= -5*y + 3*z] 8543/46656\n",
      "[3*x <= -39*y + 13*z, 3*x >= 2*y] 229/11664\n",
      "[3*x <= -39*y + 13*z, 21*x >= 5*y - z] 899/46656\n",
      "[3*x <= -39*y + 13*z, 11*x >= 27*y - 5*z] 455/23328\n",
      "[3*x <= -39*y + 13*z, 31*x >= 9*y] 901/46656\n",
      "[3*x <= -39*y + 13*z, 21*x <= -y + 2*z] 3557/46656\n",
      "[3*x <= -39*y + 13*z, 3*x <= -6*y + 5*z] 899/46656\n",
      "[3*x <= -39*y + 13*z, 27*x <= -3*y + 5*z] 923/15552\n",
      "[3*x <= -39*y + 13*z, 7*x >= -17*y + 7*z] 115/1944\n",
      "[3*x <= -39*y + 13*z, 8*x >= 5*y] 305/15552\n",
      "[3*x <= -39*y + 13*z, 15*x <= -3*y + 17*z] 899/46656\n",
      "[3*x <= -39*y + 13*z, 2*x >= -y + z] 8543/46656\n",
      "[3*x <= -39*y + 13*z, y <= 9*x] 899/46656\n",
      "[3*x <= -39*y + 13*z, 45*x <= -y + 15*z] 899/46656\n",
      "[3*x <= -39*y + 13*z, x <= -30*y + z] 395/3888\n",
      "[3*x <= -39*y + 13*z, 7*y <= z] 617/7776\n",
      "[3*x <= -39*y + 13*z, 41*x >= 23*y] 907/46656\n",
      "[3*x <= -39*y + 13*z, 3*x >= 7*y - 5*z] 899/46656\n",
      "[3*x <= -39*y + 13*z, 3*x >= 11*y - 5*z] 899/46656\n",
      "[3*x <= -39*y + 13*z, 46*x >= 3*y] 899/46656\n",
      "[3*x <= -39*y + 13*z, x <= -13*y + 3*z] 143/2916\n",
      "[3*x <= -39*y + 13*z, 10*y <= 3*z] 1051/46656\n",
      "[3*x <= -39*y + 13*z, 13*x <= 3*y + z] 365/5832\n",
      "[3*x <= -39*y + 13*z, 21*x >= 9*y + 7*z] 8543/46656\n",
      "[3*x <= -39*y + 13*z, 3*x >= -11*y + 13*z] 8543/46656\n",
      "[3*x <= -39*y + 13*z, 24*x >= 8*y - z] 449/23328\n",
      "[3*x <= -39*y + 13*z, 3*x >= 35*y - 5*z] 3353/46656\n"
     ]
    }
   ],
   "source": [
    "n = 2\n",
    "while True:\n",
    "    print(f'n = {n}')\n",
    "    if run(n):\n",
    "        print(n)\n",
    "        break\n",
    "    else:\n",
    "        n += 1"
   ]
  },
  {
   "cell_type": "code",
   "execution_count": null,
   "id": "2d79b3eb",
   "metadata": {},
   "outputs": [],
   "source": []
  }
 ],
 "metadata": {
  "kernelspec": {
   "display_name": "Python 3 (ipykernel)",
   "language": "python",
   "name": "python3"
  },
  "language_info": {
   "codemirror_mode": {
    "name": "ipython",
    "version": 3
   },
   "file_extension": ".py",
   "mimetype": "text/x-python",
   "name": "python",
   "nbconvert_exporter": "python",
   "pygments_lexer": "ipython3",
   "version": "3.9.18"
  }
 },
 "nbformat": 4,
 "nbformat_minor": 5
}
