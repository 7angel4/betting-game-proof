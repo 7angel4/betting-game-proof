{
 "cells": [
  {
   "cell_type": "code",
   "execution_count": 116,
   "id": "64d92b5e",
   "metadata": {},
   "outputs": [],
   "source": [
    "import numpy as np\n",
    "from fractions import Fraction\n",
    "from sympy import symbols, And, simplify, solve, reduce_inequalities\n",
    "from sympy.core.assumptions import assumptions\n",
    "from sympy import linprog"
   ]
  },
  {
   "cell_type": "code",
   "execution_count": 117,
   "id": "97c946b5",
   "metadata": {},
   "outputs": [],
   "source": [
    "OUTCOME_PROB = Fraction(1,6)"
   ]
  },
  {
   "cell_type": "code",
   "execution_count": 118,
   "id": "621728f6",
   "metadata": {},
   "outputs": [
    {
     "data": {
      "text/plain": [
       "{'positive': True,\n",
       " 'extended_nonpositive': False,\n",
       " 'extended_nonnegative': True,\n",
       " 'hermitian': True,\n",
       " 'imaginary': False,\n",
       " 'nonpositive': False,\n",
       " 'complex': True,\n",
       " 'extended_positive': True,\n",
       " 'extended_negative': False,\n",
       " 'extended_nonzero': True,\n",
       " 'extended_real': True,\n",
       " 'infinite': False,\n",
       " 'finite': True,\n",
       " 'negative': False,\n",
       " 'nonzero': True,\n",
       " 'nonnegative': True,\n",
       " 'real': True,\n",
       " 'zero': False,\n",
       " 'commutative': True,\n",
       " 'integer': True,\n",
       " 'rational': True,\n",
       " 'algebraic': True,\n",
       " 'irrational': False,\n",
       " 'noninteger': False,\n",
       " 'transcendental': False}"
      ]
     },
     "execution_count": 118,
     "metadata": {},
     "output_type": "execute_result"
    }
   ],
   "source": [
    "x, y, z = symbols('x y z', positive=True, integer=True)\n",
    "assumptions(x)"
   ]
  },
  {
   "cell_type": "code",
   "execution_count": 119,
   "id": "f7c183e7",
   "metadata": {},
   "outputs": [],
   "source": [
    "V = [x>0, x<y, y<z]\n",
    "\n",
    "def no_loser(a,b,c):\n",
    "    return a>0 & b>0 & c>0"
   ]
  },
  {
   "cell_type": "code",
   "execution_count": 120,
   "id": "ff2e5a65",
   "metadata": {},
   "outputs": [],
   "source": [
    "# The assumptions framework in sympy does not work so well with linear inequalities\n",
    "# We use our own LP framework to detect:\n",
    "# 1. constraints that violate V\n",
    "# 2. inferences (e.g. 0<x<y and 3*x < y => 2*x < y)\n",
    "from sympy.solvers.simplex import lpmax\n",
    "from sympy.core import *\n",
    "\n",
    "EPS = 1e-65\n",
    "def to_nonstrict_ineq(ineq):\n",
    "    if isinstance(ineq, Gt):\n",
    "        # a>b => a >= b+EPS\n",
    "        return Ge(ineq.lhs, ineq.rhs + EPS)\n",
    "    elif isinstance(ineq, Lt):\n",
    "        # a<b => a <= b-EPS\n",
    "        return Le(ineq.lhs, ineq.rhs - EPS)\n",
    "    else:\n",
    "        return ineq  # already non-strict"
   ]
  },
  {
   "cell_type": "code",
   "execution_count": 121,
   "id": "a09d7bf4",
   "metadata": {},
   "outputs": [
    {
     "data": {
      "text/plain": [
       "False"
      ]
     },
     "execution_count": 121,
     "metadata": {},
     "output_type": "execute_result"
    }
   ],
   "source": [
    "from sympy.solvers.simplex import InfeasibleLPError\n",
    "\n",
    "def solve_lp(f, ineqs):\n",
    "    # convert all constraints to non-strict inequalities\n",
    "    constraints = [to_nonstrict_ineq(c) for c in ineqs]\n",
    "    return lpmax(f, constraints)\n",
    "\n",
    "def feasible(ineq, assumptions):\n",
    "    assumptions.append(ineq)\n",
    "    try:\n",
    "        result = solve_lp(0, assumptions)\n",
    "    except InfeasibleLPError:\n",
    "        return False\n",
    "    return result\n",
    "        \n",
    "\n",
    "feasible(x-y>0, V)"
   ]
  },
  {
   "cell_type": "code",
   "execution_count": 122,
   "id": "637d28dd",
   "metadata": {},
   "outputs": [],
   "source": [
    "def getParentStates(a,b,c):\n",
    "    return [(2*a,b-a,c), (2*a,b,c-a),\n",
    "            (a-b,2*b,c), (a,2*b,c-b),\n",
    "            (a-c,b,2*c), (a,b-c,2*c)]"
   ]
  },
  {
   "cell_type": "code",
   "execution_count": 123,
   "id": "f0ebbfc8",
   "metadata": {},
   "outputs": [
    {
     "data": {
      "text/plain": [
       "[(2*y, 2*x - y, -x + z),\n",
       " (2*y, 2*x, -x - y + z),\n",
       " (-2*x + y, 4*x, -x + z),\n",
       " (y, 4*x, -3*x + z),\n",
       " (x + y - z, 2*x, -2*x + 2*z),\n",
       " (y, 3*x - z, -2*x + 2*z)]"
      ]
     },
     "execution_count": 123,
     "metadata": {},
     "output_type": "execute_result"
    }
   ],
   "source": [
    "getParentStates(y, 2*x, z-x)"
   ]
  },
  {
   "cell_type": "code",
   "execution_count": 124,
   "id": "5826182b",
   "metadata": {},
   "outputs": [],
   "source": [
    "# base case\n",
    "def h1(a,b,c):\n",
    "    return OUTCOME_PROB * And(a>0,b>0,c>0) * ((a<=b) + (a<=c))"
   ]
  },
  {
   "cell_type": "code",
   "execution_count": 125,
   "id": "5a5f0f9c",
   "metadata": {},
   "outputs": [],
   "source": [
    "import collections\n",
    "import functools\n",
    "\n",
    "class memoized(object):\n",
    "    '''Decorator. Caches a function's return value each time it is called.\n",
    "    If called later with the same arguments, the cached value is returned\n",
    "    (not reevaluated).\n",
    "    '''\n",
    "    def __init__(self, func):\n",
    "        self.func = func\n",
    "        self.cache = {}\n",
    "    \n",
    "    def __call__(self, *args):\n",
    "        if not isinstance(args, collections.Hashable):\n",
    "            # uncacheable. a list, for instance.\n",
    "            # better to not cache than blow up.\n",
    "            return self.func(*args)\n",
    "        if args in self.cache:\n",
    "            return self.cache[args]\n",
    "        else:\n",
    "            value = self.func(*args)\n",
    "            self.cache[args] = value\n",
    "            return value\n",
    "    \n",
    "    def __repr__(self):\n",
    "        '''Return the function's docstring.'''\n",
    "        return self.func.__doc__\n",
    "    \n",
    "    def __get__(self, obj, objtype):\n",
    "        '''Support instance methods.'''\n",
    "        return functools.partial(self.__call__, obj)"
   ]
  },
  {
   "cell_type": "code",
   "execution_count": 126,
   "id": "5679a638",
   "metadata": {},
   "outputs": [],
   "source": [
    "@memoized\n",
    "def h(n,a,b,c):\n",
    "    # constant coef = (1/6)^n\n",
    "    # so we only keep track of the indicators to be summed up\n",
    "    if n == 1:\n",
    "        return [simplify(a<=b), simplify(a<=c)]\n",
    "    # list of inequalities representing the region Rn\n",
    "    return list(set(sum([h(n-1, *s) for s in getParentStates(a,b,c)], [])))\n",
    "\n",
    "def f(n,a,b,c,R,S,V=V):\n",
    "    region = And(*R, *S, *V)\n",
    "    # convert all indicators inferrable from [region] to 1s -> redundant constraint\n",
    "    # convert all exclusive indicators to [region] to 0 -> infeasible lp\n",
    "    # rest: + terms to 0, - terms to 1 (want lb)\n",
    "    \n",
    "    return\n",
    "\n",
    "class H():\n",
    "    def __init__(self,n,a,b,c):\n",
    "        self.coef = pow(OUTCOME_PROB, n)\n",
    "        self.regions = h(n,a,b,c)\n",
    "        print(self.regions)"
   ]
  },
  {
   "cell_type": "code",
   "execution_count": 127,
   "id": "562a6658",
   "metadata": {},
   "outputs": [
    {
     "data": {
      "text/plain": [
       "[x <= y + 3*z,\n",
       " 2*x <= 3*z,\n",
       " 2*x <= 3*y,\n",
       " 3*x <= 2*y,\n",
       " z >= 6*x,\n",
       " x <= z,\n",
       " x <= -2*y + 2*z,\n",
       " 3*x <= 2*z,\n",
       " x <= y,\n",
       " 2*x <= y - z,\n",
       " x <= 3*y + z,\n",
       " x <= y - 3*z,\n",
       " 3*x <= 5*y,\n",
       " x <= y - z,\n",
       " x <= y + z,\n",
       " x <= 6*y,\n",
       " y >= 7*x,\n",
       " 3*x <= 5*z,\n",
       " 4*x <= z,\n",
       " z >= 2*x,\n",
       " 4*x <= y,\n",
       " x <= -3*y + z,\n",
       " x <= 3*y - 3*z,\n",
       " z >= 5*x,\n",
       " x <= 3*y - z,\n",
       " 2*x <= 2*y + z,\n",
       " x <= 2*y,\n",
       " x <= 2*z,\n",
       " x <= 2*y + z,\n",
       " x <= 5*y,\n",
       " x <= 5*z,\n",
       " x <= 4*z,\n",
       " 2*x <= y + 2*z,\n",
       " y >= 6*x,\n",
       " x <= y + 2*z,\n",
       " z >= 7*x,\n",
       " x <= 2*y - 2*z,\n",
       " 3*x <= -y + z,\n",
       " 5*x <= 3*y,\n",
       " 5*x <= 3*z,\n",
       " 3*x <= y + 3*z,\n",
       " y >= 2*x,\n",
       " x <= -3*y + 3*z,\n",
       " x <= -y + 3*z,\n",
       " x <= 7*y,\n",
       " x <= 7*z,\n",
       " x <= 4*y,\n",
       " y >= 5*x,\n",
       " 3*x <= 3*y + z,\n",
       " 3*x <= y - z,\n",
       " x <= 6*z,\n",
       " 3*x <= y + z,\n",
       " 2*x <= -y + z,\n",
       " x <= -y + z]"
      ]
     },
     "execution_count": 127,
     "metadata": {},
     "output_type": "execute_result"
    }
   ],
   "source": [
    "h(3,x,y,z)"
   ]
  },
  {
   "cell_type": "code",
   "execution_count": null,
   "id": "acaa439a",
   "metadata": {},
   "outputs": [],
   "source": []
  }
 ],
 "metadata": {
  "kernelspec": {
   "display_name": "Python 3 (ipykernel)",
   "language": "python",
   "name": "python3"
  },
  "language_info": {
   "codemirror_mode": {
    "name": "ipython",
    "version": 3
   },
   "file_extension": ".py",
   "mimetype": "text/x-python",
   "name": "python",
   "nbconvert_exporter": "python",
   "pygments_lexer": "ipython3",
   "version": "3.9.18"
  }
 },
 "nbformat": 4,
 "nbformat_minor": 5
}
