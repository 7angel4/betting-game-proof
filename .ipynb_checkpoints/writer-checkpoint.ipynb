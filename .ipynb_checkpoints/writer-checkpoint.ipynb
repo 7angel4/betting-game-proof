{
 "cells": [
  {
   "cell_type": "code",
   "execution_count": 67,
   "id": "5d5b8332",
   "metadata": {},
   "outputs": [],
   "source": [
    "%run constants.ipynb\n",
    "%run gen_h.ipynb\n",
    "import csv"
   ]
  },
  {
   "cell_type": "code",
   "execution_count": 68,
   "id": "22ffecc3",
   "metadata": {},
   "outputs": [],
   "source": [
    "def to_lt(ineqs):\n",
    "    '''\n",
    "    Converts all inequalities to a < or <= inequality.\n",
    "    '''\n",
    "    new = []\n",
    "    for i in ineqs:\n",
    "        if isinstance(i, Gt):\n",
    "            new.append(Lt(i.rhs, i.lhs))\n",
    "        elif isinstance(i, Ge):\n",
    "            new.append(Le(i.rhs, i.lhs))\n",
    "        else:\n",
    "            new.append(i)\n",
    "    return new"
   ]
  },
  {
   "cell_type": "code",
   "execution_count": 69,
   "id": "97f1523e",
   "metadata": {},
   "outputs": [],
   "source": [
    "def write(n,a,b,c, filename):\n",
    "    '''\n",
    "    Writes h(n,a,b,c) to the given file, in CSV format with \n",
    "    (n, coefficient, indicators) entries.\n",
    "    The indicator constraints are in < or <= form.\n",
    "    '''\n",
    "    with open(filename, 'a') as fp:\n",
    "        writer = csv.writer(fp)\n",
    "        c, rs = h(n,a,b,c,True)\n",
    "        writer.writerow([n, c, [to_lt(r) for r in rs]])"
   ]
  },
  {
   "cell_type": "code",
   "execution_count": null,
   "id": "819d2aa4",
   "metadata": {},
   "outputs": [],
   "source": [
    "# Comment out to generate the caches of h_n\n",
    "\n",
    "for n in range(5,7):\n",
    "    write(n,x,y,z, H_XYZ_CACHE)"
   ]
  },
  {
   "cell_type": "code",
   "execution_count": null,
   "id": "1a414d08",
   "metadata": {},
   "outputs": [],
   "source": [
    "for n in range(5,7):\n",
    "    write(n,y,x,z, H_YXZ_CACHE)"
   ]
  },
  {
   "cell_type": "code",
   "execution_count": null,
   "id": "db624afc",
   "metadata": {},
   "outputs": [],
   "source": []
  }
 ],
 "metadata": {
  "kernelspec": {
   "display_name": "Python 3 (ipykernel)",
   "language": "python",
   "name": "python3"
  },
  "language_info": {
   "codemirror_mode": {
    "name": "ipython",
    "version": 3
   },
   "file_extension": ".py",
   "mimetype": "text/x-python",
   "name": "python",
   "nbconvert_exporter": "python",
   "pygments_lexer": "ipython3",
   "version": "3.9.18"
  }
 },
 "nbformat": 4,
 "nbformat_minor": 5
}
