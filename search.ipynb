{
 "cells": [
  {
   "cell_type": "code",
   "execution_count": null,
   "id": "60d17e04",
   "metadata": {},
   "outputs": [],
   "source": [
    "%run proof.ipynb"
   ]
  },
  {
   "cell_type": "code",
   "execution_count": 13,
   "id": "e29c647e",
   "metadata": {},
   "outputs": [
    {
     "data": {
      "text/plain": [
       "True"
      ]
     },
     "execution_count": 13,
     "metadata": {},
     "output_type": "execute_result"
    }
   ],
   "source": [
    "H(4,x-y,y,z).ub(V) == 0"
   ]
  },
  {
   "cell_type": "code",
   "execution_count": 320,
   "id": "a93b0303",
   "metadata": {},
   "outputs": [
    {
     "data": {
      "text/plain": [
       "Fraction(1, 36)"
      ]
     },
     "execution_count": 320,
     "metadata": {},
     "output_type": "execute_result"
    }
   ],
   "source": [
    "dh(2,x,y,z).lb([2*x<y, 3*x<z, 3*y>z] + V)"
   ]
  },
  {
   "cell_type": "code",
   "execution_count": 316,
   "id": "813a6c15",
   "metadata": {},
   "outputs": [
    {
     "data": {
      "text/plain": [
       "Fraction(7, 36)"
      ]
     },
     "execution_count": 316,
     "metadata": {},
     "output_type": "execute_result"
    }
   ],
   "source": [
    "f(2, [3*x<=y] + V + no_loser())"
   ]
  },
  {
   "cell_type": "code",
   "execution_count": null,
   "id": "912b9f93",
   "metadata": {},
   "outputs": [
    {
     "name": "stdout",
     "output_type": "stream",
     "text": [
      "n = 2\n",
      "[2*x <= y, 2*x >= y] 1/9\n",
      "Failed!\n",
      "n = 3\n",
      "[z >= 2*x, 5*x >= 3*y] 5/216\n",
      "Failed!\n",
      "n = 4\n",
      "[3*x <= -2*y + 2*z, 5*x >= 3*y + z] 13/72\n",
      "[3*x <= -2*y + 2*z, 3*x <= -y + 2*z] 31/1296\n",
      "Failed!\n",
      "n = 5\n",
      "[3*x <= -2*y + 2*z, 3*x <= -y + 2*z] -17/2592\n",
      "Failed!\n",
      "n = 6\n",
      "[3*x <= -39*y + 13*z, 3*x >= 16*y - 10*z] 899/46656\n",
      "[3*x <= -39*y + 13*z, 10*x >= 9*y] 463/23328\n",
      "[3*x <= -39*y + 13*z, 17*x >= 7*y] 113/5832\n",
      "[3*x <= -39*y + 13*z, 49*x >= y + 7*z] 1535/46656\n",
      "[3*x <= -39*y + 13*z, 30*x >= y + 10*z] 8543/46656\n",
      "[3*x <= -39*y + 13*z, 7*x >= 3*y - z] 899/46656\n",
      "[3*x <= -39*y + 13*z, 2*x >= 17*y - 7*z] 899/46656\n",
      "[3*x <= -39*y + 13*z, 30*x <= -y + 18*z] 899/46656\n",
      "[3*x <= -39*y + 13*z, 20*x >= 12*y - z] 905/46656\n",
      "[3*x <= -39*y + 13*z, 9*y <= 4*z] 899/46656\n",
      "[3*x <= -39*y + 13*z, 21*y <= 19*z] 899/46656\n",
      "[3*x <= -39*y + 13*z, 15*x >= 7*y + 5*z] 8543/46656\n",
      "[3*x <= -39*y + 13*z, 13*x >= 11*y - 3*z] 449/23328\n",
      "[3*x <= -39*y + 13*z, x >= 15*y - z] 2231/23328\n",
      "[3*x <= -39*y + 13*z, 33*x >= 15*y - z] 301/15552\n",
      "[3*x <= -39*y + 13*z, 2*x <= -19*y + 5*z] 2137/46656\n",
      "[3*x <= -39*y + 13*z, x >= -5*y + 3*z] 8543/46656\n",
      "[3*x <= -39*y + 13*z, 3*x >= 2*y] 229/11664\n",
      "[3*x <= -39*y + 13*z, 21*x >= 5*y - z] 899/46656\n",
      "[3*x <= -39*y + 13*z, 11*x >= 27*y - 5*z] 455/23328\n",
      "[3*x <= -39*y + 13*z, 31*x >= 9*y] 901/46656\n",
      "[3*x <= -39*y + 13*z, 21*x <= -y + 2*z] 3557/46656\n",
      "[3*x <= -39*y + 13*z, 3*x <= -6*y + 5*z] 899/46656\n",
      "[3*x <= -39*y + 13*z, 27*x <= -3*y + 5*z] 923/15552\n",
      "[3*x <= -39*y + 13*z, 7*x >= -17*y + 7*z] 115/1944\n",
      "[3*x <= -39*y + 13*z, 8*x >= 5*y] 305/15552\n",
      "[3*x <= -39*y + 13*z, 15*x <= -3*y + 17*z] 899/46656\n",
      "[3*x <= -39*y + 13*z, 2*x >= -y + z] 8543/46656\n",
      "[3*x <= -39*y + 13*z, y <= 9*x] 899/46656\n",
      "[3*x <= -39*y + 13*z, 45*x <= -y + 15*z] 899/46656\n",
      "[3*x <= -39*y + 13*z, x <= -30*y + z] 395/3888\n",
      "[3*x <= -39*y + 13*z, 7*y <= z] 617/7776\n",
      "[3*x <= -39*y + 13*z, 41*x >= 23*y] 907/46656\n",
      "[3*x <= -39*y + 13*z, 3*x >= 7*y - 5*z] 899/46656\n",
      "[3*x <= -39*y + 13*z, 3*x >= 11*y - 5*z] 899/46656\n",
      "[3*x <= -39*y + 13*z, 46*x >= 3*y] 899/46656\n",
      "[3*x <= -39*y + 13*z, x <= -13*y + 3*z] 143/2916\n",
      "[3*x <= -39*y + 13*z, 10*y <= 3*z] 1051/46656\n",
      "[3*x <= -39*y + 13*z, 13*x <= 3*y + z] 365/5832\n",
      "[3*x <= -39*y + 13*z, 21*x >= 9*y + 7*z] 8543/46656\n",
      "[3*x <= -39*y + 13*z, 3*x >= -11*y + 13*z] 8543/46656\n",
      "[3*x <= -39*y + 13*z, 24*x >= 8*y - z] 449/23328\n",
      "[3*x <= -39*y + 13*z, 3*x >= 35*y - 5*z] 3353/46656\n",
      "[3*x <= -39*y + 13*z, x >= 21*y - 11*z] 899/46656\n",
      "[3*x <= -39*y + 13*z, 7*x <= -25*y + 7*z] 2231/46656\n",
      "[3*x <= -39*y + 13*z, 21*x <= y + 3*z] 697/11664\n",
      "[3*x <= -39*y + 13*z, 16*x >= 5*y] 451/23328\n",
      "[3*x <= -39*y + 13*z, 27*x >= y + 13*z] 8543/46656\n",
      "[3*x <= -39*y + 13*z, 3*x <= -5*y + 5*z] 899/46656\n",
      "[3*x <= -39*y + 13*z, 10*x >= y + 6*z] 8543/46656\n",
      "[3*x <= -39*y + 13*z, 27*x >= 5*y + 3*z] 631/23328\n",
      "[3*x <= -39*y + 13*z, 2*x >= 7*y - z] 2711/46656\n",
      "[3*x <= -39*y + 13*z, 15*x <= 3*y + 5*z] 899/46656\n",
      "[3*x <= -39*y + 13*z, 2*x <= -3*y + 2*z] 899/46656\n",
      "[3*x <= -39*y + 13*z, 18*x <= -5*y + 6*z] 17/729\n",
      "[3*x <= -39*y + 13*z, 14*x >= 14*y - 5*z] 899/46656\n",
      "[3*x <= -39*y + 13*z, 31*x >= 29*y] 103/5184\n",
      "[3*x <= -39*y + 13*z, 3*x >= 29*y - 11*z] 899/46656\n"
     ]
    }
   ],
   "source": [
    "n = 2\n",
    "while True:\n",
    "    print(f'n = {n}')\n",
    "    if run(n):\n",
    "        print(n)\n",
    "        break\n",
    "    else:\n",
    "        n += 1"
   ]
  },
  {
   "cell_type": "code",
   "execution_count": null,
   "id": "7c58f26c",
   "metadata": {},
   "outputs": [
    {
     "name": "stdout",
     "output_type": "stream",
     "text": [
      "n = 6\n",
      "[25*x <= y + 12*z, 50*x >= 7*y] -665/5184\n",
      "Failed!\n",
      "n = 7\n",
      "[7*x <= -27*y + 5*z, 90*x >= y + 30*z] 1901/10368\n",
      "[7*x <= -27*y + 5*z, 7*x <= -27*y + 5*z] 9011/139968\n",
      "[7*x <= -27*y + 5*z, x <= -21*y + 11*z] 9011/139968\n",
      "[7*x <= -27*y + 5*z, 11*x <= -43*y + 33*z] 9011/139968\n",
      "[7*x <= -27*y + 5*z, 4*x <= -6*y + 5*z] 9011/139968\n",
      "[7*x <= -27*y + 5*z, 60*x >= 4*y - z] 9011/139968\n",
      "[7*x <= -27*y + 5*z, 21*x <= -y + 5*z] 9011/139968\n",
      "[7*x <= -27*y + 5*z, 21*x <= -2*y + 5*z] 9011/139968\n",
      "[7*x <= -27*y + 5*z, 9*x >= 18*y - 2*z] 379/5832\n",
      "[7*x <= -27*y + 5*z, 6*x <= -3*y + 4*z] 9011/139968\n",
      "[7*x <= -27*y + 5*z, 35*x <= -y + 35*z] 9011/139968\n"
     ]
    }
   ],
   "source": [
    "loop(6)"
   ]
  },
  {
   "cell_type": "code",
   "execution_count": null,
   "id": "f384de65",
   "metadata": {},
   "outputs": [
    {
     "name": "stdout",
     "output_type": "stream",
     "text": [
      "n = 7\n",
      "[43*x <= 21*y + 11*z, 4*x <= -17*y + 3*z] 4967/69984\n",
      "[43*x <= 21*y + 11*z, 3*x <= -33*y + 31*z] -16091/93312\n",
      "Failed!\n",
      "n = 8\n"
     ]
    }
   ],
   "source": [
    "loop(7)"
   ]
  },
  {
   "cell_type": "code",
   "execution_count": null,
   "id": "6a506b37",
   "metadata": {},
   "outputs": [
    {
     "name": "stdout",
     "output_type": "stream",
     "text": [
      "n = 8\n"
     ]
    }
   ],
   "source": [
    "loop(8)"
   ]
  },
  {
   "cell_type": "code",
   "execution_count": null,
   "id": "ce5d812c",
   "metadata": {},
   "outputs": [],
   "source": []
  }
 ],
 "metadata": {
  "kernelspec": {
   "display_name": "Python 3 (ipykernel)",
   "language": "python",
   "name": "python3"
  },
  "language_info": {
   "codemirror_mode": {
    "name": "ipython",
    "version": 3
   },
   "file_extension": ".py",
   "mimetype": "text/x-python",
   "name": "python",
   "nbconvert_exporter": "python",
   "pygments_lexer": "ipython3",
   "version": "3.9.18"
  }
 },
 "nbformat": 4,
 "nbformat_minor": 5
}
