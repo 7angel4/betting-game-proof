{
 "cells": [
  {
   "cell_type": "code",
   "execution_count": 22,
   "id": "bef6809b",
   "metadata": {
    "scrolled": false
   },
   "outputs": [],
   "source": [
    "%run proof.ipynb"
   ]
  },
  {
   "cell_type": "code",
   "execution_count": 23,
   "id": "ef5dcb6a",
   "metadata": {},
   "outputs": [
    {
     "ename": "KeyboardInterrupt",
     "evalue": "",
     "output_type": "error",
     "traceback": [
      "\u001b[0;31m---------------------------------------------------------------------------\u001b[0m",
      "\u001b[0;31mKeyboardInterrupt\u001b[0m                         Traceback (most recent call last)",
      "Cell \u001b[0;32mIn[23], line 1\u001b[0m\n\u001b[0;32m----> 1\u001b[0m \u001b[43mH\u001b[49m\u001b[38;5;241;43m.\u001b[39;49m\u001b[43mall_inds\u001b[49m\u001b[43m(\u001b[49m\u001b[43mx\u001b[49m\u001b[43m,\u001b[49m\u001b[43my\u001b[49m\u001b[43m,\u001b[49m\u001b[43mz\u001b[49m\u001b[43m)\u001b[49m\n",
      "File \u001b[0;32m/var/folders/tk/2zq7clf94gx3rdh5slf6rhc00000gn/T/ipykernel_13951/3349906455.py:21\u001b[0m, in \u001b[0;36mmemoized.__call__\u001b[0;34m(self, *args)\u001b[0m\n\u001b[1;32m     19\u001b[0m     \u001b[38;5;28;01mreturn\u001b[39;00m \u001b[38;5;28mself\u001b[39m\u001b[38;5;241m.\u001b[39mcache[args]\n\u001b[1;32m     20\u001b[0m \u001b[38;5;28;01melse\u001b[39;00m:\n\u001b[0;32m---> 21\u001b[0m     value \u001b[38;5;241m=\u001b[39m \u001b[38;5;28;43mself\u001b[39;49m\u001b[38;5;241;43m.\u001b[39;49m\u001b[43mfunc\u001b[49m\u001b[43m(\u001b[49m\u001b[38;5;241;43m*\u001b[39;49m\u001b[43margs\u001b[49m\u001b[43m)\u001b[49m\n\u001b[1;32m     22\u001b[0m     \u001b[38;5;28mself\u001b[39m\u001b[38;5;241m.\u001b[39mcache[args] \u001b[38;5;241m=\u001b[39m value\n\u001b[1;32m     23\u001b[0m     \u001b[38;5;28;01mreturn\u001b[39;00m value\n",
      "File \u001b[0;32m/var/folders/tk/2zq7clf94gx3rdh5slf6rhc00000gn/T/ipykernel_13951/2854704782.py:43\u001b[0m, in \u001b[0;36mH.all_inds\u001b[0;34m(cls, a, b, c, maxn)\u001b[0m\n\u001b[1;32m     40\u001b[0m \u001b[38;5;129m@classmethod\u001b[39m\n\u001b[1;32m     41\u001b[0m \u001b[38;5;129m@memoized\u001b[39m\n\u001b[1;32m     42\u001b[0m \u001b[38;5;28;01mdef\u001b[39;00m \u001b[38;5;21mall_inds\u001b[39m(\u001b[38;5;28mcls\u001b[39m, a, b, c, maxn\u001b[38;5;241m=\u001b[39m\u001b[38;5;241m10\u001b[39m):\n\u001b[0;32m---> 43\u001b[0m     \u001b[38;5;28;01mreturn\u001b[39;00m {i:(\u001b[38;5;28mcls\u001b[39m(i,a,b,c)\u001b[38;5;241m.\u001b[39minds) \u001b[38;5;28;01mfor\u001b[39;00m i \u001b[38;5;129;01min\u001b[39;00m \u001b[38;5;28mrange\u001b[39m(\u001b[38;5;241m1\u001b[39m, maxn\u001b[38;5;241m+\u001b[39m\u001b[38;5;241m1\u001b[39m)}\n",
      "File \u001b[0;32m/var/folders/tk/2zq7clf94gx3rdh5slf6rhc00000gn/T/ipykernel_13951/2854704782.py:43\u001b[0m, in \u001b[0;36m<dictcomp>\u001b[0;34m(.0)\u001b[0m\n\u001b[1;32m     40\u001b[0m \u001b[38;5;129m@classmethod\u001b[39m\n\u001b[1;32m     41\u001b[0m \u001b[38;5;129m@memoized\u001b[39m\n\u001b[1;32m     42\u001b[0m \u001b[38;5;28;01mdef\u001b[39;00m \u001b[38;5;21mall_inds\u001b[39m(\u001b[38;5;28mcls\u001b[39m, a, b, c, maxn\u001b[38;5;241m=\u001b[39m\u001b[38;5;241m10\u001b[39m):\n\u001b[0;32m---> 43\u001b[0m     \u001b[38;5;28;01mreturn\u001b[39;00m {i:(\u001b[38;5;28;43mcls\u001b[39;49m\u001b[43m(\u001b[49m\u001b[43mi\u001b[49m\u001b[43m,\u001b[49m\u001b[43ma\u001b[49m\u001b[43m,\u001b[49m\u001b[43mb\u001b[49m\u001b[43m,\u001b[49m\u001b[43mc\u001b[49m\u001b[43m)\u001b[49m\u001b[38;5;241m.\u001b[39minds) \u001b[38;5;28;01mfor\u001b[39;00m i \u001b[38;5;129;01min\u001b[39;00m \u001b[38;5;28mrange\u001b[39m(\u001b[38;5;241m1\u001b[39m, maxn\u001b[38;5;241m+\u001b[39m\u001b[38;5;241m1\u001b[39m)}\n",
      "File \u001b[0;32m/var/folders/tk/2zq7clf94gx3rdh5slf6rhc00000gn/T/ipykernel_13951/2854704782.py:19\u001b[0m, in \u001b[0;36mH.__init__\u001b[0;34m(self, n, a, b, c)\u001b[0m\n\u001b[1;32m     17\u001b[0m \u001b[38;5;28mself\u001b[39m\u001b[38;5;241m.\u001b[39mcoef \u001b[38;5;241m=\u001b[39m coef(n)\n\u001b[1;32m     18\u001b[0m \u001b[38;5;66;03m# 1) Check if any inequalities are inferred under V\u001b[39;00m\n\u001b[0;32m---> 19\u001b[0m \u001b[38;5;28mself\u001b[39m\u001b[38;5;241m.\u001b[39mconst, \u001b[38;5;28mself\u001b[39m\u001b[38;5;241m.\u001b[39minds \u001b[38;5;241m=\u001b[39m reduce(_h(n,a,b,c), V) \u001b[38;5;28;01mif\u001b[39;00m \u001b[43m_h\u001b[49m\u001b[43m(\u001b[49m\u001b[43mn\u001b[49m\u001b[43m,\u001b[49m\u001b[43ma\u001b[49m\u001b[43m,\u001b[49m\u001b[43mb\u001b[49m\u001b[43m,\u001b[49m\u001b[43mc\u001b[49m\u001b[43m)\u001b[49m \u001b[38;5;28;01melse\u001b[39;00m (\u001b[38;5;241m0\u001b[39m, [])\n\u001b[1;32m     20\u001b[0m \u001b[38;5;28mself\u001b[39m\u001b[38;5;241m.\u001b[39mprereq \u001b[38;5;241m=\u001b[39m no_loser(a,b,c)\n",
      "File \u001b[0;32m/var/folders/tk/2zq7clf94gx3rdh5slf6rhc00000gn/T/ipykernel_13951/3349906455.py:21\u001b[0m, in \u001b[0;36mmemoized.__call__\u001b[0;34m(self, *args)\u001b[0m\n\u001b[1;32m     19\u001b[0m     \u001b[38;5;28;01mreturn\u001b[39;00m \u001b[38;5;28mself\u001b[39m\u001b[38;5;241m.\u001b[39mcache[args]\n\u001b[1;32m     20\u001b[0m \u001b[38;5;28;01melse\u001b[39;00m:\n\u001b[0;32m---> 21\u001b[0m     value \u001b[38;5;241m=\u001b[39m \u001b[38;5;28;43mself\u001b[39;49m\u001b[38;5;241;43m.\u001b[39;49m\u001b[43mfunc\u001b[49m\u001b[43m(\u001b[49m\u001b[38;5;241;43m*\u001b[39;49m\u001b[43margs\u001b[49m\u001b[43m)\u001b[49m\n\u001b[1;32m     22\u001b[0m     \u001b[38;5;28mself\u001b[39m\u001b[38;5;241m.\u001b[39mcache[args] \u001b[38;5;241m=\u001b[39m value\n\u001b[1;32m     23\u001b[0m     \u001b[38;5;28;01mreturn\u001b[39;00m value\n",
      "File \u001b[0;32m/var/folders/tk/2zq7clf94gx3rdh5slf6rhc00000gn/T/ipykernel_13951/2854704782.py:12\u001b[0m, in \u001b[0;36m_h\u001b[0;34m(n, a, b, c)\u001b[0m\n\u001b[1;32m     10\u001b[0m     \u001b[38;5;28;01mreturn\u001b[39;00m [simplify(a\u001b[38;5;241m<\u001b[39m\u001b[38;5;241m=\u001b[39mb), simplify(a\u001b[38;5;241m<\u001b[39m\u001b[38;5;241m=\u001b[39mc)]\n\u001b[1;32m     11\u001b[0m \u001b[38;5;66;03m# list of inequalities representing the region Rn\u001b[39;00m\n\u001b[0;32m---> 12\u001b[0m \u001b[38;5;28;01mreturn\u001b[39;00m \u001b[38;5;28mlist\u001b[39m(\u001b[38;5;28mset\u001b[39m(\u001b[38;5;28msum\u001b[39m([_h(n\u001b[38;5;241m-\u001b[39m\u001b[38;5;241m1\u001b[39m, \u001b[38;5;241m*\u001b[39ms) \u001b[38;5;28;01mfor\u001b[39;00m s \u001b[38;5;129;01min\u001b[39;00m getParentStates(a,b,c)], [])))\n",
      "File \u001b[0;32m/var/folders/tk/2zq7clf94gx3rdh5slf6rhc00000gn/T/ipykernel_13951/2854704782.py:12\u001b[0m, in \u001b[0;36m<listcomp>\u001b[0;34m(.0)\u001b[0m\n\u001b[1;32m     10\u001b[0m     \u001b[38;5;28;01mreturn\u001b[39;00m [simplify(a\u001b[38;5;241m<\u001b[39m\u001b[38;5;241m=\u001b[39mb), simplify(a\u001b[38;5;241m<\u001b[39m\u001b[38;5;241m=\u001b[39mc)]\n\u001b[1;32m     11\u001b[0m \u001b[38;5;66;03m# list of inequalities representing the region Rn\u001b[39;00m\n\u001b[0;32m---> 12\u001b[0m \u001b[38;5;28;01mreturn\u001b[39;00m \u001b[38;5;28mlist\u001b[39m(\u001b[38;5;28mset\u001b[39m(\u001b[38;5;28msum\u001b[39m([\u001b[43m_h\u001b[49m\u001b[43m(\u001b[49m\u001b[43mn\u001b[49m\u001b[38;5;241;43m-\u001b[39;49m\u001b[38;5;241;43m1\u001b[39;49m\u001b[43m,\u001b[49m\u001b[43m \u001b[49m\u001b[38;5;241;43m*\u001b[39;49m\u001b[43ms\u001b[49m\u001b[43m)\u001b[49m \u001b[38;5;28;01mfor\u001b[39;00m s \u001b[38;5;129;01min\u001b[39;00m getParentStates(a,b,c)], [])))\n",
      "File \u001b[0;32m/var/folders/tk/2zq7clf94gx3rdh5slf6rhc00000gn/T/ipykernel_13951/3349906455.py:21\u001b[0m, in \u001b[0;36mmemoized.__call__\u001b[0;34m(self, *args)\u001b[0m\n\u001b[1;32m     19\u001b[0m     \u001b[38;5;28;01mreturn\u001b[39;00m \u001b[38;5;28mself\u001b[39m\u001b[38;5;241m.\u001b[39mcache[args]\n\u001b[1;32m     20\u001b[0m \u001b[38;5;28;01melse\u001b[39;00m:\n\u001b[0;32m---> 21\u001b[0m     value \u001b[38;5;241m=\u001b[39m \u001b[38;5;28;43mself\u001b[39;49m\u001b[38;5;241;43m.\u001b[39;49m\u001b[43mfunc\u001b[49m\u001b[43m(\u001b[49m\u001b[38;5;241;43m*\u001b[39;49m\u001b[43margs\u001b[49m\u001b[43m)\u001b[49m\n\u001b[1;32m     22\u001b[0m     \u001b[38;5;28mself\u001b[39m\u001b[38;5;241m.\u001b[39mcache[args] \u001b[38;5;241m=\u001b[39m value\n\u001b[1;32m     23\u001b[0m     \u001b[38;5;28;01mreturn\u001b[39;00m value\n",
      "File \u001b[0;32m/var/folders/tk/2zq7clf94gx3rdh5slf6rhc00000gn/T/ipykernel_13951/2854704782.py:12\u001b[0m, in \u001b[0;36m_h\u001b[0;34m(n, a, b, c)\u001b[0m\n\u001b[1;32m     10\u001b[0m     \u001b[38;5;28;01mreturn\u001b[39;00m [simplify(a\u001b[38;5;241m<\u001b[39m\u001b[38;5;241m=\u001b[39mb), simplify(a\u001b[38;5;241m<\u001b[39m\u001b[38;5;241m=\u001b[39mc)]\n\u001b[1;32m     11\u001b[0m \u001b[38;5;66;03m# list of inequalities representing the region Rn\u001b[39;00m\n\u001b[0;32m---> 12\u001b[0m \u001b[38;5;28;01mreturn\u001b[39;00m \u001b[38;5;28mlist\u001b[39m(\u001b[38;5;28mset\u001b[39m(\u001b[38;5;28msum\u001b[39m([_h(n\u001b[38;5;241m-\u001b[39m\u001b[38;5;241m1\u001b[39m, \u001b[38;5;241m*\u001b[39ms) \u001b[38;5;28;01mfor\u001b[39;00m s \u001b[38;5;129;01min\u001b[39;00m getParentStates(a,b,c)], [])))\n",
      "File \u001b[0;32m/var/folders/tk/2zq7clf94gx3rdh5slf6rhc00000gn/T/ipykernel_13951/2854704782.py:12\u001b[0m, in \u001b[0;36m<listcomp>\u001b[0;34m(.0)\u001b[0m\n\u001b[1;32m     10\u001b[0m     \u001b[38;5;28;01mreturn\u001b[39;00m [simplify(a\u001b[38;5;241m<\u001b[39m\u001b[38;5;241m=\u001b[39mb), simplify(a\u001b[38;5;241m<\u001b[39m\u001b[38;5;241m=\u001b[39mc)]\n\u001b[1;32m     11\u001b[0m \u001b[38;5;66;03m# list of inequalities representing the region Rn\u001b[39;00m\n\u001b[0;32m---> 12\u001b[0m \u001b[38;5;28;01mreturn\u001b[39;00m \u001b[38;5;28mlist\u001b[39m(\u001b[38;5;28mset\u001b[39m(\u001b[38;5;28msum\u001b[39m([\u001b[43m_h\u001b[49m\u001b[43m(\u001b[49m\u001b[43mn\u001b[49m\u001b[38;5;241;43m-\u001b[39;49m\u001b[38;5;241;43m1\u001b[39;49m\u001b[43m,\u001b[49m\u001b[43m \u001b[49m\u001b[38;5;241;43m*\u001b[39;49m\u001b[43ms\u001b[49m\u001b[43m)\u001b[49m \u001b[38;5;28;01mfor\u001b[39;00m s \u001b[38;5;129;01min\u001b[39;00m getParentStates(a,b,c)], [])))\n",
      "    \u001b[0;31m[... skipping similar frames: memoized.__call__ at line 21 (4 times), <listcomp> at line 12 (3 times), _h at line 12 (3 times)]\u001b[0m\n",
      "File \u001b[0;32m/var/folders/tk/2zq7clf94gx3rdh5slf6rhc00000gn/T/ipykernel_13951/2854704782.py:12\u001b[0m, in \u001b[0;36m_h\u001b[0;34m(n, a, b, c)\u001b[0m\n\u001b[1;32m     10\u001b[0m     \u001b[38;5;28;01mreturn\u001b[39;00m [simplify(a\u001b[38;5;241m<\u001b[39m\u001b[38;5;241m=\u001b[39mb), simplify(a\u001b[38;5;241m<\u001b[39m\u001b[38;5;241m=\u001b[39mc)]\n\u001b[1;32m     11\u001b[0m \u001b[38;5;66;03m# list of inequalities representing the region Rn\u001b[39;00m\n\u001b[0;32m---> 12\u001b[0m \u001b[38;5;28;01mreturn\u001b[39;00m \u001b[38;5;28mlist\u001b[39m(\u001b[38;5;28mset\u001b[39m(\u001b[38;5;28msum\u001b[39m([_h(n\u001b[38;5;241m-\u001b[39m\u001b[38;5;241m1\u001b[39m, \u001b[38;5;241m*\u001b[39ms) \u001b[38;5;28;01mfor\u001b[39;00m s \u001b[38;5;129;01min\u001b[39;00m getParentStates(a,b,c)], [])))\n",
      "File \u001b[0;32m/var/folders/tk/2zq7clf94gx3rdh5slf6rhc00000gn/T/ipykernel_13951/2854704782.py:12\u001b[0m, in \u001b[0;36m<listcomp>\u001b[0;34m(.0)\u001b[0m\n\u001b[1;32m     10\u001b[0m     \u001b[38;5;28;01mreturn\u001b[39;00m [simplify(a\u001b[38;5;241m<\u001b[39m\u001b[38;5;241m=\u001b[39mb), simplify(a\u001b[38;5;241m<\u001b[39m\u001b[38;5;241m=\u001b[39mc)]\n\u001b[1;32m     11\u001b[0m \u001b[38;5;66;03m# list of inequalities representing the region Rn\u001b[39;00m\n\u001b[0;32m---> 12\u001b[0m \u001b[38;5;28;01mreturn\u001b[39;00m \u001b[38;5;28mlist\u001b[39m(\u001b[38;5;28mset\u001b[39m(\u001b[38;5;28msum\u001b[39m([\u001b[43m_h\u001b[49m\u001b[43m(\u001b[49m\u001b[43mn\u001b[49m\u001b[38;5;241;43m-\u001b[39;49m\u001b[38;5;241;43m1\u001b[39;49m\u001b[43m,\u001b[49m\u001b[43m \u001b[49m\u001b[38;5;241;43m*\u001b[39;49m\u001b[43ms\u001b[49m\u001b[43m)\u001b[49m \u001b[38;5;28;01mfor\u001b[39;00m s \u001b[38;5;129;01min\u001b[39;00m getParentStates(a,b,c)], [])))\n",
      "File \u001b[0;32m/var/folders/tk/2zq7clf94gx3rdh5slf6rhc00000gn/T/ipykernel_13951/3349906455.py:21\u001b[0m, in \u001b[0;36mmemoized.__call__\u001b[0;34m(self, *args)\u001b[0m\n\u001b[1;32m     19\u001b[0m     \u001b[38;5;28;01mreturn\u001b[39;00m \u001b[38;5;28mself\u001b[39m\u001b[38;5;241m.\u001b[39mcache[args]\n\u001b[1;32m     20\u001b[0m \u001b[38;5;28;01melse\u001b[39;00m:\n\u001b[0;32m---> 21\u001b[0m     value \u001b[38;5;241m=\u001b[39m \u001b[38;5;28;43mself\u001b[39;49m\u001b[38;5;241;43m.\u001b[39;49m\u001b[43mfunc\u001b[49m\u001b[43m(\u001b[49m\u001b[38;5;241;43m*\u001b[39;49m\u001b[43margs\u001b[49m\u001b[43m)\u001b[49m\n\u001b[1;32m     22\u001b[0m     \u001b[38;5;28mself\u001b[39m\u001b[38;5;241m.\u001b[39mcache[args] \u001b[38;5;241m=\u001b[39m value\n\u001b[1;32m     23\u001b[0m     \u001b[38;5;28;01mreturn\u001b[39;00m value\n",
      "File \u001b[0;32m/var/folders/tk/2zq7clf94gx3rdh5slf6rhc00000gn/T/ipykernel_13951/2854704782.py:7\u001b[0m, in \u001b[0;36m_h\u001b[0;34m(n, a, b, c)\u001b[0m\n\u001b[1;32m      3\u001b[0m \u001b[38;5;129m@memoized\u001b[39m\n\u001b[1;32m      4\u001b[0m \u001b[38;5;28;01mdef\u001b[39;00m \u001b[38;5;21m_h\u001b[39m(n,a,b,c):\n\u001b[1;32m      5\u001b[0m     \u001b[38;5;66;03m# constant coef = (1/6)^n\u001b[39;00m\n\u001b[1;32m      6\u001b[0m     \u001b[38;5;66;03m# so we only keep track of the indicators to be summed up\u001b[39;00m\n\u001b[0;32m----> 7\u001b[0m     \u001b[38;5;28;01mif\u001b[39;00m \u001b[38;5;129;01mnot\u001b[39;00m \u001b[43mfeasible_mult\u001b[49m\u001b[43m(\u001b[49m\u001b[43mno_loser\u001b[49m\u001b[43m(\u001b[49m\u001b[43ma\u001b[49m\u001b[43m,\u001b[49m\u001b[43mb\u001b[49m\u001b[43m,\u001b[49m\u001b[43mc\u001b[49m\u001b[43m)\u001b[49m\u001b[43m,\u001b[49m\u001b[43m \u001b[49m\u001b[43mV\u001b[49m\u001b[43m)\u001b[49m:\n\u001b[1;32m      8\u001b[0m         \u001b[38;5;28;01mreturn\u001b[39;00m []\n\u001b[1;32m      9\u001b[0m     \u001b[38;5;28;01mif\u001b[39;00m n \u001b[38;5;241m==\u001b[39m \u001b[38;5;241m1\u001b[39m:\n",
      "File \u001b[0;32m/var/folders/tk/2zq7clf94gx3rdh5slf6rhc00000gn/T/ipykernel_13951/466039429.py:9\u001b[0m, in \u001b[0;36mfeasible_mult\u001b[0;34m(ineqs, assumptions)\u001b[0m\n\u001b[1;32m      7\u001b[0m \u001b[38;5;28;01mdef\u001b[39;00m \u001b[38;5;21mfeasible_mult\u001b[39m(ineqs, assumptions):\n\u001b[1;32m      8\u001b[0m     \u001b[38;5;28;01mtry\u001b[39;00m:\n\u001b[0;32m----> 9\u001b[0m         result \u001b[38;5;241m=\u001b[39m \u001b[43msolve_lp\u001b[49m\u001b[43m(\u001b[49m\u001b[38;5;241;43m0\u001b[39;49m\u001b[43m,\u001b[49m\u001b[43m \u001b[49m\u001b[43massumptions\u001b[49m\u001b[43m \u001b[49m\u001b[38;5;241;43m+\u001b[39;49m\u001b[43m \u001b[49m\u001b[43mineqs\u001b[49m\u001b[43m)\u001b[49m\n\u001b[1;32m     10\u001b[0m     \u001b[38;5;28;01mexcept\u001b[39;00m InfeasibleLPError:\n\u001b[1;32m     11\u001b[0m         \u001b[38;5;28;01mreturn\u001b[39;00m \u001b[38;5;28;01mFalse\u001b[39;00m\n",
      "File \u001b[0;32m/var/folders/tk/2zq7clf94gx3rdh5slf6rhc00000gn/T/ipykernel_13951/466039429.py:5\u001b[0m, in \u001b[0;36msolve_lp\u001b[0;34m(e, ineqs, f)\u001b[0m\n\u001b[1;32m      3\u001b[0m \u001b[38;5;28;01mdef\u001b[39;00m \u001b[38;5;21msolve_lp\u001b[39m(e, ineqs, f\u001b[38;5;241m=\u001b[39mlpmax):\n\u001b[1;32m      4\u001b[0m     \u001b[38;5;66;03m# convert all constraints to non-strict inequalities\u001b[39;00m\n\u001b[0;32m----> 5\u001b[0m     \u001b[38;5;28;01mreturn\u001b[39;00m \u001b[43mf\u001b[49m\u001b[43m(\u001b[49m\u001b[43me\u001b[49m\u001b[43m,\u001b[49m\u001b[43m \u001b[49m\u001b[43m[\u001b[49m\u001b[43mto_nonstrict_ineq\u001b[49m\u001b[43m(\u001b[49m\u001b[43mc\u001b[49m\u001b[43m)\u001b[49m\u001b[43m \u001b[49m\u001b[38;5;28;43;01mfor\u001b[39;49;00m\u001b[43m \u001b[49m\u001b[43mc\u001b[49m\u001b[43m \u001b[49m\u001b[38;5;129;43;01min\u001b[39;49;00m\u001b[43m \u001b[49m\u001b[43mineqs\u001b[49m\u001b[43m]\u001b[49m\u001b[43m)\u001b[49m\n",
      "File \u001b[0;32m~/Library/Python/3.9/lib/python/site-packages/sympy/solvers/simplex.py:886\u001b[0m, in \u001b[0;36mlpmax\u001b[0;34m(f, constr)\u001b[0m\n\u001b[1;32m    853\u001b[0m \u001b[38;5;28;01mdef\u001b[39;00m \u001b[38;5;21mlpmax\u001b[39m(f, constr):\n\u001b[1;32m    854\u001b[0m \u001b[38;5;250m    \u001b[39m\u001b[38;5;124;03m\"\"\"return maximum of linear equation ``f`` under\u001b[39;00m\n\u001b[1;32m    855\u001b[0m \u001b[38;5;124;03m    linear constraints expressed using Ge, Le or Eq.\u001b[39;00m\n\u001b[1;32m    856\u001b[0m \n\u001b[0;32m   (...)\u001b[0m\n\u001b[1;32m    884\u001b[0m \u001b[38;5;124;03m    linprog, lpmin\u001b[39;00m\n\u001b[1;32m    885\u001b[0m \u001b[38;5;124;03m    \"\"\"\u001b[39;00m\n\u001b[0;32m--> 886\u001b[0m     \u001b[38;5;28;01mreturn\u001b[39;00m \u001b[43m_lp\u001b[49m\u001b[43m(\u001b[49m\u001b[38;5;28;43mmax\u001b[39;49m\u001b[43m,\u001b[49m\u001b[43m \u001b[49m\u001b[43mf\u001b[49m\u001b[43m,\u001b[49m\u001b[43m \u001b[49m\u001b[43mconstr\u001b[49m\u001b[43m)\u001b[49m\n",
      "File \u001b[0;32m~/Library/Python/3.9/lib/python/site-packages/sympy/solvers/simplex.py:786\u001b[0m, in \u001b[0;36m_lp\u001b[0;34m(min_max, f, constr)\u001b[0m\n\u001b[1;32m    747\u001b[0m \u001b[38;5;250m\u001b[39m\u001b[38;5;124;03m\"\"\"Return the optimization (min or max) of ``f`` with the given\u001b[39;00m\n\u001b[1;32m    748\u001b[0m \u001b[38;5;124;03mconstraints. All variables are unbounded unless constrained.\u001b[39;00m\n\u001b[1;32m    749\u001b[0m \n\u001b[0;32m   (...)\u001b[0m\n\u001b[1;32m    782\u001b[0m \u001b[38;5;124;03m(0, {x: 0, y: 3})\u001b[39;00m\n\u001b[1;32m    783\u001b[0m \u001b[38;5;124;03m\"\"\"\u001b[39;00m\n\u001b[1;32m    784\u001b[0m \u001b[38;5;66;03m# get the matrix components for the system expressed\u001b[39;00m\n\u001b[1;32m    785\u001b[0m \u001b[38;5;66;03m# in terms of only nonnegative variables\u001b[39;00m\n\u001b[0;32m--> 786\u001b[0m A, B, C, D, r, xx, aux \u001b[38;5;241m=\u001b[39m \u001b[43m_lp_matrices\u001b[49m\u001b[43m(\u001b[49m\u001b[43mf\u001b[49m\u001b[43m,\u001b[49m\u001b[43m \u001b[49m\u001b[43mconstr\u001b[49m\u001b[43m)\u001b[49m\n\u001b[1;32m    788\u001b[0m how \u001b[38;5;241m=\u001b[39m \u001b[38;5;28mstr\u001b[39m(min_max)\u001b[38;5;241m.\u001b[39mlower()\n\u001b[1;32m    789\u001b[0m \u001b[38;5;28;01mif\u001b[39;00m \u001b[38;5;124m\"\u001b[39m\u001b[38;5;124mmax\u001b[39m\u001b[38;5;124m\"\u001b[39m \u001b[38;5;129;01min\u001b[39;00m how:\n\u001b[1;32m    790\u001b[0m     \u001b[38;5;66;03m# _simplex minimizes for Ax <= B so we\u001b[39;00m\n\u001b[1;32m    791\u001b[0m     \u001b[38;5;66;03m# have to change the sign of the function\u001b[39;00m\n\u001b[1;32m    792\u001b[0m     \u001b[38;5;66;03m# and negate the optimal value returned\u001b[39;00m\n",
      "File \u001b[0;32m~/Library/Python/3.9/lib/python/site-packages/sympy/solvers/simplex.py:729\u001b[0m, in \u001b[0;36m_lp_matrices\u001b[0;34m(objective, constraints)\u001b[0m\n\u001b[1;32m    726\u001b[0m         np\u001b[38;5;241m.\u001b[39mappend(\u001b[38;5;241m-\u001b[39mnp[i]\u001b[38;5;241m.\u001b[39mlhs \u001b[38;5;241m<\u001b[39m\u001b[38;5;241m=\u001b[39m \u001b[38;5;241m0\u001b[39m)\n\u001b[1;32m    728\u001b[0m \u001b[38;5;66;03m# convert constraints to nonpositive expressions\u001b[39;00m\n\u001b[0;32m--> 729\u001b[0m _ \u001b[38;5;241m=\u001b[39m \u001b[43m_rel_as_nonpos\u001b[49m\u001b[43m(\u001b[49m\u001b[43mnp\u001b[49m\u001b[43m,\u001b[49m\u001b[43m \u001b[49m\u001b[43msyms\u001b[49m\u001b[43m)\u001b[49m\n\u001b[1;32m    730\u001b[0m \u001b[38;5;28;01mif\u001b[39;00m _ \u001b[38;5;129;01mis\u001b[39;00m \u001b[38;5;28;01mNone\u001b[39;00m:\n\u001b[1;32m    731\u001b[0m     \u001b[38;5;28;01mraise\u001b[39;00m InfeasibleLPError(filldedent(\u001b[38;5;124m\"\"\"\u001b[39m\n\u001b[1;32m    732\u001b[0m \u001b[38;5;124m        Inconsistent/False constraint\u001b[39m\u001b[38;5;124m\"\"\"\u001b[39m))\n",
      "File \u001b[0;32m~/Library/Python/3.9/lib/python/site-packages/sympy/solvers/simplex.py:650\u001b[0m, in \u001b[0;36m_rel_as_nonpos\u001b[0;34m(constr, syms)\u001b[0m\n\u001b[1;32m    648\u001b[0m \u001b[38;5;28;01mif\u001b[39;00m x \u001b[38;5;129;01min\u001b[39;00m unbound:\n\u001b[1;32m    649\u001b[0m     \u001b[38;5;28;01mcontinue\u001b[39;00m  \u001b[38;5;66;03m# will handle later\u001b[39;00m\n\u001b[0;32m--> 650\u001b[0m ivl \u001b[38;5;241m=\u001b[39m \u001b[43mLe\u001b[49m\u001b[43m(\u001b[49m\u001b[43mi\u001b[49m\u001b[43m,\u001b[49m\u001b[43m \u001b[49m\u001b[38;5;241;43m0\u001b[39;49m\u001b[43m,\u001b[49m\u001b[43m \u001b[49m\u001b[43mevaluate\u001b[49m\u001b[38;5;241;43m=\u001b[39;49m\u001b[38;5;28;43;01mFalse\u001b[39;49;00m\u001b[43m)\u001b[49m\u001b[38;5;241;43m.\u001b[39;49m\u001b[43mas_set\u001b[49m\u001b[43m(\u001b[49m\u001b[43m)\u001b[49m\n\u001b[1;32m    651\u001b[0m \u001b[38;5;28;01mif\u001b[39;00m x \u001b[38;5;129;01mnot\u001b[39;00m \u001b[38;5;129;01min\u001b[39;00m univariate:\n\u001b[1;32m    652\u001b[0m     univariate[x] \u001b[38;5;241m=\u001b[39m ivl\n",
      "File \u001b[0;32m~/Library/Python/3.9/lib/python/site-packages/sympy/logic/boolalg.py:176\u001b[0m, in \u001b[0;36mBoolean.as_set\u001b[0;34m(self)\u001b[0m\n\u001b[1;32m    174\u001b[0m             \u001b[38;5;28;01mreturn\u001b[39;00m new\u001b[38;5;241m.\u001b[39mas_set()  \u001b[38;5;66;03m# restart with new obj\u001b[39;00m\n\u001b[1;32m    175\u001b[0m         \u001b[38;5;28;01melse\u001b[39;00m:\n\u001b[0;32m--> 176\u001b[0m             \u001b[38;5;28;01mreturn\u001b[39;00m \u001b[43mnew\u001b[49m\u001b[38;5;241;43m.\u001b[39;49m\u001b[43m_eval_as_set\u001b[49m\u001b[43m(\u001b[49m\u001b[43m)\u001b[49m\n\u001b[1;32m    178\u001b[0m     \u001b[38;5;28;01mreturn\u001b[39;00m \u001b[38;5;28mself\u001b[39m\u001b[38;5;241m.\u001b[39m_eval_as_set()\n\u001b[1;32m    179\u001b[0m \u001b[38;5;28;01melse\u001b[39;00m:\n",
      "File \u001b[0;32m~/Library/Python/3.9/lib/python/site-packages/sympy/core/relational.py:526\u001b[0m, in \u001b[0;36mRelational._eval_as_set\u001b[0;34m(self)\u001b[0m\n\u001b[1;32m    524\u001b[0m x \u001b[38;5;241m=\u001b[39m syms\u001b[38;5;241m.\u001b[39mpop()\n\u001b[1;32m    525\u001b[0m \u001b[38;5;28;01mtry\u001b[39;00m:\n\u001b[0;32m--> 526\u001b[0m     xset \u001b[38;5;241m=\u001b[39m \u001b[43msolve_univariate_inequality\u001b[49m\u001b[43m(\u001b[49m\u001b[38;5;28;43mself\u001b[39;49m\u001b[43m,\u001b[49m\u001b[43m \u001b[49m\u001b[43mx\u001b[49m\u001b[43m,\u001b[49m\u001b[43m \u001b[49m\u001b[43mrelational\u001b[49m\u001b[38;5;241;43m=\u001b[39;49m\u001b[38;5;28;43;01mFalse\u001b[39;49;00m\u001b[43m)\u001b[49m\n\u001b[1;32m    527\u001b[0m \u001b[38;5;28;01mexcept\u001b[39;00m \u001b[38;5;167;01mNotImplementedError\u001b[39;00m:\n\u001b[1;32m    528\u001b[0m     \u001b[38;5;66;03m# solve_univariate_inequality raises NotImplementedError for\u001b[39;00m\n\u001b[1;32m    529\u001b[0m     \u001b[38;5;66;03m# unsolvable equations/inequalities.\u001b[39;00m\n\u001b[1;32m    530\u001b[0m     xset \u001b[38;5;241m=\u001b[39m ConditionSet(x, \u001b[38;5;28mself\u001b[39m, S\u001b[38;5;241m.\u001b[39mReals)\n",
      "File \u001b[0;32m~/Library/Python/3.9/lib/python/site-packages/sympy/solvers/inequalities.py:484\u001b[0m, in \u001b[0;36msolve_univariate_inequality\u001b[0;34m(expr, gen, relational, domain, continuous)\u001b[0m\n\u001b[1;32m    482\u001b[0m \u001b[38;5;28;01melse\u001b[39;00m:\n\u001b[1;32m    483\u001b[0m     e \u001b[38;5;241m=\u001b[39m expr\u001b[38;5;241m.\u001b[39mlhs \u001b[38;5;241m-\u001b[39m expr\u001b[38;5;241m.\u001b[39mrhs\n\u001b[0;32m--> 484\u001b[0m     period \u001b[38;5;241m=\u001b[39m \u001b[43mperiodicity\u001b[49m\u001b[43m(\u001b[49m\u001b[43me\u001b[49m\u001b[43m,\u001b[49m\u001b[43m \u001b[49m\u001b[43mgen\u001b[49m\u001b[43m)\u001b[49m\n\u001b[1;32m    485\u001b[0m     \u001b[38;5;28;01mif\u001b[39;00m period \u001b[38;5;241m==\u001b[39m S\u001b[38;5;241m.\u001b[39mZero:\n\u001b[1;32m    486\u001b[0m         e \u001b[38;5;241m=\u001b[39m expand_mul(e)\n",
      "File \u001b[0;32m~/Library/Python/3.9/lib/python/site-packages/sympy/calculus/util.py:561\u001b[0m, in \u001b[0;36mperiodicity\u001b[0;34m(f, symbol, check)\u001b[0m\n\u001b[1;32m    559\u001b[0m     k, g \u001b[38;5;241m=\u001b[39m f\u001b[38;5;241m.\u001b[39mas_independent(symbol)\n\u001b[1;32m    560\u001b[0m     \u001b[38;5;28;01mif\u001b[39;00m k \u001b[38;5;129;01mis\u001b[39;00m \u001b[38;5;129;01mnot\u001b[39;00m S\u001b[38;5;241m.\u001b[39mZero:\n\u001b[0;32m--> 561\u001b[0m         \u001b[38;5;28;01mreturn\u001b[39;00m \u001b[43mperiodicity\u001b[49m\u001b[43m(\u001b[49m\u001b[43mg\u001b[49m\u001b[43m,\u001b[49m\u001b[43m \u001b[49m\u001b[43msymbol\u001b[49m\u001b[43m)\u001b[49m\n\u001b[1;32m    563\u001b[0m     period \u001b[38;5;241m=\u001b[39m _periodicity(g\u001b[38;5;241m.\u001b[39margs, symbol)\n\u001b[1;32m    565\u001b[0m \u001b[38;5;28;01melif\u001b[39;00m \u001b[38;5;28misinstance\u001b[39m(f, Mod):\n",
      "File \u001b[0;32m~/Library/Python/3.9/lib/python/site-packages/sympy/calculus/util.py:496\u001b[0m, in \u001b[0;36mperiodicity\u001b[0;34m(f, symbol, check)\u001b[0m\n\u001b[1;32m    493\u001b[0m \u001b[38;5;28;01mif\u001b[39;00m \u001b[38;5;28misinstance\u001b[39m(f, Relational):\n\u001b[1;32m    494\u001b[0m     f \u001b[38;5;241m=\u001b[39m f\u001b[38;5;241m.\u001b[39mlhs \u001b[38;5;241m-\u001b[39m f\u001b[38;5;241m.\u001b[39mrhs\n\u001b[0;32m--> 496\u001b[0m f \u001b[38;5;241m=\u001b[39m \u001b[43mf\u001b[49m\u001b[38;5;241;43m.\u001b[39;49m\u001b[43msimplify\u001b[49m\u001b[43m(\u001b[49m\u001b[43m)\u001b[49m\n\u001b[1;32m    498\u001b[0m \u001b[38;5;28;01mif\u001b[39;00m symbol \u001b[38;5;129;01mnot\u001b[39;00m \u001b[38;5;129;01min\u001b[39;00m f\u001b[38;5;241m.\u001b[39mfree_symbols:\n\u001b[1;32m    499\u001b[0m     \u001b[38;5;28;01mreturn\u001b[39;00m S\u001b[38;5;241m.\u001b[39mZero\n",
      "File \u001b[0;32m~/Library/Python/3.9/lib/python/site-packages/sympy/core/basic.py:1936\u001b[0m, in \u001b[0;36mBasic.simplify\u001b[0;34m(self, **kwargs)\u001b[0m\n\u001b[1;32m   1934\u001b[0m \u001b[38;5;250m\u001b[39m\u001b[38;5;124;03m\"\"\"See the simplify function in sympy.simplify\"\"\"\u001b[39;00m\n\u001b[1;32m   1935\u001b[0m \u001b[38;5;28;01mfrom\u001b[39;00m \u001b[38;5;21;01msympy\u001b[39;00m\u001b[38;5;21;01m.\u001b[39;00m\u001b[38;5;21;01msimplify\u001b[39;00m\u001b[38;5;21;01m.\u001b[39;00m\u001b[38;5;21;01msimplify\u001b[39;00m \u001b[38;5;28;01mimport\u001b[39;00m simplify\n\u001b[0;32m-> 1936\u001b[0m \u001b[38;5;28;01mreturn\u001b[39;00m \u001b[43msimplify\u001b[49m\u001b[43m(\u001b[49m\u001b[38;5;28;43mself\u001b[39;49m\u001b[43m,\u001b[49m\u001b[43m \u001b[49m\u001b[38;5;241;43m*\u001b[39;49m\u001b[38;5;241;43m*\u001b[39;49m\u001b[43mkwargs\u001b[49m\u001b[43m)\u001b[49m\n",
      "File \u001b[0;32m~/Library/Python/3.9/lib/python/site-packages/sympy/simplify/simplify.py:725\u001b[0m, in \u001b[0;36msimplify\u001b[0;34m(expr, ratio, measure, rational, inverse, doit, **kwargs)\u001b[0m\n\u001b[1;32m    722\u001b[0m     \u001b[38;5;28;01mfrom\u001b[39;00m \u001b[38;5;21;01msympy\u001b[39;00m\u001b[38;5;21;01m.\u001b[39;00m\u001b[38;5;21;01mphysics\u001b[39;00m\u001b[38;5;21;01m.\u001b[39;00m\u001b[38;5;21;01munits\u001b[39;00m\u001b[38;5;21;01m.\u001b[39;00m\u001b[38;5;21;01mutil\u001b[39;00m \u001b[38;5;28;01mimport\u001b[39;00m quantity_simplify\n\u001b[1;32m    723\u001b[0m     expr \u001b[38;5;241m=\u001b[39m quantity_simplify(expr)\n\u001b[0;32m--> 725\u001b[0m short \u001b[38;5;241m=\u001b[39m shorter(\u001b[43mpowsimp\u001b[49m\u001b[43m(\u001b[49m\u001b[43mexpr\u001b[49m\u001b[43m,\u001b[49m\u001b[43m \u001b[49m\u001b[43mcombine\u001b[49m\u001b[38;5;241;43m=\u001b[39;49m\u001b[38;5;124;43m'\u001b[39;49m\u001b[38;5;124;43mexp\u001b[39;49m\u001b[38;5;124;43m'\u001b[39;49m\u001b[43m,\u001b[49m\u001b[43m \u001b[49m\u001b[43mdeep\u001b[49m\u001b[38;5;241;43m=\u001b[39;49m\u001b[38;5;28;43;01mTrue\u001b[39;49;00m\u001b[43m)\u001b[49m, powsimp(expr), expr)\n\u001b[1;32m    726\u001b[0m short \u001b[38;5;241m=\u001b[39m shorter(short, cancel(short))\n\u001b[1;32m    727\u001b[0m short \u001b[38;5;241m=\u001b[39m shorter(short, factor_terms(short), expand_power_exp(expand_mul(short)))\n",
      "File \u001b[0;32m~/Library/Python/3.9/lib/python/site-packages/sympy/simplify/powsimp.py:117\u001b[0m, in \u001b[0;36mpowsimp\u001b[0;34m(expr, deep, combine, force, measure)\u001b[0m\n\u001b[1;32m    114\u001b[0m     \u001b[38;5;28;01mreturn\u001b[39;00m expr\n\u001b[1;32m    116\u001b[0m \u001b[38;5;28;01mif\u001b[39;00m deep \u001b[38;5;129;01mor\u001b[39;00m expr\u001b[38;5;241m.\u001b[39mis_Add \u001b[38;5;129;01mor\u001b[39;00m expr\u001b[38;5;241m.\u001b[39mis_Mul \u001b[38;5;129;01mand\u001b[39;00m _y \u001b[38;5;129;01mnot\u001b[39;00m \u001b[38;5;129;01min\u001b[39;00m expr\u001b[38;5;241m.\u001b[39margs:\n\u001b[0;32m--> 117\u001b[0m     expr \u001b[38;5;241m=\u001b[39m expr\u001b[38;5;241m.\u001b[39mfunc(\u001b[38;5;241m*\u001b[39m[recurse(w) \u001b[38;5;28;01mfor\u001b[39;00m w \u001b[38;5;129;01min\u001b[39;00m expr\u001b[38;5;241m.\u001b[39margs])\n\u001b[1;32m    119\u001b[0m \u001b[38;5;28;01mif\u001b[39;00m expr\u001b[38;5;241m.\u001b[39mis_Pow:\n\u001b[1;32m    120\u001b[0m     \u001b[38;5;28;01mreturn\u001b[39;00m recurse(expr\u001b[38;5;241m*\u001b[39m_y, deep\u001b[38;5;241m=\u001b[39m\u001b[38;5;28;01mFalse\u001b[39;00m)\u001b[38;5;241m/\u001b[39m_y\n",
      "File \u001b[0;32m~/Library/Python/3.9/lib/python/site-packages/sympy/simplify/powsimp.py:117\u001b[0m, in \u001b[0;36m<listcomp>\u001b[0;34m(.0)\u001b[0m\n\u001b[1;32m    114\u001b[0m     \u001b[38;5;28;01mreturn\u001b[39;00m expr\n\u001b[1;32m    116\u001b[0m \u001b[38;5;28;01mif\u001b[39;00m deep \u001b[38;5;129;01mor\u001b[39;00m expr\u001b[38;5;241m.\u001b[39mis_Add \u001b[38;5;129;01mor\u001b[39;00m expr\u001b[38;5;241m.\u001b[39mis_Mul \u001b[38;5;129;01mand\u001b[39;00m _y \u001b[38;5;129;01mnot\u001b[39;00m \u001b[38;5;129;01min\u001b[39;00m expr\u001b[38;5;241m.\u001b[39margs:\n\u001b[0;32m--> 117\u001b[0m     expr \u001b[38;5;241m=\u001b[39m expr\u001b[38;5;241m.\u001b[39mfunc(\u001b[38;5;241m*\u001b[39m[\u001b[43mrecurse\u001b[49m\u001b[43m(\u001b[49m\u001b[43mw\u001b[49m\u001b[43m)\u001b[49m \u001b[38;5;28;01mfor\u001b[39;00m w \u001b[38;5;129;01min\u001b[39;00m expr\u001b[38;5;241m.\u001b[39margs])\n\u001b[1;32m    119\u001b[0m \u001b[38;5;28;01mif\u001b[39;00m expr\u001b[38;5;241m.\u001b[39mis_Pow:\n\u001b[1;32m    120\u001b[0m     \u001b[38;5;28;01mreturn\u001b[39;00m recurse(expr\u001b[38;5;241m*\u001b[39m_y, deep\u001b[38;5;241m=\u001b[39m\u001b[38;5;28;01mFalse\u001b[39;00m)\u001b[38;5;241m/\u001b[39m_y\n",
      "File \u001b[0;32m~/Library/Python/3.9/lib/python/site-packages/sympy/simplify/powsimp.py:108\u001b[0m, in \u001b[0;36mpowsimp.<locals>.recurse\u001b[0;34m(arg, **kwargs)\u001b[0m\n\u001b[1;32m    106\u001b[0m _force \u001b[38;5;241m=\u001b[39m kwargs\u001b[38;5;241m.\u001b[39mget(\u001b[38;5;124m'\u001b[39m\u001b[38;5;124mforce\u001b[39m\u001b[38;5;124m'\u001b[39m, force)\n\u001b[1;32m    107\u001b[0m _measure \u001b[38;5;241m=\u001b[39m kwargs\u001b[38;5;241m.\u001b[39mget(\u001b[38;5;124m'\u001b[39m\u001b[38;5;124mmeasure\u001b[39m\u001b[38;5;124m'\u001b[39m, measure)\n\u001b[0;32m--> 108\u001b[0m \u001b[38;5;28;01mreturn\u001b[39;00m \u001b[43mpowsimp\u001b[49m\u001b[43m(\u001b[49m\u001b[43marg\u001b[49m\u001b[43m,\u001b[49m\u001b[43m \u001b[49m\u001b[43m_deep\u001b[49m\u001b[43m,\u001b[49m\u001b[43m \u001b[49m\u001b[43m_combine\u001b[49m\u001b[43m,\u001b[49m\u001b[43m \u001b[49m\u001b[43m_force\u001b[49m\u001b[43m,\u001b[49m\u001b[43m \u001b[49m\u001b[43m_measure\u001b[49m\u001b[43m)\u001b[49m\n",
      "File \u001b[0;32m~/Library/Python/3.9/lib/python/site-packages/sympy/simplify/powsimp.py:110\u001b[0m, in \u001b[0;36mpowsimp\u001b[0;34m(expr, deep, combine, force, measure)\u001b[0m\n\u001b[1;32m    107\u001b[0m     _measure \u001b[38;5;241m=\u001b[39m kwargs\u001b[38;5;241m.\u001b[39mget(\u001b[38;5;124m'\u001b[39m\u001b[38;5;124mmeasure\u001b[39m\u001b[38;5;124m'\u001b[39m, measure)\n\u001b[1;32m    108\u001b[0m     \u001b[38;5;28;01mreturn\u001b[39;00m powsimp(arg, _deep, _combine, _force, _measure)\n\u001b[0;32m--> 110\u001b[0m expr \u001b[38;5;241m=\u001b[39m \u001b[43msympify\u001b[49m\u001b[43m(\u001b[49m\u001b[43mexpr\u001b[49m\u001b[43m)\u001b[49m\n\u001b[1;32m    112\u001b[0m \u001b[38;5;28;01mif\u001b[39;00m (\u001b[38;5;129;01mnot\u001b[39;00m \u001b[38;5;28misinstance\u001b[39m(expr, Basic) \u001b[38;5;129;01mor\u001b[39;00m \u001b[38;5;28misinstance\u001b[39m(expr, MatrixSymbol) \u001b[38;5;129;01mor\u001b[39;00m (\n\u001b[1;32m    113\u001b[0m         expr\u001b[38;5;241m.\u001b[39mis_Atom \u001b[38;5;129;01mor\u001b[39;00m expr \u001b[38;5;129;01min\u001b[39;00m (exp_polar(\u001b[38;5;241m0\u001b[39m), exp_polar(\u001b[38;5;241m1\u001b[39m)))):\n\u001b[1;32m    114\u001b[0m     \u001b[38;5;28;01mreturn\u001b[39;00m expr\n",
      "File \u001b[0;32m~/Library/Python/3.9/lib/python/site-packages/sympy/core/sympify.py:98\u001b[0m, in \u001b[0;36msympify\u001b[0;34m(a, locals, convert_xor, strict, rational, evaluate)\u001b[0m\n\u001b[1;32m     94\u001b[0m         a \u001b[38;5;241m=\u001b[39m mlib\u001b[38;5;241m.\u001b[39mfrom_rational(p, q, prec)\n\u001b[1;32m     95\u001b[0m         \u001b[38;5;28;01mreturn\u001b[39;00m Float(a, precision\u001b[38;5;241m=\u001b[39mprec)\n\u001b[0;32m---> 98\u001b[0m \u001b[38;5;28;01mdef\u001b[39;00m \u001b[38;5;21msympify\u001b[39m(a, \u001b[38;5;28mlocals\u001b[39m\u001b[38;5;241m=\u001b[39m\u001b[38;5;28;01mNone\u001b[39;00m, convert_xor\u001b[38;5;241m=\u001b[39m\u001b[38;5;28;01mTrue\u001b[39;00m, strict\u001b[38;5;241m=\u001b[39m\u001b[38;5;28;01mFalse\u001b[39;00m, rational\u001b[38;5;241m=\u001b[39m\u001b[38;5;28;01mFalse\u001b[39;00m,\n\u001b[1;32m     99\u001b[0m         evaluate\u001b[38;5;241m=\u001b[39m\u001b[38;5;28;01mNone\u001b[39;00m):\n\u001b[1;32m    100\u001b[0m \u001b[38;5;250m    \u001b[39m\u001b[38;5;124;03m\"\"\"\u001b[39;00m\n\u001b[1;32m    101\u001b[0m \u001b[38;5;124;03m    Converts an arbitrary expression to a type that can be used inside SymPy.\u001b[39;00m\n\u001b[1;32m    102\u001b[0m \n\u001b[0;32m   (...)\u001b[0m\n\u001b[1;32m    364\u001b[0m \n\u001b[1;32m    365\u001b[0m \u001b[38;5;124;03m    \"\"\"\u001b[39;00m\n\u001b[1;32m    366\u001b[0m     \u001b[38;5;66;03m# XXX: If a is a Basic subclass rather than instance (e.g. sin rather than\u001b[39;00m\n\u001b[1;32m    367\u001b[0m     \u001b[38;5;66;03m# sin(x)) then a.__sympy__ will be the property. Only on the instance will\u001b[39;00m\n\u001b[1;32m    368\u001b[0m     \u001b[38;5;66;03m# a.__sympy__ give the *value* of the property (True). Since sympify(sin)\u001b[39;00m\n\u001b[0;32m   (...)\u001b[0m\n\u001b[1;32m    372\u001b[0m     \u001b[38;5;66;03m#\u001b[39;00m\n\u001b[1;32m    373\u001b[0m     \u001b[38;5;66;03m# https://github.com/sympy/sympy/issues/20124\u001b[39;00m\n",
      "\u001b[0;31mKeyboardInterrupt\u001b[0m: "
     ]
    }
   ],
   "source": [
    "H.all_inds(x,y,z)"
   ]
  },
  {
   "cell_type": "code",
   "execution_count": null,
   "id": "9ca32ee1",
   "metadata": {},
   "outputs": [],
   "source": [
    "H.all_inds(y,x,z)"
   ]
  },
  {
   "cell_type": "code",
   "execution_count": 7,
   "id": "aba86417",
   "metadata": {},
   "outputs": [
    {
     "data": {
      "text/plain": [
       "0.08333333333333333"
      ]
     },
     "execution_count": 7,
     "metadata": {},
     "output_type": "execute_result"
    }
   ],
   "source": [
    "H(2,x,y,z).lb([x > 0, x < y, y < z, 2*x <= y, 2*x >= y])"
   ]
  },
  {
   "cell_type": "code",
   "execution_count": null,
   "id": "9fda879f",
   "metadata": {},
   "outputs": [],
   "source": []
  },
  {
   "cell_type": "code",
   "execution_count": 9,
   "id": "b12ea631",
   "metadata": {},
   "outputs": [
    {
     "data": {
      "text/plain": [
       "[2*x <= y, x <= -y + z, y >= 3*x, z >= 3*x, 2*x <= z]"
      ]
     },
     "execution_count": 9,
     "metadata": {},
     "output_type": "execute_result"
    }
   ],
   "source": [
    "H(2,x,y,z).inds"
   ]
  },
  {
   "cell_type": "code",
   "execution_count": 10,
   "id": "072a6be5",
   "metadata": {},
   "outputs": [
    {
     "data": {
      "text/plain": [
       "[2*x >= y, x <= -y + z, y <= 3*x, z >= 3*y]"
      ]
     },
     "execution_count": 10,
     "metadata": {},
     "output_type": "execute_result"
    }
   ],
   "source": [
    "H(2,y,x,z).inds"
   ]
  },
  {
   "cell_type": "code",
   "execution_count": 11,
   "id": "2acb73ae",
   "metadata": {},
   "outputs": [
    {
     "name": "stdout",
     "output_type": "stream",
     "text": [
      "[x > 0, x < y, y < z, x <= 3*y - z, 3*x >= 2*y] 0.02314814814814814\n",
      "Failed!\n"
     ]
    },
    {
     "data": {
      "text/plain": [
       "False"
      ]
     },
     "execution_count": 11,
     "metadata": {},
     "output_type": "execute_result"
    }
   ],
   "source": [
    "run(3)"
   ]
  },
  {
   "cell_type": "code",
   "execution_count": 12,
   "id": "143664e6",
   "metadata": {},
   "outputs": [
    {
     "name": "stdout",
     "output_type": "stream",
     "text": [
      "[x > 0, x < y, y < z, 11*x <= 5*y, 5*x <= -y + 3*z] 0.07330246913580248\n",
      "[x > 0, x < y, y < z, 11*x <= 5*y, 4*x >= 3*y] 0.18055555555555555\n",
      "[x > 0, x < y, y < z, 11*x <= 5*y, 9*x >= 3*y - z] 0.06944444444444446\n",
      "[x > 0, x < y, y < z, 11*x <= 5*y, 5*x <= -y + z] 0.18595679012345678\n",
      "[x > 0, x < y, y < z, 11*x <= 5*y, 2*x >= 3*y - z] 0.16358024691358025\n",
      "[x > 0, x < y, y < z, 11*x <= 5*y, 3*x <= -y + 2*z] 0.07330246913580248\n",
      "[x > 0, x < y, y < z, 11*x <= 5*y, 3*x <= -5*y + 3*z] 0.16358024691358025\n",
      "[x > 0, x < y, y < z, 11*x <= 5*y, 9*x <= -y + 3*z] 0.10185185185185183\n",
      "[x > 0, x < y, y < z, 11*x <= 5*y, 3*x <= -y + z] 0.17515432098765432\n",
      "[x > 0, x < y, y < z, 11*x <= 5*y, 3*x <= -2*y + z] 0.1867283950617284\n",
      "[x > 0, x < y, y < z, 11*x <= 5*y, 5*x >= 5*y - 3*z] 0.06944444444444446\n",
      "[x > 0, x < y, y < z, 11*x <= 5*y, 2*x <= -3*y + 2*z] 0.16203703703703703\n",
      "[x > 0, x < y, y < z, 11*x <= 5*y, y <= 11*x] 0.06944444444444446\n",
      "[x > 0, x < y, y < z, 11*x <= 5*y, 9*x >= 7*y] 0.18055555555555555\n",
      "[x > 0, x < y, y < z, 11*x <= 5*y, 5*x >= y + 3*z] 0.18055555555555555\n",
      "[x > 0, x < y, y < z, 11*x <= 5*y, 6*x >= 5*y] 0.18055555555555555\n",
      "[x > 0, x < y, y < z, 11*x <= 5*y, x >= 3*y - z] 0.17669753086419754\n",
      "[x > 0, x < y, y < z, 11*x <= 5*y, x <= -7*y + z] 0.2044753086419753\n",
      "[x > 0, x < y, y < z, 11*x <= 5*y, x >= 9*y - 3*z] 0.18209876543209877\n",
      "[x > 0, x < y, y < z, 11*x <= 5*y, x <= -6*y + z] 0.20293209876543208\n",
      "[x > 0, x < y, y < z, 11*x <= 5*y, y <= 10*x] 0.06944444444444446\n",
      "[x > 0, x < y, y < z, 11*x <= 5*y, x <= -3*y + 3*z] 0.08101851851851852\n",
      "[x > 0, x < y, y < z, 11*x <= 5*y, x <= -5*y + 3*z] 0.1574074074074074\n",
      "[x > 0, x < y, y < z, 11*x <= 5*y, x <= -2*y + z] 0.17592592592592593\n",
      "[x > 0, x < y, y < z, 11*x <= 5*y, 3*x >= 3*y - z] 0.14969135802469133\n",
      "[x > 0, x < y, y < z, 11*x <= 5*y, 5*x >= 2*y] 0.06944444444444446\n",
      "[x > 0, x < y, y < z, 11*x <= 5*y, y <= 3*x] 0.06944444444444446\n",
      "[x > 0, x < y, y < z, 11*x <= 5*y, x <= -y + z] 0.14891975308641975\n",
      "[x > 0, x < y, y < z, 11*x <= 5*y, 3*x >= 3*y - 2*z] 0.06944444444444446\n",
      "[x > 0, x < y, y < z, 11*x <= 5*y, z >= 15*y] 0.2044753086419753\n",
      "[x > 0, x < y, y < z, 11*x <= 5*y, x >= 7*y - z] 0.20293209876543208\n",
      "[x > 0, x < y, y < z, 11*x <= 5*y, y <= 9*x] 0.06944444444444446\n",
      "[x > 0, x < y, y < z, 11*x <= 5*y, 3*x <= -2*y + 3*z] 0.07330246913580248\n",
      "[x > 0, x < y, y < z, 11*x <= 5*y, x >= 5*y - 3*z] 0.14969135802469133\n",
      "[x > 0, x < y, y < z, 11*x <= 5*y, 7*x <= -y + z] 0.18904320987654322\n",
      "[x > 0, x < y, y < z, 11*x <= 5*y, 7*y <= 5*z] 0.11574074074074071\n",
      "[x > 0, x < y, y < z, 11*x <= 5*y, 3*x >= 7*y - z] 0.20138888888888887\n",
      "[x > 0, x < y, y < z, 11*x <= 5*y, 5*x >= 5*y - z] 0.18132716049382716\n",
      "[x > 0, x < y, y < z, 11*x <= 5*y, 3*y <= 2*z] 0.14891975308641975\n",
      "[x > 0, x < y, y < z, 11*x <= 5*y, 7*x >= y + z] 0.14583333333333331\n",
      "[x > 0, x < y, y < z, 11*x <= 5*y, 6*x >= 2*y - z] 0.06944444444444446\n",
      "[x > 0, x < y, y < z, 11*x <= 5*y, y <= 13*x] 0.06944444444444446\n",
      "[x > 0, x < y, y < z, 11*x <= 5*y, 2*x >= 5*y - z] 0.19753086419753085\n",
      "[x > 0, x < y, y < z, 11*x <= 5*y, 6*x >= 6*y - z] 0.18904320987654322\n",
      "[x > 0, x < y, y < z, 11*x <= 5*y, 7*x >= y + 3*z] 0.18055555555555555\n",
      "[x > 0, x < y, y < z, 11*x <= 5*y, 3*x >= 2*y] 0.18055555555555555\n",
      "[x > 0, x < y, y < z, 11*x <= 5*y, 4*x >= 2*y + z] 0.18055555555555555\n",
      "[x > 0, x < y, y < z, 11*x <= 5*y, y <= 15*x] 0.06944444444444446\n",
      "[x > 0, x < y, y < z, 11*x <= 5*y, 4*x >= 4*y - z] 0.16512345679012347\n",
      "[x > 0, x < y, y < z, 11*x <= 5*y, 13*x >= 3*y] 0.06944444444444446\n",
      "[x > 0, x < y, y < z, 11*x <= 5*y, z >= 5*y] 0.2006172839506173\n",
      "[x > 0, x < y, y < z, 11*x <= 5*y, 7*x <= -y + 7*z] 0.06944444444444446\n",
      "[x > 0, x < y, y < z, 11*x <= 5*y, y <= 2*x] 0.18055555555555555\n",
      "[x > 0, x < y, y < z, 11*x <= 5*y, 8*x >= y] 0.06944444444444446\n",
      "[x > 0, x < y, y < z, 11*x <= 5*y, 5*x <= -3*y + 5*z] 0.07098765432098766\n",
      "[x > 0, x < y, y < z, 11*x <= 5*y, 2*x >= 2*y - z] 0.07561728395061729\n",
      "[x > 0, x < y, y < z, 11*x <= 5*y, 3*x <= -3*y + z] 0.19907407407407407\n",
      "[x > 0, x < y, y < z, 11*x <= 5*y, 11*x >= 5*y] 0.11188271604938269\n",
      "[x > 0, x < y, y < z, 11*x <= 5*y, y <= 14*x] 0.06944444444444446\n",
      "[x > 0, x < y, y < z, 11*x <= 5*y, 9*y <= 7*z] 0.08719135802469134\n",
      "[x > 0, x < y, y < z, 11*x <= 5*y, 11*y <= 5*z] 0.16512345679012347\n",
      "[x > 0, x < y, y < z, 11*x <= 5*y, 7*x >= 7*y - z] 0.19598765432098764\n",
      "[x > 0, x < y, y < z, 11*x <= 5*y, 10*x >= 3*y] 0.06944444444444446\n",
      "[x > 0, x < y, y < z, 11*x <= 5*y, 4*x <= -y + 4*z] 0.06944444444444446\n",
      "[x > 0, x < y, y < z, 11*x <= 5*y, 7*x >= 3*y] 0.06944444444444446\n",
      "[x > 0, x < y, y < z, 11*x <= 5*y, x >= 6*y - 2*z] 0.18132716049382716\n",
      "[x > 0, x < y, y < z, 11*x <= 5*y, x <= -3*y + z] 0.19444444444444442\n",
      "[x > 0, x < y, y < z, 11*x <= 5*y, 3*x >= 2*y - z] 0.06944444444444446\n",
      "[x > 0, x < y, y < z, 11*x <= 5*y, 6*x <= -y + 6*z] 0.06944444444444446\n",
      "[x > 0, x < y, y < z, 11*x <= 5*y, 7*x >= 5*y] 0.18055555555555555\n",
      "[x > 0, x < y, y < z, 11*x <= 5*y, 13*y <= 3*z] 0.19830246913580246\n",
      "[x > 0, x < y, y < z, 11*x <= 5*y, y <= 12*x] 0.06944444444444446\n",
      "[x > 0, x < y, y < z, 11*x <= 5*y, 4*y <= 3*z] 0.08796296296296295\n",
      "[x > 0, x < y, y < z, 11*x <= 5*y, 6*x >= y + 2*z] 0.18055555555555555\n",
      "[x > 0, x < y, y < z, 11*x <= 5*y, 7*x >= 2*y] 0.06944444444444446\n",
      "[x > 0, x < y, y < z, 11*x <= 5*y, 3*x >= y + z] 0.18055555555555555\n",
      "[x > 0, x < y, y < z, 11*x <= 5*y, y <= 5*x] 0.06944444444444446\n",
      "[x > 0, x < y, y < z, 11*x <= 5*y, 5*x <= -y + 5*z] 0.06944444444444446\n",
      "[x > 0, x < y, y < z, 11*x <= 5*y, 2*x <= -y + 2*z] 0.06944444444444446\n",
      "[x > 0, x < y, y < z, 11*x <= 5*y, 5*x >= y + 2*z] 0.18055555555555555\n",
      "[x > 0, x < y, y < z, 11*x <= 5*y, x >= 4*y - 2*z] 0.15123456790123455\n",
      "[x > 0, x < y, y < z, 11*x <= 5*y, z >= 2*y] 0.16358024691358025\n",
      "[x > 0, x < y, y < z, 11*x <= 5*y, 3*x >= -y + 3*z] 0.18055555555555555\n",
      "[x > 0, x < y, y < z, 11*x <= 5*y, 5*x >= 3*y + z] 0.18055555555555555\n",
      "[x > 0, x < y, y < z, 11*x <= 5*y, 5*x >= 3*y - z] 0.06944444444444446\n",
      "[x > 0, x < y, y < z, 11*x <= 5*y, 6*x <= -y + 2*z] 0.10725308641975306\n",
      "[x > 0, x < y, y < z, 11*x <= 5*y, y <= 4*x] 0.06944444444444446\n",
      "[x > 0, x < y, y < z, 11*x <= 5*y, 9*x >= y + 3*z] 0.21682098765432098\n",
      "[x > 0, x < y, y < z, 5*x <= -y + 3*z, 5*x <= -y + 3*z, 11*x > 5*y] -0.02546296296296298\n",
      "Failed!\n"
     ]
    },
    {
     "data": {
      "text/plain": [
       "False"
      ]
     },
     "execution_count": 12,
     "metadata": {},
     "output_type": "execute_result"
    }
   ],
   "source": [
    "run(4)"
   ]
  },
  {
   "cell_type": "code",
   "execution_count": null,
   "id": "17434e0d",
   "metadata": {},
   "outputs": [
    {
     "name": "stdout",
     "output_type": "stream",
     "text": [
      "n = 6\n",
      "[25*x <= y + 12*z, 50*x >= 7*y] -665/5184\n",
      "Failed!\n",
      "n = 7\n",
      "[7*x <= -27*y + 5*z, 90*x >= y + 30*z] 1901/10368\n",
      "[7*x <= -27*y + 5*z, 7*x <= -27*y + 5*z] 9011/139968\n",
      "[7*x <= -27*y + 5*z, x <= -21*y + 11*z] 9011/139968\n",
      "[7*x <= -27*y + 5*z, 11*x <= -43*y + 33*z] 9011/139968\n",
      "[7*x <= -27*y + 5*z, 4*x <= -6*y + 5*z] 9011/139968\n",
      "[7*x <= -27*y + 5*z, 60*x >= 4*y - z] 9011/139968\n",
      "[7*x <= -27*y + 5*z, 21*x <= -y + 5*z] 9011/139968\n",
      "[7*x <= -27*y + 5*z, 21*x <= -2*y + 5*z] 9011/139968\n",
      "[7*x <= -27*y + 5*z, 9*x >= 18*y - 2*z] 379/5832\n",
      "[7*x <= -27*y + 5*z, 6*x <= -3*y + 4*z] 9011/139968\n",
      "[7*x <= -27*y + 5*z, 35*x <= -y + 35*z] 9011/139968\n"
     ]
    }
   ],
   "source": [
    "loop(6)"
   ]
  },
  {
   "cell_type": "code",
   "execution_count": null,
   "id": "c5d5d399",
   "metadata": {},
   "outputs": [
    {
     "name": "stdout",
     "output_type": "stream",
     "text": [
      "n = 7\n",
      "[43*x <= 21*y + 11*z, 4*x <= -17*y + 3*z] 4967/69984\n",
      "[43*x <= 21*y + 11*z, 3*x <= -33*y + 31*z] -16091/93312\n",
      "Failed!\n",
      "n = 8\n"
     ]
    }
   ],
   "source": [
    "loop(7)"
   ]
  },
  {
   "cell_type": "code",
   "execution_count": null,
   "id": "4c73a188",
   "metadata": {},
   "outputs": [
    {
     "name": "stdout",
     "output_type": "stream",
     "text": [
      "n = 8\n",
      "[51*x <= 10*y, 57*x >= 27*y + 7*z] 102701/559872\n",
      "[51*x <= 10*y, 113*x >= 9*y + 3*z] 9157/46656\n"
     ]
    }
   ],
   "source": [
    "loop(8)"
   ]
  },
  {
   "cell_type": "code",
   "execution_count": null,
   "id": "03152b03",
   "metadata": {},
   "outputs": [],
   "source": []
  }
 ],
 "metadata": {
  "kernelspec": {
   "display_name": "Python 3 (ipykernel)",
   "language": "python",
   "name": "python3"
  },
  "language_info": {
   "codemirror_mode": {
    "name": "ipython",
    "version": 3
   },
   "file_extension": ".py",
   "mimetype": "text/x-python",
   "name": "python",
   "nbconvert_exporter": "python",
   "pygments_lexer": "ipython3",
   "version": "3.9.18"
  }
 },
 "nbformat": 4,
 "nbformat_minor": 5
}
